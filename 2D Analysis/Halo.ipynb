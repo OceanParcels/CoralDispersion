{
 "cells": [
  {
   "cell_type": "markdown",
   "metadata": {},
   "source": [
    "Halo connectivity of objects"
   ]
  },
  {
   "cell_type": "markdown",
   "metadata": {},
   "source": [
    "This notebook is going to explore creating halo's around 'coral' objects that can be used to identify connectivity between corals through the flow. I think these halo's can be defined in the analysis part of the study, so all particleset output can be used"
   ]
  },
  {
   "cell_type": "markdown",
   "metadata": {},
   "source": [
    "Let's import the modules and define the output files to be analysed"
   ]
  },
  {
   "cell_type": "code",
   "execution_count": 1,
   "metadata": {},
   "outputs": [],
   "source": [
    "%matplotlib qt\n",
    "import numpy as np\n",
    "import matplotlib.pyplot as plt\n",
    "import matplotlib.animation as animation\n",
    "from datetime import timedelta\n",
    "import xarray as xr\n",
    "from explfunctions import coraldistancemap, followPath\n",
    "import cmocean\n",
    "import seaborn as sns"
   ]
  },
  {
   "cell_type": "code",
   "execution_count": 2,
   "metadata": {},
   "outputs": [],
   "source": [
    "name = 'output-corals-regridded'\n",
    "fb = 'forward' #variable to determine whether the flowfields are analysed 'forward' or 'backward' in time\n",
    "runtime=timedelta(seconds=10)                            # total time to execute the particleset\n",
    "outputdt = timedelta(seconds=0.01)\n",
    "filename = name+'.nc'"
   ]
  },
  {
   "cell_type": "code",
   "execution_count": 3,
   "metadata": {},
   "outputs": [],
   "source": [
    "flowdata = xr.open_dataset(filename)"
   ]
  },
  {
   "cell_type": "markdown",
   "metadata": {},
   "source": [
    "Now we are going to use the flowdata to retrieve the mask and subsequently create a mask of the 'coastal' gridpoints, which are the coral gridpoints that border the flow. These will be used to calculate the distance to the nearest coral object."
   ]
  },
  {
   "cell_type": "code",
   "execution_count": 4,
   "metadata": {},
   "outputs": [],
   "source": [
    "umask = np.ma.masked_invalid(flowdata['U'][0])"
   ]
  },
  {
   "cell_type": "markdown",
   "metadata": {},
   "source": [
    "The points needed to find the smallest distance to the corals are all the coral points that do not have their four nearest neighbours as coral cells. In the middle of the grid we check if i+1, i-1, j+1 and j-1 are True. At the borders we create exceptions so the index does not become out of bounds."
   ]
  },
  {
   "cell_type": "code",
   "execution_count": 5,
   "metadata": {},
   "outputs": [],
   "source": [
    "# cmask=np.copy(umask.mask)\n",
    "# for i in range(len(umask)):\n",
    "#     for j in range(len(umask[i])):\n",
    "#         if umask.mask[i,j] == True:\n",
    "#             if i>0 and i<len(umask)-1 and j>0 and j<len(umask[i])-1:\n",
    "#                 if umask.mask[i-1,j]==True and umask.mask[i+1,j]==True and umask.mask[i,j-1]==True and umask.mask[i,j+1]==True:\n",
    "#                     cmask[i,j]=False\n",
    "#             elif i==0 and j>0 and j<len(umask[i])-1:\n",
    "#                 if umask.mask[i+1,j]==True and umask.mask[i,j-1]==True and umask.mask[i,j+1]==True:\n",
    "#                     cmask[i,j]=False\n",
    "#             elif i==len(umask)-1 and j>0 and j<len(umask[i])-1:\n",
    "#                 if umask.mask[i-1,j]==True and umask.mask[i,j-1]==True and umask.mask[i,j+1]==True:\n",
    "#                     cmask[i,j]=False\n",
    "#             elif i>0 and i<len(umask)-1 and j==0:\n",
    "#                 if umask.mask[i-1,j]==True and umask.mask[i+1,j]==True and umask.mask[i,j+1]==True:\n",
    "#                     cmask[i,j]=False\n",
    "#             elif i>0 and i<len(umask)-1 and j==len(umask[i])-1:\n",
    "#                 if umask.mask[i-1,j]==True and umask.mask[i+1,j]==True and umask.mask[i,j-1]==True:\n",
    "#                     cmask[i,j]=False\n",
    "#             elif i==0 and j==0:\n",
    "#                 if umask.mask[i+1,j]==True and umask.mask[i,j+1]==True:\n",
    "#                     cmask[i,j]=False\n",
    "#             elif i==0 and j==len(umask[i])-1:\n",
    "#                 if umask.mask[i+1,j]==True and umask.mask[i,j-1]==True:\n",
    "#                     cmask[i,j]=False\n",
    "#             elif i==len(umask)-1 and j==0:\n",
    "#                 if umask.mask[i-1,j]==True and umask.mask[i,j+1]==True:\n",
    "#                     cmask[i,j]=False\n",
    "#             elif i==len(umask)-1 and j==len(umask[i])-1:\n",
    "#                 if umask.mask[i-1,j]==True and umask.mask[i,j-1]==True:\n",
    "#                     cmask[i,j]=False\n",
    "# np.save('coastmask',cmask,allow_pickle=True)"
   ]
  },
  {
   "cell_type": "code",
   "execution_count": 6,
   "metadata": {},
   "outputs": [],
   "source": [
    "xmesh,ymesh = np.meshgrid(flowdata['X'],flowdata['Y'])"
   ]
  },
  {
   "cell_type": "markdown",
   "metadata": {},
   "source": [
    "Create the distance map called coralmap by calling function and passing the mask of all coral cells, the mask of the 'coastal' cells and the meshgrid. Then either save or load the coralmap"
   ]
  },
  {
   "cell_type": "code",
   "execution_count": 7,
   "metadata": {},
   "outputs": [],
   "source": [
    "# mat,coralmap = coraldistancemap(umask.mask,cmask,xmesh,ymesh)\n",
    "# np.save('coralmap',coralmap,allow_pickle=True)\n",
    "coralmap = np.load('coralmap.npy')"
   ]
  },
  {
   "cell_type": "markdown",
   "metadata": {},
   "source": [
    "Plot the distance map with the coral objects masked"
   ]
  },
  {
   "cell_type": "code",
   "execution_count": 8,
   "metadata": {},
   "outputs": [],
   "source": [
    "# %matplotlib qt\n",
    "# fig = plt.figure(figsize=(18,2))\n",
    "# ax = plt.axes()\n",
    "# ax.set_facecolor('k')\n",
    "# ax.contourf(flowdata['X'],flowdata['Y'],flowdata['U'][0],np.linspace(-10,-9,21),extend='both',cmap=cmocean.cm.ice)\n",
    "# sc = ax.scatter(xmesh[~umask.mask],ymesh[~umask.mask],c=coralmap[~umask.mask],s=10,cmap=cmocean.cm.amp)\n",
    "# cbar = fig.colorbar(sc,label='Distance from coral [m]')\n",
    "# plt.ylim(flowdata['Y'][-1],flowdata['Y'][0])\n",
    "# plt.xlim(flowdata['X'][0],flowdata['X'][-1])\n",
    "# plt.ylabel('Height [m]')\n",
    "# plt.xlabel('Horizontal distance [m]')"
   ]
  },
  {
   "cell_type": "markdown",
   "metadata": {},
   "source": [
    "Now analyse the particle output with the information on distance to the nearest coral"
   ]
  },
  {
   "cell_type": "code",
   "execution_count": 9,
   "metadata": {},
   "outputs": [],
   "source": [
    "name = 'output-corals-regridded'\n",
    "fb = 'backward' #variable to determine whether the flowfields are analysed 'forward' or 'backward' in time\n",
    "runtime=timedelta(seconds=10)                            # total time to execute the particleset\n",
    "outputdt = timedelta(seconds=0.1)\n",
    "filename = name+'.nc'\n",
    "dfilename = name+fb+str(runtime.seconds)+'.nc'"
   ]
  },
  {
   "cell_type": "code",
   "execution_count": 10,
   "metadata": {},
   "outputs": [],
   "source": [
    "distdata = xr.open_dataset(dfilename)\n",
    "\n",
    "flowdata = xr.open_dataset(filename)"
   ]
  },
  {
   "cell_type": "code",
   "execution_count": 11,
   "metadata": {},
   "outputs": [],
   "source": [
    "x,y = np.meshgrid(flowdata['X'],flowdata['Y'])\n",
    "um = np.ma.masked_invalid(flowdata['U'][0,:,:])                    # retrieve mask from flowfield to take out points over coral objects\n",
    "\n",
    "lons = np.ma.masked_array(x,mask=um.mask)             # mask points in meshgrid\n",
    "lons = lons.flatten()\n",
    "ds = np.ma.masked_array(y,mask=um.mask)                 # mask points in meshgrid\n",
    "ds = ds.flatten()\n",
    "\n",
    "usm = np.invert(um.mask)\n",
    "lonm = np.ma.masked_array(x,mask=usm)             # mask points in meshgrid\n",
    "lonm = lonm.flatten()\n",
    "dm = np.ma.masked_array(y,mask=usm)                 # mask points in meshgrid\n",
    "dm = dm.flatten()"
   ]
  },
  {
   "cell_type": "code",
   "execution_count": 12,
   "metadata": {},
   "outputs": [],
   "source": [
    "# traj = 68000\n",
    "# fig = plt.figure(figsize=(18,2))\n",
    "# ax = plt.axes()\n",
    "# ax.set_facecolor('k')\n",
    "# # ax.scatter(lons,ds,s=7,c='c',label='flow gridpoint')\n",
    "# # ax.scatter(lonm,dm,s=15,c='k',label='coral gridpoint')\n",
    "# ax.contourf(flowdata['X'],flowdata['Y'],flowdata['U'][0],np.linspace(-10,-9,21),extend='both',cmap=cmocean.cm.ice)\n",
    "# sc = ax.scatter(distdata['lon'].isel(traj=traj,obs=slice(1,-1)),-distdata['z'].isel(traj=traj,obs=slice(1,-1)),c=distdata['d2c'].isel(traj=traj,obs=slice(1,-1)),marker='o',cmap=cmocean.cm.amp_r)\n",
    "# cbar = fig.colorbar(sc,label='Distance from coral [m]')\n",
    "# plt.ylabel('Height [m]')\n",
    "# plt.xlabel('Horizontal distance [m]')\n",
    "# plt.ylim(flowdata['Y'][-1],flowdata['Y'][0])\n",
    "# plt.xlim(flowdata['X'][0],flowdata['X'][-1])"
   ]
  },
  {
   "cell_type": "markdown",
   "metadata": {},
   "source": [
    "Now that we have the halo with distances, we want to analyse the particles that start near the corals.\n",
    "Secondly we will try to separate the different coral objects and observe their interconnectivity"
   ]
  },
  {
   "cell_type": "code",
   "execution_count": 13,
   "metadata": {},
   "outputs": [],
   "source": [
    "d2cmax = 0.02\n",
    "ddata = distdata.where(distdata['d2c'][:,1]<d2cmax,drop=True)"
   ]
  },
  {
   "cell_type": "markdown",
   "metadata": {},
   "source": [
    "Plot the particles where the initial distance to the coral is smaller than d2cmax"
   ]
  },
  {
   "cell_type": "code",
   "execution_count": 14,
   "metadata": {},
   "outputs": [],
   "source": [
    "# fig = plt.figure(figsize=(18,2))\n",
    "# ax = plt.axes()\n",
    "# ax.scatter(ddata['lon'][:,1],-ddata['z'][:,1],s=7)"
   ]
  },
  {
   "cell_type": "code",
   "execution_count": 15,
   "metadata": {},
   "outputs": [],
   "source": [
    "# fig = plt.figure(figsize=(18,4))\n",
    "# ax = plt.axes()\n",
    "# ax.set_facecolor('k')\n",
    "# cf = ax.contourf(flowdata['X'],flowdata['Y'],flowdata['U'][8,:,:],np.linspace(-10,-9,21),extend='both',cmap='cool_r')\n",
    "# sc = ax.scatter(ddata['lon'][:,0], -ddata['z'][:,0], c=ddata['d2c'][:,1],s=10, marker=\"o\",cmap=cmocean.cm.amp)\n",
    "# time_text = ax.text(0.05, 0.95,'',horizontalalignment='left',verticalalignment='top', transform=ax.transAxes)\n",
    "# cbar = fig.colorbar(sc,label='Initial distance from coral [m]')\n",
    "\n",
    "# def animate(i,fig,sc):\n",
    "#     sc.set_offsets(np.c_[ddata['lon'][:,i], -ddata['z'][:,i]])\n",
    "#     ts = i*outputdt.microseconds/1000000\n",
    "#     time_text.set_text('time = %.1f seconds' % ts)\n",
    "#     return sc, time_text,\n",
    "\n",
    "# ax.set_xlabel(\"x [m]\")\n",
    "# ax.set_ylabel(\"z (m)\")\n",
    "# ax.set_xlim(-0.5,8.5)\n",
    "# ax.set_ylim(-0.49,0.5)\n",
    "# anim = animation.FuncAnimation(fig, animate, fargs = (fig, sc),\n",
    "#                                frames = len(ddata['lon'][0]), blit=True)\n",
    "# # anim.save('Figures/d2c'+filename+'-'+str(runtime.seconds)+'-'+fb+str(d2cmax)+'.mp4')\n",
    "# plt.show()"
   ]
  },
  {
   "cell_type": "code",
   "execution_count": 17,
   "metadata": {},
   "outputs": [],
   "source": [
    "fig = plt.figure(figsize=(10,4))\n",
    "ax = plt.axes()\n",
    "ax.set_facecolor('k')\n",
    "cf = ax.contourf(flowdata['X'],flowdata['Y'],flowdata['U'][8,:,:],np.linspace(-10,-9,21),extend='both',cmap=cmocean.cm.dense_r)\n",
    "sc = ax.scatter(ddata['lon'][:,0], -ddata['z'][:,0], c=ddata['lon'][:,0],s=10, marker=\"o\",cmap='Spectral_r')\n",
    "time_text = ax.text(0.05, 0.95,'',horizontalalignment='left',verticalalignment='top', transform=ax.transAxes)\n",
    "cbar = fig.colorbar(sc,orientation= 'horizontal',label='Initial x-position [m]')\n",
    "\n",
    "def animate(i,fig,sc):\n",
    "    sc.set_offsets(np.c_[ddata['lon'][:,i], -ddata['z'][:,i]])\n",
    "    ts = i*outputdt.microseconds/1000000\n",
    "    time_text.set_text('time = %.1f seconds' % ts)\n",
    "    return sc, time_text,\n",
    "\n",
    "ax.set_xlabel(\"x [m]\")\n",
    "ax.set_ylabel(\"z (m)\")\n",
    "ax.set_xlim(-0.5,8.5)\n",
    "ax.set_ylim(-0.49,0.5)\n",
    "anim = animation.FuncAnimation(fig, animate, fargs = (fig, sc),\n",
    "                               frames = len(ddata['lon'][0]), blit=True)\n",
    "anim.save('Figures/d2clonc'+filename+'-'+str(runtime.seconds)+'-'+fb+str(d2cmax)+'.mp4')\n",
    "plt.show()"
   ]
  },
  {
   "cell_type": "markdown",
   "metadata": {},
   "source": [
    "Now we are going to try to look at different coral objects.\n",
    "Find first object"
   ]
  },
  {
   "cell_type": "code",
   "execution_count": 17,
   "metadata": {},
   "outputs": [],
   "source": [
    "coastmask = np.load('coastmask.npy')\n",
    "# plt.contourf(flowdata['X'],flowdata['Y'],coastmask)"
   ]
  },
  {
   "cell_type": "code",
   "execution_count": 18,
   "metadata": {},
   "outputs": [],
   "source": [
    "# fig = plt.figure(figsize=(10,4))\n",
    "# ax = plt.axes()\n",
    "# sc = ax.scatter(xmesh[coastmask],ymesh[coastmask],s=10)"
   ]
  },
  {
   "cell_type": "code",
   "execution_count": 19,
   "metadata": {},
   "outputs": [
    {
     "data": {
      "text/plain": [
       "array([], shape=(0, 100, 900), dtype=bool)"
      ]
     },
     "execution_count": 19,
     "metadata": {},
     "output_type": "execute_result"
    }
   ],
   "source": [
    "objects = np.zeros((0,len(coastmask),len(coastmask[0])),dtype=bool)\n",
    "objects"
   ]
  },
  {
   "cell_type": "code",
   "execution_count": 20,
   "metadata": {},
   "outputs": [],
   "source": [
    "check = 0\n",
    "for i in range(len(coastmask)):\n",
    "    for j in range(len(coastmask[i])):\n",
    "        if coastmask[i,j] == True:\n",
    "            coastmask[i,j] = False\n",
    "#             if objects[:,i+1,j].any():\n",
    "#                 objects[:,i,j][objects[:,i+1,j]] = True\n",
    "#             elif objects[:,i+1,j+1].any():\n",
    "#                 objects[:,i,j][objects[:,i+1,j+1]] = True\n",
    "#             elif objects[:,i,j+1].any():\n",
    "#                 objects[:,i,j][objects[:,i,j+1]] = True\n",
    "#             elif objects[:,i-1,j+1].any():\n",
    "#                 objects[:,i,j][objects[:,i-1,j+1]] = True\n",
    "#             elif objects[:,i-1,j].any():\n",
    "#                 objects[:,i,j][objects[:,i-1,j]] = True\n",
    "#             elif objects[:,i-1,j-1].any():\n",
    "#                 objects[:,i,j][objects[:,i-1,j-1]] = True\n",
    "#             elif objects[:,i,j-1].any():\n",
    "#                 objects[:,i,j][objects[:,i,j-1]] = True\n",
    "#             elif objects[:,i+1,j-1].any():\n",
    "#                 objects[:,i,j][objects[:,i+1,j-1]] = True\n",
    "#             # check if next to object\n",
    "#             # add i,j to regarding object\n",
    "#             else:\n",
    "            object1 = np.zeros(coastmask.shape,dtype=bool)\n",
    "            object1[i,j] = True\n",
    "            coastmask, object1, x1, y1 = followPath(i,j,coastmask,object1)\n",
    "            coastmask, object1, x2, y2 = followPath(i,j,coastmask,object1)\n",
    "\n",
    "            check += 1\n",
    "        if check>0:\n",
    "            if -1<i+x1+1<len(coastmask) and -1<j+y1<len(coastmask[i]) and objects[:,i+x1+1,j+y1].any():\n",
    "                objects[:][objects[:,i+x1+1,j+y1]] = np.ma.mask_or(objects[:][objects[:,i+x1+1,j+y1]],object1)\n",
    "            elif -1<i+x1+1<len(coastmask) and -1<j+y1+1<len(coastmask[i]) and objects[:,i+x1+1,j+y1+1].any():\n",
    "                objects[:][objects[:,i+x1+1,j+y1+1]] = np.ma.mask_or(objects[:][objects[:,i+x1+1,j+y1+1]],object1)\n",
    "            elif -1<i+x1<len(coastmask) and -1<j+y1+1<len(coastmask[i]) and objects[:,i+x1,j+y1+1].any():\n",
    "                objects[:][objects[:,i+x1,j+y1+1]] = np.ma.mask_or(objects[:][objects[:,i+x1,j+y1+1]],object1)\n",
    "            elif -1<i+x1-1<len(coastmask) and -1<j+y1+1<len(coastmask[i]) and objects[:,i+x1-1,j+y1+1].any():\n",
    "                objects[:][objects[:,i+x1-1,j+y1+1]] = np.ma.mask_or(objects[:][objects[:,i+x1-1,j+y1+1]],object1)\n",
    "            elif -1<i+x1-1<len(coastmask) and -1<j+y1<len(coastmask[i]) and objects[:,i+x1-1,j+y1].any():\n",
    "                objects[:][objects[:,i+x1-1,j+y1]] = np.ma.mask_or(objects[:][objects[:,i+x1-1,j+y1]],object1)\n",
    "            elif -1<i+x1-1<len(coastmask) and -1<j+y1-1<len(coastmask[i]) and objects[:,i+x1-1,j+y1-1].any():\n",
    "                objects[:][objects[:,i+x1-1,j+y1-1]] = np.ma.mask_or(objects[:][objects[:,i+x1-1,j+y1-1]],object1)\n",
    "            elif -1<i+x1<len(coastmask) and -1<j+y1-1<len(coastmask[i]) and objects[:,i+x1,j+y1-1].any():\n",
    "                objects[:][objects[:,i+x1,j+y1-1]] = np.ma.mask_or(objects[:][objects[:,i+x1,j+y1-1]],object1)\n",
    "            elif -1<i+x1+1<len(coastmask) and -1<j+y1-1<len(coastmask[i]) and objects[:,i+x1+1,j+y1-1].any():\n",
    "                objects[:][objects[:,i+x1+1,j+y1-1]] = np.ma.mask_or(objects[:][objects[:,i+x1+1,j+y1-1]],object1)\n",
    "            elif -1<i+x2+1<len(coastmask) and -1<j+y2<len(coastmask[i]) and objects[:,i+x2+1,j+y2].any():\n",
    "                objects[:][objects[:,i+x2+1,j+y2]] = np.ma.mask_or(objects[:][objects[:,i+x2+1,j+y2]],object1)\n",
    "            elif -1<i+x2+1<len(coastmask) and -1<j+y2+1<len(coastmask[i]) and objects[:,i+x2+1,j+y2+1].any():\n",
    "                objects[:][objects[:,i+x2+1,j+y2+1]] = np.ma.mask_or(objects[:][objects[:,i+x2+1,j+y2+1]],object1)\n",
    "            elif -1<i+x2<len(coastmask) and -1<j+y2+1<len(coastmask[i]) and objects[:,i+x2,j+y2+1].any():\n",
    "                objects[:][objects[:,i+x2,j+y2+1]] = np.ma.mask_or(objects[:][objects[:,i+x2,j+y2+1]],object1)\n",
    "            elif -1<i+x2-1<len(coastmask) and -1<j+y2+1<len(coastmask[i]) and objects[:,i+x2-1,j+y2+1].any():\n",
    "                objects[:][objects[:,i+x2-1,j+y2+1]] = np.ma.mask_or(objects[:][objects[:,i+x2-1,j+y2+1]],object1)\n",
    "            elif -1<i+x2-1<len(coastmask) and -1<j+y2<len(coastmask[i]) and objects[:,i+x2-1,j+y2].any():\n",
    "                objects[:][objects[:,i+x2-1,j+y2]] = np.ma.mask_or(objects[:][objects[:,i+x2-1,j+y2]],object1)\n",
    "            elif -1<i+x2-1<len(coastmask) and -1<j+y2-1<len(coastmask[i]) and objects[:,i+x2-1,j+y2-1].any():\n",
    "                objects[:][objects[:,i+x2-1,j+y2-1]] = np.ma.mask_or(objects[:][objects[:,i+x2-1,j+y2-1]],object1)\n",
    "            elif -1<i+x2<len(coastmask) and -1<j+y2-1<len(coastmask[i]) and objects[:,i+x2,j+y2-1].any():\n",
    "                objects[:][objects[:,i+x2,j+y2-1]] = np.ma.mask_or(objects[:][objects[:,i+x2,j+y2-1]],object1)\n",
    "            elif -1<i+x2+1<len(coastmask) and -1<j+y2-1<len(coastmask[i]) and objects[:,i+x2+1,j+y2-1].any():\n",
    "                objects[:][objects[:,i+x2+1,j+y2-1]] = np.ma.mask_or(objects[:][objects[:,i+x2+1,j+y2-1]],object1)\n",
    "            else:\n",
    "                object1 = np.expand_dims(object1,axis=0)\n",
    "                objects = np.concatenate((objects,object1),axis=0)\n",
    "            check = 0"
   ]
  },
  {
   "cell_type": "code",
   "execution_count": 21,
   "metadata": {},
   "outputs": [
    {
     "data": {
      "text/plain": [
       "array([ True,  True, False])"
      ]
     },
     "execution_count": 21,
     "metadata": {},
     "output_type": "execute_result"
    }
   ],
   "source": [
    "m1 = np.ma.make_mask([1,1,0])\n",
    "m2 = np.ma.make_mask([1,0,0])\n",
    "np.ma.mask_or(m1,m2)"
   ]
  },
  {
   "cell_type": "code",
   "execution_count": 22,
   "metadata": {},
   "outputs": [
    {
     "data": {
      "text/plain": [
       "(22, 100, 900)"
      ]
     },
     "execution_count": 22,
     "metadata": {},
     "output_type": "execute_result"
    }
   ],
   "source": [
    "objects.shape"
   ]
  },
  {
   "cell_type": "code",
   "execution_count": 23,
   "metadata": {},
   "outputs": [],
   "source": [
    "# end = 0\n",
    "# obnr = 1\n",
    "# for i in range(len(coastmask)):\n",
    "#     for j in range(len(coastmask[i])):\n",
    "#         if coastmask[i,j] == True:\n",
    "#             if -1<i+1<len(coastmask)-1 and -1<j<len(coastmask[i])-1 and object1[i+1,j] == True:\n",
    "#                 object1[i,j] = True\n",
    "#                 coastmask[i,j] = False\n",
    "#             elif -1<i+1<len(coastmask)-1 and -1<j+1<len(coastmask[i])-1 and object1[i+1,j+1] == True:\n",
    "#                 object1[i,j] = True\n",
    "#                 coastmask[i,j] = False\n",
    "#             elif -1<i<len(coastmask)-1 and -1<j+1<len(coastmask[i])-1 and object1[i,j+1] == True:\n",
    "#                 object1[i,j] = True\n",
    "#                 coastmask[i,j] = False\n",
    "#             elif -1<i-1<len(coastmask)-1 and -1<j+1<len(coastmask[i])-1 and coastmask[i-1,j+1] == True:\n",
    "#                 object1[i,j] = True\n",
    "#                 coastmask[i,j] = False\n",
    "#             elif -1<i-1<len(coastmask)-1 and -1<j<len(coastmask[i])-1 and coastmask[i-1,j] == True:\n",
    "#                 object1[i,j] = True\n",
    "#                 coastmask[i,j] = False\n",
    "#             elif -1<i-1<len(coastmask)-1 and -1<j-1<len(coastmask[i])-1 and coastmask[i-1,j-1] == True:\n",
    "#                 object1[i,j] = True\n",
    "#                 coastmask[i,j] = False\n",
    "#             elif -1<i<len(coastmask)-1 and -1<j-1<len(coastmask[i])-1 and coastmask[i,j-1] == True:\n",
    "#                 object1[i,j] = True\n",
    "#                 coastmask[i,j] = False\n",
    "#             elif -1<i+1<len(coastmask)-1 and -1<j-1<len(coastmask[i])-1 and coastmask[i+1,j-1] == True:\n",
    "#                 object1[i,j] = True\n",
    "#                 coastmask[i,j] = False\n",
    "            \n",
    "#             object1[i,j] = True\n",
    "#             coastmask[i,j] = False\n",
    "#             x1 = 0\n",
    "#             y1 = 0\n",
    "#             x2 = 0\n",
    "#             y2 = 0\n",
    "#             while end<1:\n",
    "#                 if -1<i+x1+1<len(coastmask)-1 and -1<j+y1<len(coastmask[i])-1 and coastmask[i+x1+1,j+y1] == True:\n",
    "#                     object1[i+x1+1,j+y1] = True\n",
    "#                     coastmask[i+x1+1,j+y1] = False\n",
    "#                     x1 += 1\n",
    "#                 elif -1<i+x1+1<len(coastmask)-1 and -1<j+y1+1<len(coastmask[i])-1 and coastmask[i+x1+1,j+y1+1] == True:\n",
    "#                     object1[i+x1+1,j+y1+1] = True\n",
    "#                     coastmask[i+x1+1,j+y1+1] = False\n",
    "#                     x1 += 1\n",
    "#                     y1 += 1\n",
    "#                 elif -1<i+x1<len(coastmask)-1 and -1<j+y1+1<len(coastmask[i])-1 and coastmask[i+x1,j+y1+1] == True:\n",
    "#                     object1[i+x1,j+y1+1] = True\n",
    "#                     coastmask[i+x1,j+y1+1] = False\n",
    "#                     y1 += 1\n",
    "#                 elif -1<i+x1-1<len(coastmask)-1 and -1<j+y1+1<len(coastmask[i])-1 and coastmask[i+x1-1,j+y1+1] == True:\n",
    "#                     object1[i+x1-1,j+y1+1] = True\n",
    "#                     coastmask[i+x1-1,j+y1+1] = False\n",
    "#                     x1 += -1\n",
    "#                     y1 += 1\n",
    "#                 elif -1<i+x1-1<len(coastmask)-1 and -1<j+y1<len(coastmask[i])-1 and coastmask[i+x1-1,j+y1] == True:\n",
    "#                     object1[i+x1-1,j+y1] = True\n",
    "#                     coastmask[i+x1-1,j+y1] = False\n",
    "#                     x1 += -1\n",
    "#                 elif -1<i+x1-1<len(coastmask)-1 and -1<j+y1-1<len(coastmask[i])-1 and coastmask[i+x1-1,j+y1-1] == True:\n",
    "#                     object1[i+x1-1,j+y1-1] = True\n",
    "#                     coastmask[i+x1-1,j+y1-1] = False\n",
    "#                     x1 += -1\n",
    "#                     y1 += -1\n",
    "#                 elif -1<i+x1<len(coastmask)-1 and -1<j+y1-1<len(coastmask[i])-1 and coastmask[i+x1,j+y1-1] == True:\n",
    "#                     object1[i+x1,j+y1-1] = True\n",
    "#                     coastmask[i+x1,j+y1-1] = False\n",
    "#                     y1 += -1\n",
    "#                 elif -1<i+x1+1<len(coastmask)-1 and -1<j+y1-1<len(coastmask[i])-1 and coastmask[i+x1+1,j+y1-1] == True:\n",
    "#                     object1[i+x1+1,j+y1-1] = True\n",
    "#                     coastmask[i+x1+1,j+y1-1] = False\n",
    "#                     x1 += 1\n",
    "#                     y1 += -1\n",
    "#                 else:\n",
    "#                     end += 1\n",
    "#             while end<2:\n",
    "#                 if -1<i+x2+1<len(coastmask)-1 and -1<j+y2<len(coastmask[i])-1 and coastmask[i+x2+1,j+y2] == True:\n",
    "#                     object1[i+x2+1,j+y2] = True\n",
    "#                     coastmask[i+x2+1,j+y2] = False\n",
    "#                     x2 += 1\n",
    "#                 elif -1<i+x2+1<len(coastmask)-1 and -1<j+y2+1<len(coastmask[i])-1 and coastmask[i+x2+1,j+y2+1] == True:\n",
    "#                     object1[i+x2+1,j+y2+1] = True\n",
    "#                     coastmask[i+x2+1,j+y2+1] = False\n",
    "#                     x2 += 1\n",
    "#                     y2 += 1\n",
    "#                 elif -1<i+x2<len(coastmask)-1 and -1<j+y2+1<len(coastmask[i])-1 and coastmask[i+x2,j+y2+1] == True:\n",
    "#                     object1[i+x2,j+y2+1] = True\n",
    "#                     coastmask[i+x2,j+y2+1] = False\n",
    "#                     y2 += 1\n",
    "#                 elif -1<i+x2-1<len(coastmask)-1 and -1<j+y2+1<len(coastmask[i])-1 and coastmask[i+x2-1,j+y2+1] == True:\n",
    "#                     object1[i+x2-1,j+y2+1] = True\n",
    "#                     coastmask[i+x2-1,j+y2+1] = False\n",
    "#                     x2 += -1\n",
    "#                     y2 += 1\n",
    "#                 elif -1<i+x2-1<len(coastmask)-1 and -1<j+y2<len(coastmask[i])-1 and coastmask[i+x2-1,j+y2] == True:\n",
    "#                     object1[i+x2-1,j+y2] = True\n",
    "#                     coastmask[i+x2-1,j+y2] = False\n",
    "#                     x2 += -1\n",
    "#                 elif -1<i+x2-1<len(coastmask)-1 and -1<j+y2-1<len(coastmask[i])-1 and coastmask[i+x2-1,j+y2-1] == True:\n",
    "#                     object1[i+x2-1,j+y2-1] = True\n",
    "#                     coastmask[i+x2-1,j+y2-1] = False\n",
    "#                     x2 += -1\n",
    "#                     y2 += -1\n",
    "#                 elif -1<i+x2<len(coastmask)-1 and -1<j+y2-1<len(coastmask[i])-1 and coastmask[i+x2,j+y2-1] == True:\n",
    "#                     object1[i+x2,j+y2-1] = True\n",
    "#                     coastmask[i+x2,j+y2-1] = False\n",
    "#                     y2 += -1\n",
    "#                 elif -1<i+x2+1<len(coastmask)-1 and -1<j+y2-1<len(coastmask[i])-1 and coastmask[i+x2+1,j+y2-1] == True:\n",
    "#                     object1[i+x2+1,j+y2-1] = True\n",
    "#                     coastmask[i+x2+1,j+y2-1] = False\n",
    "#                     x2 += 1\n",
    "#                     y2 += -1\n",
    "#                 else:\n",
    "#                     end += 1 \n",
    "#             obnr += 1\n",
    "#             break\n",
    "#     if end>1:\n",
    "#         break"
   ]
  },
  {
   "cell_type": "code",
   "execution_count": 29,
   "metadata": {},
   "outputs": [
    {
     "name": "stderr",
     "output_type": "stream",
     "text": [
      "'c' argument looks like a single numeric RGB or RGBA sequence, which should be avoided as value-mapping will have precedence in case its length matches with 'x' & 'y'.  Please use a 2-D array with a single row if you really want to specify the same RGB or RGBA value for all points.\n",
      "'c' argument looks like a single numeric RGB or RGBA sequence, which should be avoided as value-mapping will have precedence in case its length matches with 'x' & 'y'.  Please use a 2-D array with a single row if you really want to specify the same RGB or RGBA value for all points.\n",
      "'c' argument looks like a single numeric RGB or RGBA sequence, which should be avoided as value-mapping will have precedence in case its length matches with 'x' & 'y'.  Please use a 2-D array with a single row if you really want to specify the same RGB or RGBA value for all points.\n",
      "'c' argument looks like a single numeric RGB or RGBA sequence, which should be avoided as value-mapping will have precedence in case its length matches with 'x' & 'y'.  Please use a 2-D array with a single row if you really want to specify the same RGB or RGBA value for all points.\n",
      "'c' argument looks like a single numeric RGB or RGBA sequence, which should be avoided as value-mapping will have precedence in case its length matches with 'x' & 'y'.  Please use a 2-D array with a single row if you really want to specify the same RGB or RGBA value for all points.\n",
      "'c' argument looks like a single numeric RGB or RGBA sequence, which should be avoided as value-mapping will have precedence in case its length matches with 'x' & 'y'.  Please use a 2-D array with a single row if you really want to specify the same RGB or RGBA value for all points.\n",
      "'c' argument looks like a single numeric RGB or RGBA sequence, which should be avoided as value-mapping will have precedence in case its length matches with 'x' & 'y'.  Please use a 2-D array with a single row if you really want to specify the same RGB or RGBA value for all points.\n",
      "'c' argument looks like a single numeric RGB or RGBA sequence, which should be avoided as value-mapping will have precedence in case its length matches with 'x' & 'y'.  Please use a 2-D array with a single row if you really want to specify the same RGB or RGBA value for all points.\n",
      "'c' argument looks like a single numeric RGB or RGBA sequence, which should be avoided as value-mapping will have precedence in case its length matches with 'x' & 'y'.  Please use a 2-D array with a single row if you really want to specify the same RGB or RGBA value for all points.\n",
      "'c' argument looks like a single numeric RGB or RGBA sequence, which should be avoided as value-mapping will have precedence in case its length matches with 'x' & 'y'.  Please use a 2-D array with a single row if you really want to specify the same RGB or RGBA value for all points.\n",
      "'c' argument looks like a single numeric RGB or RGBA sequence, which should be avoided as value-mapping will have precedence in case its length matches with 'x' & 'y'.  Please use a 2-D array with a single row if you really want to specify the same RGB or RGBA value for all points.\n",
      "'c' argument looks like a single numeric RGB or RGBA sequence, which should be avoided as value-mapping will have precedence in case its length matches with 'x' & 'y'.  Please use a 2-D array with a single row if you really want to specify the same RGB or RGBA value for all points.\n",
      "'c' argument looks like a single numeric RGB or RGBA sequence, which should be avoided as value-mapping will have precedence in case its length matches with 'x' & 'y'.  Please use a 2-D array with a single row if you really want to specify the same RGB or RGBA value for all points.\n",
      "'c' argument looks like a single numeric RGB or RGBA sequence, which should be avoided as value-mapping will have precedence in case its length matches with 'x' & 'y'.  Please use a 2-D array with a single row if you really want to specify the same RGB or RGBA value for all points.\n",
      "'c' argument looks like a single numeric RGB or RGBA sequence, which should be avoided as value-mapping will have precedence in case its length matches with 'x' & 'y'.  Please use a 2-D array with a single row if you really want to specify the same RGB or RGBA value for all points.\n",
      "'c' argument looks like a single numeric RGB or RGBA sequence, which should be avoided as value-mapping will have precedence in case its length matches with 'x' & 'y'.  Please use a 2-D array with a single row if you really want to specify the same RGB or RGBA value for all points.\n",
      "'c' argument looks like a single numeric RGB or RGBA sequence, which should be avoided as value-mapping will have precedence in case its length matches with 'x' & 'y'.  Please use a 2-D array with a single row if you really want to specify the same RGB or RGBA value for all points.\n",
      "'c' argument looks like a single numeric RGB or RGBA sequence, which should be avoided as value-mapping will have precedence in case its length matches with 'x' & 'y'.  Please use a 2-D array with a single row if you really want to specify the same RGB or RGBA value for all points.\n",
      "'c' argument looks like a single numeric RGB or RGBA sequence, which should be avoided as value-mapping will have precedence in case its length matches with 'x' & 'y'.  Please use a 2-D array with a single row if you really want to specify the same RGB or RGBA value for all points.\n",
      "'c' argument looks like a single numeric RGB or RGBA sequence, which should be avoided as value-mapping will have precedence in case its length matches with 'x' & 'y'.  Please use a 2-D array with a single row if you really want to specify the same RGB or RGBA value for all points.\n",
      "'c' argument looks like a single numeric RGB or RGBA sequence, which should be avoided as value-mapping will have precedence in case its length matches with 'x' & 'y'.  Please use a 2-D array with a single row if you really want to specify the same RGB or RGBA value for all points.\n",
      "'c' argument looks like a single numeric RGB or RGBA sequence, which should be avoided as value-mapping will have precedence in case its length matches with 'x' & 'y'.  Please use a 2-D array with a single row if you really want to specify the same RGB or RGBA value for all points.\n"
     ]
    }
   ],
   "source": [
    "from random import shuffle\n",
    "palette = sns.hls_palette(len(objects), l=.7, s=.8)\n",
    "shuffle(palette)\n",
    "fig = plt.figure(figsize=(18,2))\n",
    "ax = plt.axes()\n",
    "for i in range(len(objects)):\n",
    "    ax.scatter(xmesh[objects[i]],ymesh[objects[i]],s=10,c=palette[i])\n",
    "ax.scatter(xmesh[coastmask],ymesh[coastmask],s=20,c='k')\n",
    "ax.set_xlabel(\"x [m]\")\n",
    "ax.set_ylabel(\"height (m)\")\n",
    "plt.savefig('Figures/objects')"
   ]
  },
  {
   "cell_type": "code",
   "execution_count": 31,
   "metadata": {},
   "outputs": [],
   "source": [
    "\n"
   ]
  },
  {
   "cell_type": "code",
   "execution_count": 30,
   "metadata": {},
   "outputs": [
    {
     "data": {
      "text/plain": [
       "<matplotlib.collections.PathCollection at 0x1ec61e62710>"
      ]
     },
     "execution_count": 30,
     "metadata": {},
     "output_type": "execute_result"
    }
   ],
   "source": [
    "fig = plt.figure(figsize=(10,4))\n",
    "ax = plt.axes()\n",
    "ax.scatter(xmesh[objects[1]],ymesh[objects[1]],s=10)"
   ]
  },
  {
   "cell_type": "code",
   "execution_count": null,
   "metadata": {},
   "outputs": [],
   "source": []
  }
 ],
 "metadata": {
  "kernelspec": {
   "display_name": "Python 3",
   "language": "python",
   "name": "python3"
  },
  "language_info": {
   "codemirror_mode": {
    "name": "ipython",
    "version": 3
   },
   "file_extension": ".py",
   "mimetype": "text/x-python",
   "name": "python",
   "nbconvert_exporter": "python",
   "pygments_lexer": "ipython3",
   "version": "3.7.3"
  }
 },
 "nbformat": 4,
 "nbformat_minor": 4
}
