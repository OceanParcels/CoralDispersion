{
 "cells": [
  {
   "cell_type": "markdown",
   "metadata": {},
   "source": [
    "Halo connectivity of objects"
   ]
  },
  {
   "cell_type": "markdown",
   "metadata": {},
   "source": [
    "This notebook is going to explore creating halo's around 'coral' objects that can be used to identify connectivity between corals through the flow. I think these halo's can be defined in the analysis part of the study, so all particleset output can be used"
   ]
  },
  {
   "cell_type": "code",
   "execution_count": 1,
   "metadata": {},
   "outputs": [],
   "source": [
    "import numpy as np\n",
    "import matplotlib.pyplot as plt\n",
    "from datetime import timedelta\n",
    "import xarray as xr\n",
    "from explfunctions import coraldistancemap\n",
    "import cmocean"
   ]
  },
  {
   "cell_type": "code",
   "execution_count": 2,
   "metadata": {},
   "outputs": [],
   "source": [
    "name = 'output-corals-regridded'\n",
    "fb = 'forward' #variable to determine whether the flowfields are analysed 'forward' or 'backward' in time\n",
    "runtime=timedelta(seconds=10)                            # total time to execute the particleset\n",
    "outputdt = timedelta(seconds=0.01)\n",
    "filename = name+'.nc'\n",
    "dfilename = name+fb+str(runtime.seconds)+'.nc'"
   ]
  },
  {
   "cell_type": "code",
   "execution_count": 3,
   "metadata": {},
   "outputs": [],
   "source": [
    "data = xr.open_dataset(dfilename)\n",
    "\n",
    "flowdata = xr.open_dataset(filename)"
   ]
  },
  {
   "cell_type": "code",
   "execution_count": 4,
   "metadata": {},
   "outputs": [],
   "source": [
    "umask = np.ma.masked_invalid(flowdata['U'][0])"
   ]
  },
  {
   "cell_type": "code",
   "execution_count": 5,
   "metadata": {},
   "outputs": [],
   "source": [
    "cmask=np.copy(umask.mask)\n",
    "for i in range(len(umask)):\n",
    "    for j in range(len(umask[i])):\n",
    "        if umask.mask[i,j] == True:\n",
    "            if i>0 and i<len(umask)-1 and j>0 and j<len(umask[i])-1:\n",
    "                if umask.mask[i-1,j]==True and umask.mask[i+1,j]==True and umask.mask[i,j-1]==True and umask.mask[i,j+1]==True:\n",
    "                    cmask[i,j]=False\n",
    "            elif i==0 and j>0 and j<len(umask[i])-1:\n",
    "                if umask.mask[i+1,j]==True and umask.mask[i,j-1]==True and umask.mask[i,j+1]==True:\n",
    "                    cmask[i,j]=False\n",
    "            elif i==len(umask)-1 and j>0 and j<len(umask[i])-1:\n",
    "                if umask.mask[i-1,j]==True and umask.mask[i,j-1]==True and umask.mask[i,j+1]==True:\n",
    "                    cmask[i,j]=False\n",
    "            elif i>0 and i<len(umask)-1 and j==0:\n",
    "                if umask.mask[i-1,j]==True and umask.mask[i+1,j]==True and umask.mask[i,j+1]==True:\n",
    "                    cmask[i,j]=False\n",
    "            elif i>0 and i<len(umask)-1 and j==len(umask[i])-1:\n",
    "                if umask.mask[i-1,j]==True and umask.mask[i+1,j]==True and umask.mask[i,j-1]==True:\n",
    "                    cmask[i,j]=False\n",
    "            elif i==0 and j==0:\n",
    "                if umask.mask[i+1,j]==True and umask.mask[i,j+1]==True:\n",
    "                    cmask[i,j]=False\n",
    "            elif i==0 and j==len(umask[i])-1:\n",
    "                if umask.mask[i+1,j]==True and umask.mask[i,j-1]==True:\n",
    "                    cmask[i,j]=False\n",
    "            elif i==len(umask)-1 and j==0:\n",
    "                if umask.mask[i-1,j]==True and umask.mask[i,j+1]==True:\n",
    "                    cmask[i,j]=False\n",
    "            elif i==len(umask)-1 and j==len(umask[i])-1:\n",
    "                if umask.mask[i-1,j]==True and umask.mask[i,j-1]==True:\n",
    "                    cmask[i,j]=False\n",
    "np.save('coastmask',cmask,allow_pickle=True)"
   ]
  },
  {
   "cell_type": "code",
   "execution_count": 6,
   "metadata": {},
   "outputs": [],
   "source": [
    "xmesh,ymesh = np.meshgrid(flowdata['X'],flowdata['Y'])"
   ]
  },
  {
   "cell_type": "code",
   "execution_count": 7,
   "metadata": {},
   "outputs": [],
   "source": [
    "# mat,coralmap = coraldistancemap(umask.mask,cmask,xmesh,ymesh)\n",
    "# np.save('coralmap',coralmap,allow_pickle=True)\n",
    "coralmap = np.load('coralmap.npy')"
   ]
  },
  {
   "cell_type": "code",
   "execution_count": 11,
   "metadata": {},
   "outputs": [
    {
     "data": {
      "text/plain": [
       "Text(0.5, 0, 'Horizontal distance [m]')"
      ]
     },
     "execution_count": 11,
     "metadata": {},
     "output_type": "execute_result"
    }
   ],
   "source": [
    "fig = plt.figure(figsize=(18,2))\n",
    "ax = plt.axes()\n",
    "ax.set_facecolor('k')\n",
    "ax.contourf(flowdata['X'],flowdata['Y'],flowdata['U'][0],np.linspace(-10,-9,21),extend='both',cmap=cmocean.cm.ice)\n",
    "sc = ax.scatter(xmesh[~umask.mask],ymesh[~umask.mask],c=coralmap[~umask.mask],s=10,cmap=cmocean.cm.amp_r)\n",
    "cbar = fig.colorbar(sc,label='Distance from coral [m]')\n",
    "plt.ylim(flowdata['Y'][-1],flowdata['Y'][0])\n",
    "plt.xlim(flowdata['X'][0],flowdata['X'][-1])\n",
    "plt.ylabel('Height [m]')\n",
    "plt.xlabel('Horizontal distance [m]')"
   ]
  },
  {
   "cell_type": "code",
   "execution_count": 12,
   "metadata": {},
   "outputs": [],
   "source": [
    "name = 'output-corals-regridded'\n",
    "fb = 'forward' #variable to determine whether the flowfields are analysed 'forward' or 'backward' in time\n",
    "runtime=timedelta(seconds=5)                            # total time to execute the particleset\n",
    "outputdt = timedelta(seconds=0.1)\n",
    "filename = name+'.nc'\n",
    "dfilename = 'test'+name+fb+str(runtime.seconds)+'.nc'"
   ]
  },
  {
   "cell_type": "code",
   "execution_count": 13,
   "metadata": {},
   "outputs": [],
   "source": [
    "distdata = xr.open_dataset(dfilename)\n",
    "\n",
    "flowdata = xr.open_dataset(filename)"
   ]
  },
  {
   "cell_type": "code",
   "execution_count": 14,
   "metadata": {},
   "outputs": [],
   "source": [
    "x,y = np.meshgrid(flowdata['X'],flowdata['Y'])\n",
    "um = np.ma.masked_invalid(flowdata['U'][0,:,:])                    # retrieve mask from flowfield to take out points over coral objects\n",
    "\n",
    "lons = np.ma.masked_array(x,mask=um.mask)             # mask points in meshgrid\n",
    "lons = lons.flatten()\n",
    "ds = np.ma.masked_array(y,mask=um.mask)                 # mask points in meshgrid\n",
    "ds = ds.flatten()\n",
    "\n",
    "usm = np.invert(um.mask)\n",
    "lonm = np.ma.masked_array(x,mask=usm)             # mask points in meshgrid\n",
    "lonm = lonm.flatten()\n",
    "dm = np.ma.masked_array(y,mask=usm)                 # mask points in meshgrid\n",
    "dm = dm.flatten()"
   ]
  },
  {
   "cell_type": "code",
   "execution_count": 15,
   "metadata": {},
   "outputs": [
    {
     "data": {
      "text/plain": [
       "(<xarray.DataArray 'X' ()>\n",
       " array(-0.5)\n",
       " Coordinates:\n",
       "     X        float64 -0.5\n",
       " Attributes:\n",
       "     units:    meters, <xarray.DataArray 'X' ()>\n",
       " array(8.49)\n",
       " Coordinates:\n",
       "     X        float64 8.49\n",
       " Attributes:\n",
       "     units:    meters)"
      ]
     },
     "execution_count": 15,
     "metadata": {},
     "output_type": "execute_result"
    }
   ],
   "source": [
    "%matplotlib qt\n",
    "traj = 68000\n",
    "fig = plt.figure(figsize=(18,2))\n",
    "ax = plt.axes()\n",
    "ax.set_facecolor('k')\n",
    "# ax.scatter(lons,ds,s=7,c='c',label='flow gridpoint')\n",
    "# ax.scatter(lonm,dm,s=15,c='k',label='coral gridpoint')\n",
    "ax.contourf(flowdata['X'],flowdata['Y'],flowdata['U'][0],np.linspace(-10,-9,21),extend='both',cmap=cmocean.cm.ice)\n",
    "sc = ax.scatter(distdata['lon'].isel(traj=traj,obs=slice(1,-1)),-distdata['z'].isel(traj=traj,obs=slice(1,-1)),c=distdata['d2c'].isel(traj=traj,obs=slice(1,-1)),marker='o',cmap=cmocean.cm.amp_r)\n",
    "cbar = fig.colorbar(sc,label='Distance from coral [m]')\n",
    "plt.ylabel('Height [m]')\n",
    "plt.xlabel('Horizontal distance [m]')\n",
    "plt.ylim(flowdata['Y'][-1],flowdata['Y'][0])\n",
    "plt.xlim(flowdata['X'][0],flowdata['X'][-1])"
   ]
  },
  {
   "cell_type": "code",
   "execution_count": null,
   "metadata": {},
   "outputs": [],
   "source": []
  }
 ],
 "metadata": {
  "kernelspec": {
   "display_name": "Python 3",
   "language": "python",
   "name": "python3"
  },
  "language_info": {
   "codemirror_mode": {
    "name": "ipython",
    "version": 3
   },
   "file_extension": ".py",
   "mimetype": "text/x-python",
   "name": "python",
   "nbconvert_exporter": "python",
   "pygments_lexer": "ipython3",
   "version": "3.7.3"
  }
 },
 "nbformat": 4,
 "nbformat_minor": 4
}
