{
 "cells": [
  {
   "cell_type": "markdown",
   "metadata": {},
   "source": [
    "Halo connectivity of objects"
   ]
  },
  {
   "cell_type": "markdown",
   "metadata": {},
   "source": [
    "This notebook is going to explore creating halo's around 'coral' objects that can be used to identify connectivity between corals through the flow. I think these halo's can be defined in the analysis part of the study, so all particleset output can be used"
   ]
  },
  {
   "cell_type": "markdown",
   "metadata": {},
   "source": [
    "Let's import the modules and define the output files to be analysed"
   ]
  },
  {
   "cell_type": "code",
   "execution_count": 1,
   "metadata": {},
   "outputs": [],
   "source": [
    "%matplotlib qt\n",
    "import numpy as np\n",
    "import matplotlib.pyplot as plt\n",
    "import matplotlib.animation as animation\n",
    "from datetime import timedelta\n",
    "import xarray as xr\n",
    "from explfunctions import coraldistancemap, followPath\n",
    "import cmocean\n",
    "import seaborn as sns"
   ]
  },
  {
   "cell_type": "code",
   "execution_count": 2,
   "metadata": {},
   "outputs": [],
   "source": [
    "name = 'output-corals-regridded'\n",
    "fb = 'forward' #variable to determine whether the flowfields are analysed 'forward' or 'backward' in time\n",
    "runtime=timedelta(seconds=10)                            # total time to execute the particleset\n",
    "outputdt = timedelta(seconds=0.01)\n",
    "filename = name+'.nc'"
   ]
  },
  {
   "cell_type": "code",
   "execution_count": 3,
   "metadata": {},
   "outputs": [],
   "source": [
    "flowdata = xr.open_dataset(filename)"
   ]
  },
  {
   "cell_type": "markdown",
   "metadata": {},
   "source": [
    "Now we are going to use the flowdata to retrieve the mask and subsequently create a mask of the 'coastal' gridpoints, which are the coral gridpoints that border the flow. These will be used to calculate the distance to the nearest coral object."
   ]
  },
  {
   "cell_type": "code",
   "execution_count": 4,
   "metadata": {},
   "outputs": [],
   "source": [
    "umask = np.ma.masked_invalid(flowdata['U'][0])"
   ]
  },
  {
   "cell_type": "markdown",
   "metadata": {},
   "source": [
    "The points needed to find the smallest distance to the corals are all the coral points that do not have their four nearest neighbours as coral cells. In the middle of the grid we check if i+1, i-1, j+1 and j-1 are True. At the borders we create exceptions so the index does not become out of bounds."
   ]
  },
  {
   "cell_type": "code",
   "execution_count": 5,
   "metadata": {},
   "outputs": [],
   "source": [
    "# cmask=np.copy(umask.mask)\n",
    "# for i in range(len(umask)):\n",
    "#     for j in range(len(umask[i])):\n",
    "#         if umask.mask[i,j] == True:\n",
    "#             if i>0 and i<len(umask)-1 and j>0 and j<len(umask[i])-1:\n",
    "#                 if umask.mask[i-1,j]==True and umask.mask[i+1,j]==True and umask.mask[i,j-1]==True and umask.mask[i,j+1]==True:\n",
    "#                     cmask[i,j]=False\n",
    "#             elif i==0 and j>0 and j<len(umask[i])-1:\n",
    "#                 if umask.mask[i+1,j]==True and umask.mask[i,j-1]==True and umask.mask[i,j+1]==True:\n",
    "#                     cmask[i,j]=False\n",
    "#             elif i==len(umask)-1 and j>0 and j<len(umask[i])-1:\n",
    "#                 if umask.mask[i-1,j]==True and umask.mask[i,j-1]==True and umask.mask[i,j+1]==True:\n",
    "#                     cmask[i,j]=False\n",
    "#             elif i>0 and i<len(umask)-1 and j==0:\n",
    "#                 if umask.mask[i-1,j]==True and umask.mask[i+1,j]==True and umask.mask[i,j+1]==True:\n",
    "#                     cmask[i,j]=False\n",
    "#             elif i>0 and i<len(umask)-1 and j==len(umask[i])-1:\n",
    "#                 if umask.mask[i-1,j]==True and umask.mask[i+1,j]==True and umask.mask[i,j-1]==True:\n",
    "#                     cmask[i,j]=False\n",
    "#             elif i==0 and j==0:\n",
    "#                 if umask.mask[i+1,j]==True and umask.mask[i,j+1]==True:\n",
    "#                     cmask[i,j]=False\n",
    "#             elif i==0 and j==len(umask[i])-1:\n",
    "#                 if umask.mask[i+1,j]==True and umask.mask[i,j-1]==True:\n",
    "#                     cmask[i,j]=False\n",
    "#             elif i==len(umask)-1 and j==0:\n",
    "#                 if umask.mask[i-1,j]==True and umask.mask[i,j+1]==True:\n",
    "#                     cmask[i,j]=False\n",
    "#             elif i==len(umask)-1 and j==len(umask[i])-1:\n",
    "#                 if umask.mask[i-1,j]==True and umask.mask[i,j-1]==True:\n",
    "#                     cmask[i,j]=False\n",
    "# np.save('coastmask',cmask,allow_pickle=True)"
   ]
  },
  {
   "cell_type": "code",
   "execution_count": 6,
   "metadata": {},
   "outputs": [],
   "source": [
    "xmesh,ymesh = np.meshgrid(flowdata['X'],flowdata['Y'])"
   ]
  },
  {
   "cell_type": "markdown",
   "metadata": {},
   "source": [
    "Create the distance map called coralmap by calling function and passing the mask of all coral cells, the mask of the 'coastal' cells and the meshgrid. Then either save or load the coralmap"
   ]
  },
  {
   "cell_type": "code",
   "execution_count": 7,
   "metadata": {},
   "outputs": [],
   "source": [
    "# mat,coralmap = coraldistancemap(umask.mask,cmask,xmesh,ymesh)\n",
    "# np.save('coralmap',coralmap,allow_pickle=True)\n",
    "coralmap = np.load('coralmap.npy')"
   ]
  },
  {
   "cell_type": "markdown",
   "metadata": {},
   "source": [
    "Plot the distance map with the coral objects masked"
   ]
  },
  {
   "cell_type": "code",
   "execution_count": 45,
   "metadata": {},
   "outputs": [
    {
     "data": {
      "text/plain": [
       "Text(0.5, 0, 'Horizontal distance [m]')"
      ]
     },
     "execution_count": 45,
     "metadata": {},
     "output_type": "execute_result"
    }
   ],
   "source": [
    "%matplotlib qt\n",
    "fig = plt.figure(figsize=(18,2))\n",
    "ax = plt.axes()\n",
    "ax.set_facecolor('k')\n",
    "ax.contourf(flowdata['X'],flowdata['Y'],flowdata['U'][0],np.linspace(-10,-9,21),extend='both',cmap=cmocean.cm.ice)\n",
    "sc = ax.scatter(xmesh[~umask.mask],ymesh[~umask.mask],c=coralmap[~umask.mask],s=10,cmap=cmocean.cm.amp)\n",
    "cbar = fig.colorbar(sc,label='Distance from coral [m]')\n",
    "plt.ylim(flowdata['Y'][-1],flowdata['Y'][0])\n",
    "plt.xlim(flowdata['X'][0],flowdata['X'][-1])\n",
    "plt.ylabel('Height [m]')\n",
    "plt.xlabel('Horizontal distance [m]')"
   ]
  },
  {
   "cell_type": "markdown",
   "metadata": {},
   "source": [
    "Now analyse the particle output with the information on distance to the nearest coral"
   ]
  },
  {
   "cell_type": "code",
   "execution_count": 9,
   "metadata": {},
   "outputs": [],
   "source": [
    "name = 'output-corals-regridded'\n",
    "fb = 'backward' #variable to determine whether the flowfields are analysed 'forward' or 'backward' in time\n",
    "runtime=timedelta(seconds=10)                            # total time to execute the particleset\n",
    "outputdt = timedelta(seconds=0.1)\n",
    "filename = name+'.nc'\n",
    "dfilename = name+fb+str(runtime.seconds)+'.nc'"
   ]
  },
  {
   "cell_type": "code",
   "execution_count": 10,
   "metadata": {},
   "outputs": [],
   "source": [
    "distdata = xr.open_dataset(dfilename)\n",
    "\n",
    "flowdata = xr.open_dataset(filename)"
   ]
  },
  {
   "cell_type": "code",
   "execution_count": 11,
   "metadata": {},
   "outputs": [],
   "source": [
    "x,y = np.meshgrid(flowdata['X'],flowdata['Y'])\n",
    "um = np.ma.masked_invalid(flowdata['U'][0,:,:])                    # retrieve mask from flowfield to take out points over coral objects\n",
    "\n",
    "lons = np.ma.masked_array(x,mask=um.mask)             # mask points in meshgrid\n",
    "lons = lons.flatten()\n",
    "ds = np.ma.masked_array(y,mask=um.mask)                 # mask points in meshgrid\n",
    "ds = ds.flatten()\n",
    "\n",
    "usm = np.invert(um.mask)\n",
    "lonm = np.ma.masked_array(x,mask=usm)             # mask points in meshgrid\n",
    "lonm = lonm.flatten()\n",
    "dm = np.ma.masked_array(y,mask=usm)                 # mask points in meshgrid\n",
    "dm = dm.flatten()"
   ]
  },
  {
   "cell_type": "code",
   "execution_count": 12,
   "metadata": {},
   "outputs": [],
   "source": [
    "# traj = 68000\n",
    "# fig = plt.figure(figsize=(18,2))\n",
    "# ax = plt.axes()\n",
    "# ax.set_facecolor('k')\n",
    "# # ax.scatter(lons,ds,s=7,c='c',label='flow gridpoint')\n",
    "# # ax.scatter(lonm,dm,s=15,c='k',label='coral gridpoint')\n",
    "# ax.contourf(flowdata['X'],flowdata['Y'],flowdata['U'][0],np.linspace(-10,-9,21),extend='both',cmap=cmocean.cm.ice)\n",
    "# sc = ax.scatter(distdata['lon'].isel(traj=traj,obs=slice(1,-1)),-distdata['z'].isel(traj=traj,obs=slice(1,-1)),c=distdata['d2c'].isel(traj=traj,obs=slice(1,-1)),marker='o',cmap=cmocean.cm.amp_r)\n",
    "# cbar = fig.colorbar(sc,label='Distance from coral [m]')\n",
    "# plt.ylabel('Height [m]')\n",
    "# plt.xlabel('Horizontal distance [m]')\n",
    "# plt.ylim(flowdata['Y'][-1],flowdata['Y'][0])\n",
    "# plt.xlim(flowdata['X'][0],flowdata['X'][-1])"
   ]
  },
  {
   "cell_type": "markdown",
   "metadata": {},
   "source": [
    "Now that we have the halo with distances, we want to analyse the particles that start near the corals.\n",
    "Secondly we will try to separate the different coral objects and observe their interconnectivity"
   ]
  },
  {
   "cell_type": "code",
   "execution_count": 13,
   "metadata": {},
   "outputs": [],
   "source": [
    "d2cmax = 0.02\n",
    "ddata = distdata.where(distdata['d2c'][:,1]<d2cmax,drop=True)"
   ]
  },
  {
   "cell_type": "markdown",
   "metadata": {},
   "source": [
    "Plot the particles where the initial distance to the coral is smaller than d2cmax"
   ]
  },
  {
   "cell_type": "code",
   "execution_count": 14,
   "metadata": {},
   "outputs": [],
   "source": [
    "# fig = plt.figure(figsize=(18,2))\n",
    "# ax = plt.axes()\n",
    "# ax.scatter(ddata['lon'][:,1],-ddata['z'][:,1],s=7)"
   ]
  },
  {
   "cell_type": "code",
   "execution_count": 15,
   "metadata": {},
   "outputs": [],
   "source": [
    "# fig = plt.figure(figsize=(18,4))\n",
    "# ax = plt.axes()\n",
    "# ax.set_facecolor('k')\n",
    "# cf = ax.contourf(flowdata['X'],flowdata['Y'],flowdata['U'][8,:,:],np.linspace(-10,-9,21),extend='both',cmap='cool_r')\n",
    "# sc = ax.scatter(ddata['lon'][:,0], -ddata['z'][:,0], c=ddata['d2c'][:,1],s=10, marker=\"o\",cmap=cmocean.cm.amp)\n",
    "# time_text = ax.text(0.05, 0.95,'',horizontalalignment='left',verticalalignment='top', transform=ax.transAxes)\n",
    "# cbar = fig.colorbar(sc,label='Initial distance from coral [m]')\n",
    "\n",
    "# def animate(i,fig,sc):\n",
    "#     sc.set_offsets(np.c_[ddata['lon'][:,i], -ddata['z'][:,i]])\n",
    "#     ts = i*outputdt.microseconds/1000000\n",
    "#     time_text.set_text('time = %.1f seconds' % ts)\n",
    "#     return sc, time_text,\n",
    "\n",
    "# ax.set_xlabel(\"x [m]\")\n",
    "# ax.set_ylabel(\"z (m)\")\n",
    "# ax.set_xlim(-0.5,8.5)\n",
    "# ax.set_ylim(-0.49,0.5)\n",
    "# anim = animation.FuncAnimation(fig, animate, fargs = (fig, sc),\n",
    "#                                frames = len(ddata['lon'][0]), blit=True)\n",
    "# # anim.save('Figures/d2c'+filename+'-'+str(runtime.seconds)+'-'+fb+str(d2cmax)+'.mp4')\n",
    "# plt.show()"
   ]
  },
  {
   "cell_type": "code",
   "execution_count": 16,
   "metadata": {},
   "outputs": [],
   "source": [
    "fig = plt.figure(figsize=(10,4))\n",
    "ax = plt.axes()\n",
    "ax.set_facecolor('k')\n",
    "cf = ax.contourf(flowdata['X'],flowdata['Y'],flowdata['U'][8,:,:],np.linspace(-10,-9,21),extend='both',cmap=cmocean.cm.dense_r)\n",
    "sc = ax.scatter(ddata['lon'][:,0], -ddata['z'][:,0], c=ddata['lon'][:,0],s=10, marker=\"o\",cmap='Spectral_r')\n",
    "time_text = ax.text(0.05, 0.95,'',horizontalalignment='left',verticalalignment='top', transform=ax.transAxes)\n",
    "cbar = fig.colorbar(sc,orientation= 'horizontal',label='Initial x-position [m]')\n",
    "\n",
    "def animate(i,fig,sc):\n",
    "    sc.set_offsets(np.c_[ddata['lon'][:,i], -ddata['z'][:,i]])\n",
    "    ts = i*outputdt.microseconds/1000000\n",
    "    time_text.set_text('time = %.1f seconds' % ts)\n",
    "    return sc, time_text,\n",
    "\n",
    "ax.set_xlabel(\"x [m]\")\n",
    "ax.set_ylabel(\"z (m)\")\n",
    "ax.set_xlim(-0.5,8.5)\n",
    "ax.set_ylim(-0.49,0.5)\n",
    "anim = animation.FuncAnimation(fig, animate, fargs = (fig, sc),\n",
    "                               frames = len(ddata['lon'][0]), blit=True)\n",
    "# anim.save('Figures/d2clonc'+filename+'-'+str(runtime.seconds)+'-'+fb+str(d2cmax)+'.mp4')\n",
    "plt.show()"
   ]
  },
  {
   "cell_type": "markdown",
   "metadata": {},
   "source": [
    "Now we are going to try to look at different coral objects.\n",
    "Find first object"
   ]
  },
  {
   "cell_type": "code",
   "execution_count": 16,
   "metadata": {},
   "outputs": [],
   "source": [
    "coastmask = np.load('coastmask.npy')\n",
    "# plt.contourf(flowdata['X'],flowdata['Y'],coastmask)"
   ]
  },
  {
   "cell_type": "code",
   "execution_count": 17,
   "metadata": {},
   "outputs": [],
   "source": [
    "# fig = plt.figure(figsize=(10,4))\n",
    "# ax = plt.axes()\n",
    "# sc = ax.scatter(xmesh[coastmask],ymesh[coastmask],s=10)"
   ]
  },
  {
   "cell_type": "code",
   "execution_count": 18,
   "metadata": {},
   "outputs": [
    {
     "data": {
      "text/plain": [
       "array([], shape=(0, 100, 900), dtype=bool)"
      ]
     },
     "execution_count": 18,
     "metadata": {},
     "output_type": "execute_result"
    }
   ],
   "source": [
    "objects = np.zeros((0,len(coastmask),len(coastmask[0])),dtype=bool)\n",
    "objects"
   ]
  },
  {
   "cell_type": "code",
   "execution_count": 22,
   "metadata": {},
   "outputs": [],
   "source": [
    "# check = 0\n",
    "# for i in range(len(coastmask)):\n",
    "#     for j in range(len(coastmask[i])):\n",
    "#         if coastmask[i,j] == True:\n",
    "#             coastmask[i,j] = False\n",
    "#             object1 = np.zeros(coastmask.shape,dtype=bool)\n",
    "#             object1[i,j] = True\n",
    "#             coastmask, object1, x1, y1 = followPath(i,j,coastmask,object1)\n",
    "#             coastmask, object1, x2, y2 = followPath(i,j,coastmask,object1)\n",
    "\n",
    "#             check += 1\n",
    "#         if check>0:\n",
    "#             if -1<i+x1+1<len(coastmask) and -1<j+y1<len(coastmask[i]) and objects[:,i+x1+1,j+y1].any():\n",
    "#                 objects[:][objects[:,i+x1+1,j+y1]] = np.ma.mask_or(objects[:][objects[:,i+x1+1,j+y1]],object1)\n",
    "#             elif -1<i+x1+1<len(coastmask) and -1<j+y1+1<len(coastmask[i]) and objects[:,i+x1+1,j+y1+1].any():\n",
    "#                 objects[:][objects[:,i+x1+1,j+y1+1]] = np.ma.mask_or(objects[:][objects[:,i+x1+1,j+y1+1]],object1)\n",
    "#             elif -1<i+x1<len(coastmask) and -1<j+y1+1<len(coastmask[i]) and objects[:,i+x1,j+y1+1].any():\n",
    "#                 objects[:][objects[:,i+x1,j+y1+1]] = np.ma.mask_or(objects[:][objects[:,i+x1,j+y1+1]],object1)\n",
    "#             elif -1<i+x1-1<len(coastmask) and -1<j+y1+1<len(coastmask[i]) and objects[:,i+x1-1,j+y1+1].any():\n",
    "#                 objects[:][objects[:,i+x1-1,j+y1+1]] = np.ma.mask_or(objects[:][objects[:,i+x1-1,j+y1+1]],object1)\n",
    "#             elif -1<i+x1-1<len(coastmask) and -1<j+y1<len(coastmask[i]) and objects[:,i+x1-1,j+y1].any():\n",
    "#                 objects[:][objects[:,i+x1-1,j+y1]] = np.ma.mask_or(objects[:][objects[:,i+x1-1,j+y1]],object1)\n",
    "#             elif -1<i+x1-1<len(coastmask) and -1<j+y1-1<len(coastmask[i]) and objects[:,i+x1-1,j+y1-1].any():\n",
    "#                 objects[:][objects[:,i+x1-1,j+y1-1]] = np.ma.mask_or(objects[:][objects[:,i+x1-1,j+y1-1]],object1)\n",
    "#             elif -1<i+x1<len(coastmask) and -1<j+y1-1<len(coastmask[i]) and objects[:,i+x1,j+y1-1].any():\n",
    "#                 objects[:][objects[:,i+x1,j+y1-1]] = np.ma.mask_or(objects[:][objects[:,i+x1,j+y1-1]],object1)\n",
    "#             elif -1<i+x1+1<len(coastmask) and -1<j+y1-1<len(coastmask[i]) and objects[:,i+x1+1,j+y1-1].any():\n",
    "#                 objects[:][objects[:,i+x1+1,j+y1-1]] = np.ma.mask_or(objects[:][objects[:,i+x1+1,j+y1-1]],object1)\n",
    "#             elif -1<i+x2+1<len(coastmask) and -1<j+y2<len(coastmask[i]) and objects[:,i+x2+1,j+y2].any():\n",
    "#                 objects[:][objects[:,i+x2+1,j+y2]] = np.ma.mask_or(objects[:][objects[:,i+x2+1,j+y2]],object1)\n",
    "#             elif -1<i+x2+1<len(coastmask) and -1<j+y2+1<len(coastmask[i]) and objects[:,i+x2+1,j+y2+1].any():\n",
    "#                 objects[:][objects[:,i+x2+1,j+y2+1]] = np.ma.mask_or(objects[:][objects[:,i+x2+1,j+y2+1]],object1)\n",
    "#             elif -1<i+x2<len(coastmask) and -1<j+y2+1<len(coastmask[i]) and objects[:,i+x2,j+y2+1].any():\n",
    "#                 objects[:][objects[:,i+x2,j+y2+1]] = np.ma.mask_or(objects[:][objects[:,i+x2,j+y2+1]],object1)\n",
    "#             elif -1<i+x2-1<len(coastmask) and -1<j+y2+1<len(coastmask[i]) and objects[:,i+x2-1,j+y2+1].any():\n",
    "#                 objects[:][objects[:,i+x2-1,j+y2+1]] = np.ma.mask_or(objects[:][objects[:,i+x2-1,j+y2+1]],object1)\n",
    "#             elif -1<i+x2-1<len(coastmask) and -1<j+y2<len(coastmask[i]) and objects[:,i+x2-1,j+y2].any():\n",
    "#                 objects[:][objects[:,i+x2-1,j+y2]] = np.ma.mask_or(objects[:][objects[:,i+x2-1,j+y2]],object1)\n",
    "#             elif -1<i+x2-1<len(coastmask) and -1<j+y2-1<len(coastmask[i]) and objects[:,i+x2-1,j+y2-1].any():\n",
    "#                 objects[:][objects[:,i+x2-1,j+y2-1]] = np.ma.mask_or(objects[:][objects[:,i+x2-1,j+y2-1]],object1)\n",
    "#             elif -1<i+x2<len(coastmask) and -1<j+y2-1<len(coastmask[i]) and objects[:,i+x2,j+y2-1].any():\n",
    "#                 objects[:][objects[:,i+x2,j+y2-1]] = np.ma.mask_or(objects[:][objects[:,i+x2,j+y2-1]],object1)\n",
    "#             elif -1<i+x2+1<len(coastmask) and -1<j+y2-1<len(coastmask[i]) and objects[:,i+x2+1,j+y2-1].any():\n",
    "#                 objects[:][objects[:,i+x2+1,j+y2-1]] = np.ma.mask_or(objects[:][objects[:,i+x2+1,j+y2-1]],object1)\n",
    "#             else:\n",
    "#                 object1 = np.expand_dims(object1,axis=0)\n",
    "#                 objects = np.concatenate((objects,object1),axis=0)\n",
    "#             check = 0\n",
    "# np.save('objects',objects,allow_pickle=True)"
   ]
  },
  {
   "cell_type": "code",
   "execution_count": 23,
   "metadata": {},
   "outputs": [],
   "source": [
    "# end = 0\n",
    "# obnr = 1\n",
    "# for i in range(len(coastmask)):\n",
    "#     for j in range(len(coastmask[i])):\n",
    "#         if coastmask[i,j] == True:\n",
    "#             if -1<i+1<len(coastmask)-1 and -1<j<len(coastmask[i])-1 and object1[i+1,j] == True:\n",
    "#                 object1[i,j] = True\n",
    "#                 coastmask[i,j] = False\n",
    "#             elif -1<i+1<len(coastmask)-1 and -1<j+1<len(coastmask[i])-1 and object1[i+1,j+1] == True:\n",
    "#                 object1[i,j] = True\n",
    "#                 coastmask[i,j] = False\n",
    "#             elif -1<i<len(coastmask)-1 and -1<j+1<len(coastmask[i])-1 and object1[i,j+1] == True:\n",
    "#                 object1[i,j] = True\n",
    "#                 coastmask[i,j] = False\n",
    "#             elif -1<i-1<len(coastmask)-1 and -1<j+1<len(coastmask[i])-1 and coastmask[i-1,j+1] == True:\n",
    "#                 object1[i,j] = True\n",
    "#                 coastmask[i,j] = False\n",
    "#             elif -1<i-1<len(coastmask)-1 and -1<j<len(coastmask[i])-1 and coastmask[i-1,j] == True:\n",
    "#                 object1[i,j] = True\n",
    "#                 coastmask[i,j] = False\n",
    "#             elif -1<i-1<len(coastmask)-1 and -1<j-1<len(coastmask[i])-1 and coastmask[i-1,j-1] == True:\n",
    "#                 object1[i,j] = True\n",
    "#                 coastmask[i,j] = False\n",
    "#             elif -1<i<len(coastmask)-1 and -1<j-1<len(coastmask[i])-1 and coastmask[i,j-1] == True:\n",
    "#                 object1[i,j] = True\n",
    "#                 coastmask[i,j] = False\n",
    "#             elif -1<i+1<len(coastmask)-1 and -1<j-1<len(coastmask[i])-1 and coastmask[i+1,j-1] == True:\n",
    "#                 object1[i,j] = True\n",
    "#                 coastmask[i,j] = False\n",
    "            \n",
    "#             object1[i,j] = True\n",
    "#             coastmask[i,j] = False\n",
    "#             x1 = 0\n",
    "#             y1 = 0\n",
    "#             x2 = 0\n",
    "#             y2 = 0\n",
    "#             while end<1:\n",
    "#                 if -1<i+x1+1<len(coastmask)-1 and -1<j+y1<len(coastmask[i])-1 and coastmask[i+x1+1,j+y1] == True:\n",
    "#                     object1[i+x1+1,j+y1] = True\n",
    "#                     coastmask[i+x1+1,j+y1] = False\n",
    "#                     x1 += 1\n",
    "#                 elif -1<i+x1+1<len(coastmask)-1 and -1<j+y1+1<len(coastmask[i])-1 and coastmask[i+x1+1,j+y1+1] == True:\n",
    "#                     object1[i+x1+1,j+y1+1] = True\n",
    "#                     coastmask[i+x1+1,j+y1+1] = False\n",
    "#                     x1 += 1\n",
    "#                     y1 += 1\n",
    "#                 elif -1<i+x1<len(coastmask)-1 and -1<j+y1+1<len(coastmask[i])-1 and coastmask[i+x1,j+y1+1] == True:\n",
    "#                     object1[i+x1,j+y1+1] = True\n",
    "#                     coastmask[i+x1,j+y1+1] = False\n",
    "#                     y1 += 1\n",
    "#                 elif -1<i+x1-1<len(coastmask)-1 and -1<j+y1+1<len(coastmask[i])-1 and coastmask[i+x1-1,j+y1+1] == True:\n",
    "#                     object1[i+x1-1,j+y1+1] = True\n",
    "#                     coastmask[i+x1-1,j+y1+1] = False\n",
    "#                     x1 += -1\n",
    "#                     y1 += 1\n",
    "#                 elif -1<i+x1-1<len(coastmask)-1 and -1<j+y1<len(coastmask[i])-1 and coastmask[i+x1-1,j+y1] == True:\n",
    "#                     object1[i+x1-1,j+y1] = True\n",
    "#                     coastmask[i+x1-1,j+y1] = False\n",
    "#                     x1 += -1\n",
    "#                 elif -1<i+x1-1<len(coastmask)-1 and -1<j+y1-1<len(coastmask[i])-1 and coastmask[i+x1-1,j+y1-1] == True:\n",
    "#                     object1[i+x1-1,j+y1-1] = True\n",
    "#                     coastmask[i+x1-1,j+y1-1] = False\n",
    "#                     x1 += -1\n",
    "#                     y1 += -1\n",
    "#                 elif -1<i+x1<len(coastmask)-1 and -1<j+y1-1<len(coastmask[i])-1 and coastmask[i+x1,j+y1-1] == True:\n",
    "#                     object1[i+x1,j+y1-1] = True\n",
    "#                     coastmask[i+x1,j+y1-1] = False\n",
    "#                     y1 += -1\n",
    "#                 elif -1<i+x1+1<len(coastmask)-1 and -1<j+y1-1<len(coastmask[i])-1 and coastmask[i+x1+1,j+y1-1] == True:\n",
    "#                     object1[i+x1+1,j+y1-1] = True\n",
    "#                     coastmask[i+x1+1,j+y1-1] = False\n",
    "#                     x1 += 1\n",
    "#                     y1 += -1\n",
    "#                 else:\n",
    "#                     end += 1\n",
    "#             while end<2:\n",
    "#                 if -1<i+x2+1<len(coastmask)-1 and -1<j+y2<len(coastmask[i])-1 and coastmask[i+x2+1,j+y2] == True:\n",
    "#                     object1[i+x2+1,j+y2] = True\n",
    "#                     coastmask[i+x2+1,j+y2] = False\n",
    "#                     x2 += 1\n",
    "#                 elif -1<i+x2+1<len(coastmask)-1 and -1<j+y2+1<len(coastmask[i])-1 and coastmask[i+x2+1,j+y2+1] == True:\n",
    "#                     object1[i+x2+1,j+y2+1] = True\n",
    "#                     coastmask[i+x2+1,j+y2+1] = False\n",
    "#                     x2 += 1\n",
    "#                     y2 += 1\n",
    "#                 elif -1<i+x2<len(coastmask)-1 and -1<j+y2+1<len(coastmask[i])-1 and coastmask[i+x2,j+y2+1] == True:\n",
    "#                     object1[i+x2,j+y2+1] = True\n",
    "#                     coastmask[i+x2,j+y2+1] = False\n",
    "#                     y2 += 1\n",
    "#                 elif -1<i+x2-1<len(coastmask)-1 and -1<j+y2+1<len(coastmask[i])-1 and coastmask[i+x2-1,j+y2+1] == True:\n",
    "#                     object1[i+x2-1,j+y2+1] = True\n",
    "#                     coastmask[i+x2-1,j+y2+1] = False\n",
    "#                     x2 += -1\n",
    "#                     y2 += 1\n",
    "#                 elif -1<i+x2-1<len(coastmask)-1 and -1<j+y2<len(coastmask[i])-1 and coastmask[i+x2-1,j+y2] == True:\n",
    "#                     object1[i+x2-1,j+y2] = True\n",
    "#                     coastmask[i+x2-1,j+y2] = False\n",
    "#                     x2 += -1\n",
    "#                 elif -1<i+x2-1<len(coastmask)-1 and -1<j+y2-1<len(coastmask[i])-1 and coastmask[i+x2-1,j+y2-1] == True:\n",
    "#                     object1[i+x2-1,j+y2-1] = True\n",
    "#                     coastmask[i+x2-1,j+y2-1] = False\n",
    "#                     x2 += -1\n",
    "#                     y2 += -1\n",
    "#                 elif -1<i+x2<len(coastmask)-1 and -1<j+y2-1<len(coastmask[i])-1 and coastmask[i+x2,j+y2-1] == True:\n",
    "#                     object1[i+x2,j+y2-1] = True\n",
    "#                     coastmask[i+x2,j+y2-1] = False\n",
    "#                     y2 += -1\n",
    "#                 elif -1<i+x2+1<len(coastmask)-1 and -1<j+y2-1<len(coastmask[i])-1 and coastmask[i+x2+1,j+y2-1] == True:\n",
    "#                     object1[i+x2+1,j+y2-1] = True\n",
    "#                     coastmask[i+x2+1,j+y2-1] = False\n",
    "#                     x2 += 1\n",
    "#                     y2 += -1\n",
    "#                 else:\n",
    "#                     end += 1 \n",
    "#             obnr += 1\n",
    "#             break\n",
    "#     if end>1:\n",
    "#         break"
   ]
  },
  {
   "cell_type": "code",
   "execution_count": 21,
   "metadata": {},
   "outputs": [],
   "source": [
    "objects = np.load('objects.npy')"
   ]
  },
  {
   "cell_type": "code",
   "execution_count": 24,
   "metadata": {},
   "outputs": [
    {
     "data": {
      "text/plain": [
       "Text(0, 0.5, 'height (m)')"
      ]
     },
     "execution_count": 24,
     "metadata": {},
     "output_type": "execute_result"
    }
   ],
   "source": [
    "from random import shuffle\n",
    "palette = sns.hls_palette(len(objects), l=.7, s=.8)\n",
    "shuffle(palette)\n",
    "fig = plt.figure(figsize=(18,4))\n",
    "ax = plt.axes()\n",
    "for i in range(len(objects)):\n",
    "    ax.scatter(xmesh[objects[i]],ymesh[objects[i]],s=10,c=[palette[i]])\n",
    "    ax.text(xmesh[objects[i]][0],ymesh[objects[i]][0]+0.01,str(i))\n",
    "ax.scatter(xmesh[coastmask],ymesh[coastmask],s=20,c='k')\n",
    "ax.set_xlabel(\"x [m]\")\n",
    "ax.set_ylabel(\"height (m)\")\n",
    "# plt.legend()\n",
    "# plt.savefig('Figures/objects')"
   ]
  },
  {
   "cell_type": "markdown",
   "metadata": {},
   "source": [
    "Now we want to create a map of which coral object is the closest when you are a particle at that position"
   ]
  },
  {
   "cell_type": "code",
   "execution_count": 33,
   "metadata": {},
   "outputs": [
    {
     "data": {
      "text/plain": [
       "(1810, 2)"
      ]
     },
     "execution_count": 33,
     "metadata": {},
     "output_type": "execute_result"
    }
   ],
   "source": [
    "from scipy.spatial import Voronoi, voronoi_plot_2d, cKDTree\n",
    "coastmask = np.load('coastmask.npy')\n",
    "points = np.concatenate(([xmesh[coastmask]],[ymesh[coastmask]])).transpose()\n",
    "points.shape"
   ]
  },
  {
   "cell_type": "code",
   "execution_count": 34,
   "metadata": {},
   "outputs": [
    {
     "data": {
      "text/plain": [
       "array([[ 7.15,  0.18],\n",
       "       [ 7.16,  0.18],\n",
       "       [ 7.17,  0.18],\n",
       "       ...,\n",
       "       [ 7.71, -0.5 ],\n",
       "       [ 7.8 , -0.5 ],\n",
       "       [ 8.31, -0.5 ]])"
      ]
     },
     "execution_count": 34,
     "metadata": {},
     "output_type": "execute_result"
    }
   ],
   "source": [
    "d = cKDTree(points)\n",
    "d.data"
   ]
  },
  {
   "cell_type": "code",
   "execution_count": 35,
   "metadata": {},
   "outputs": [],
   "source": [
    "xc = xmesh[~umask.mask]\n",
    "yc = ymesh[~umask.mask]"
   ]
  },
  {
   "cell_type": "code",
   "execution_count": 36,
   "metadata": {},
   "outputs": [],
   "source": [
    "field = np.array((xc,yc)).transpose()\n",
    "distance, location = d.query(field)"
   ]
  },
  {
   "cell_type": "code",
   "execution_count": 37,
   "metadata": {},
   "outputs": [
    {
     "data": {
      "text/plain": [
       "array([1450, 1450, 1450, ..., 1809, 1809, 1809])"
      ]
     },
     "execution_count": 37,
     "metadata": {},
     "output_type": "execute_result"
    }
   ],
   "source": [
    "location"
   ]
  },
  {
   "cell_type": "code",
   "execution_count": 38,
   "metadata": {},
   "outputs": [],
   "source": [
    "dmap = np.zeros(xmesh.shape)\n",
    "dmap[~umask.mask] = distance"
   ]
  },
  {
   "cell_type": "code",
   "execution_count": 39,
   "metadata": {},
   "outputs": [
    {
     "data": {
      "text/plain": [
       "<matplotlib.contour.QuadContourSet at 0x2514c7c1eb8>"
      ]
     },
     "execution_count": 39,
     "metadata": {},
     "output_type": "execute_result"
    }
   ],
   "source": [
    "plt.contourf(dmap)"
   ]
  },
  {
   "cell_type": "code",
   "execution_count": 40,
   "metadata": {},
   "outputs": [
    {
     "ename": "SyntaxError",
     "evalue": "invalid syntax (<ipython-input-40-ed1e5d15bd4a>, line 5)",
     "output_type": "error",
     "traceback": [
      "\u001b[1;36m  File \u001b[1;32m\"<ipython-input-40-ed1e5d15bd4a>\"\u001b[1;36m, line \u001b[1;32m5\u001b[0m\n\u001b[1;33m    closestlist[d.data[location] in ] = i\u001b[0m\n\u001b[1;37m                                    ^\u001b[0m\n\u001b[1;31mSyntaxError\u001b[0m\u001b[1;31m:\u001b[0m invalid syntax\n"
     ]
    }
   ],
   "source": [
    "vormap = np.zeros(xmesh.shape)\n",
    "vormap[~umask.mask] = location\n",
    "closestlist = np.zeros(len(location))\n",
    "for i in range(len(objects)):\n",
    "    closestlist[d.data[location] in ] = i  \n",
    "    \n",
    "# d.data[location]"
   ]
  },
  {
   "cell_type": "code",
   "execution_count": 41,
   "metadata": {},
   "outputs": [
    {
     "name": "stdout",
     "output_type": "stream",
     "text": [
      "[ 7.32 -0.37]\n",
      "[[ 7.15  0.18]\n",
      " [ 7.16  0.18]\n",
      " [ 7.17  0.18]\n",
      " [ 7.18  0.18]\n",
      " [ 7.19  0.18]\n",
      " [ 7.2   0.18]\n",
      " [ 7.21  0.18]\n",
      " [ 7.22  0.18]\n",
      " [ 7.23  0.18]\n",
      " [ 7.24  0.18]\n",
      " [ 7.25  0.18]\n",
      " [ 7.26  0.18]\n",
      " [ 7.27  0.18]\n",
      " [ 7.28  0.18]\n",
      " [ 7.29  0.18]\n",
      " [ 7.3   0.18]\n",
      " [ 7.31  0.18]\n",
      " [ 7.32  0.18]\n",
      " [ 7.33  0.18]\n",
      " [ 7.34  0.18]\n",
      " [ 7.35  0.18]\n",
      " [ 7.36  0.18]\n",
      " [ 7.37  0.18]\n",
      " [ 7.38  0.18]\n",
      " [ 7.39  0.18]\n",
      " [ 7.4   0.18]\n",
      " [ 7.41  0.18]\n",
      " [ 7.42  0.18]\n",
      " [ 7.43  0.18]\n",
      " [ 7.44  0.18]\n",
      " [ 7.45  0.18]\n",
      " [ 7.46  0.18]\n",
      " [ 7.47  0.18]\n",
      " [ 7.48  0.18]\n",
      " [ 7.49  0.18]\n",
      " [ 7.5   0.18]\n",
      " [ 7.51  0.18]\n",
      " [ 7.52  0.18]\n",
      " [ 7.53  0.18]\n",
      " [ 7.54  0.18]\n",
      " [ 7.55  0.18]\n",
      " [ 7.56  0.18]\n",
      " [ 7.57  0.18]\n",
      " [ 7.58  0.18]\n",
      " [ 7.59  0.18]\n",
      " [ 7.6   0.18]\n",
      " [ 7.61  0.18]\n",
      " [ 7.62  0.18]\n",
      " [ 7.63  0.18]\n",
      " [ 7.64  0.18]\n",
      " [ 7.65  0.18]\n",
      " [ 7.66  0.18]\n",
      " [ 7.67  0.18]\n",
      " [ 7.68  0.18]\n",
      " [ 7.69  0.18]\n",
      " [ 7.7   0.18]\n",
      " [ 7.71  0.18]\n",
      " [ 7.72  0.18]\n",
      " [ 7.73  0.18]\n",
      " [ 7.74  0.18]\n",
      " [ 7.75  0.18]\n",
      " [ 7.76  0.18]\n",
      " [ 7.77  0.18]\n",
      " [ 7.78  0.18]\n",
      " [ 7.79  0.18]\n",
      " [ 7.8   0.18]\n",
      " [ 7.81  0.18]\n",
      " [ 7.82  0.18]\n",
      " [ 7.83  0.18]\n",
      " [ 7.84  0.18]\n",
      " [ 7.85  0.18]\n",
      " [ 7.86  0.18]\n",
      " [ 7.87  0.18]\n",
      " [ 7.88  0.18]\n",
      " [ 7.89  0.18]\n",
      " [ 7.9   0.18]\n",
      " [ 7.91  0.18]\n",
      " [ 7.92  0.18]\n",
      " [ 7.93  0.18]\n",
      " [ 7.15  0.17]\n",
      " [ 7.92  0.17]\n",
      " [ 7.15  0.16]\n",
      " [ 7.92  0.16]\n",
      " [ 7.16  0.15]\n",
      " [ 7.92  0.15]\n",
      " [ 7.16  0.14]\n",
      " [ 7.92  0.14]\n",
      " [ 7.16  0.13]\n",
      " [ 7.91  0.13]\n",
      " [ 7.92  0.13]\n",
      " [ 7.16  0.12]\n",
      " [ 7.9   0.12]\n",
      " [ 7.16  0.11]\n",
      " [ 7.17  0.11]\n",
      " [ 7.9   0.11]\n",
      " [ 7.18  0.1 ]\n",
      " [ 7.9   0.1 ]\n",
      " [ 7.18  0.09]\n",
      " [ 7.9   0.09]\n",
      " [ 7.18  0.08]\n",
      " [ 7.9   0.08]\n",
      " [ 7.18  0.07]\n",
      " [ 7.89  0.07]\n",
      " [ 7.18  0.06]\n",
      " [ 7.89  0.06]\n",
      " [ 7.18  0.05]\n",
      " [ 7.89  0.05]\n",
      " [ 7.19  0.04]\n",
      " [ 7.88  0.04]\n",
      " [ 7.89  0.04]\n",
      " [ 7.19  0.03]\n",
      " [ 7.87  0.03]\n",
      " [ 7.19  0.02]\n",
      " [ 7.87  0.02]\n",
      " [ 7.19  0.01]\n",
      " [ 7.2   0.01]\n",
      " [ 7.87  0.01]\n",
      " [ 7.21  0.  ]\n",
      " [ 7.87  0.  ]\n",
      " [ 7.21 -0.01]\n",
      " [ 7.86 -0.01]\n",
      " [ 7.87 -0.01]\n",
      " [ 7.21 -0.02]\n",
      " [ 7.85 -0.02]\n",
      " [ 7.21 -0.03]\n",
      " [ 7.85 -0.03]\n",
      " [ 7.21 -0.04]\n",
      " [ 7.85 -0.04]\n",
      " [ 7.22 -0.05]\n",
      " [ 7.85 -0.05]\n",
      " [ 7.22 -0.06]\n",
      " [ 7.85 -0.06]\n",
      " [ 7.22 -0.07]\n",
      " [ 7.84 -0.07]\n",
      " [ 7.22 -0.08]\n",
      " [ 7.84 -0.08]\n",
      " [ 7.22 -0.09]\n",
      " [ 7.23 -0.09]\n",
      " [ 7.84 -0.09]\n",
      " [ 7.24 -0.1 ]\n",
      " [ 7.83 -0.1 ]\n",
      " [ 7.84 -0.1 ]\n",
      " [ 7.24 -0.11]\n",
      " [ 7.82 -0.11]\n",
      " [ 7.24 -0.12]\n",
      " [ 7.82 -0.12]\n",
      " [ 7.24 -0.13]\n",
      " [ 7.82 -0.13]\n",
      " [ 7.24 -0.14]\n",
      " [ 7.25 -0.14]\n",
      " [ 7.82 -0.14]\n",
      " [ 7.26 -0.15]\n",
      " [ 7.82 -0.15]\n",
      " [ 7.26 -0.16]\n",
      " [ 7.81 -0.16]\n",
      " [ 7.26 -0.17]\n",
      " [ 7.81 -0.17]\n",
      " [ 7.26 -0.18]\n",
      " [ 7.81 -0.18]\n",
      " [ 7.27 -0.19]\n",
      " [ 7.81 -0.19]\n",
      " [ 7.27 -0.2 ]\n",
      " [ 7.8  -0.2 ]\n",
      " [ 7.81 -0.2 ]\n",
      " [ 7.27 -0.21]\n",
      " [ 7.79 -0.21]\n",
      " [ 7.27 -0.22]\n",
      " [ 7.79 -0.22]\n",
      " [ 7.27 -0.23]\n",
      " [ 7.28 -0.23]\n",
      " [ 7.79 -0.23]\n",
      " [ 7.29 -0.24]\n",
      " [ 7.79 -0.24]\n",
      " [ 7.29 -0.25]\n",
      " [ 7.78 -0.25]\n",
      " [ 7.29 -0.26]\n",
      " [ 7.78 -0.26]\n",
      " [ 7.29 -0.27]\n",
      " [ 7.78 -0.27]\n",
      " [ 7.29 -0.28]\n",
      " [ 7.78 -0.28]\n",
      " [ 7.3  -0.29]\n",
      " [ 7.77 -0.29]\n",
      " [ 7.78 -0.29]\n",
      " [ 7.3  -0.3 ]\n",
      " [ 7.76 -0.3 ]\n",
      " [ 7.3  -0.31]\n",
      " [ 7.76 -0.31]\n",
      " [ 7.3  -0.32]\n",
      " [ 7.31 -0.32]\n",
      " [ 7.76 -0.32]\n",
      " [ 7.32 -0.33]\n",
      " [ 7.76 -0.33]\n",
      " [ 7.32 -0.34]\n",
      " [ 7.76 -0.34]\n",
      " [ 7.32 -0.35]\n",
      " [ 7.76 -0.35]\n",
      " [ 7.32 -0.36]\n",
      " [ 7.75 -0.36]\n",
      " [ 7.32 -0.37]\n",
      " [ 7.75 -0.37]\n",
      " [ 7.33 -0.38]\n",
      " [ 7.75 -0.38]\n",
      " [ 7.33 -0.39]\n",
      " [ 7.75 -0.39]\n",
      " [ 7.33 -0.4 ]\n",
      " [ 7.74 -0.4 ]\n",
      " [ 7.75 -0.4 ]\n",
      " [ 7.33 -0.41]\n",
      " [ 7.73 -0.41]\n",
      " [ 7.33 -0.42]\n",
      " [ 7.34 -0.42]\n",
      " [ 7.73 -0.42]\n",
      " [ 7.35 -0.43]\n",
      " [ 7.73 -0.43]\n",
      " [ 7.35 -0.44]\n",
      " [ 7.73 -0.44]\n",
      " [ 7.35 -0.45]\n",
      " [ 7.72 -0.45]\n",
      " [ 7.73 -0.45]\n",
      " [ 7.35 -0.46]\n",
      " [ 7.71 -0.46]\n",
      " [ 7.36 -0.47]\n",
      " [ 7.71 -0.47]\n",
      " [ 7.36 -0.48]\n",
      " [ 7.71 -0.48]\n",
      " [ 7.36 -0.49]\n",
      " [ 7.71 -0.49]\n",
      " [ 7.36 -0.5 ]\n",
      " [ 7.71 -0.5 ]]\n"
     ]
    },
    {
     "data": {
      "text/plain": [
       "True"
      ]
     },
     "execution_count": 41,
     "metadata": {},
     "output_type": "execute_result"
    }
   ],
   "source": [
    "#  \n",
    "# [xmesh[objects[0]],ymesh[objects[0]]]\n",
    "points = np.concatenate(([xmesh[objects[0]]],[ymesh[objects[0]]])).transpose()\n",
    "print(d.data[location][66485])\n",
    "print(points)\n",
    "d.data[location][66485] in points"
   ]
  },
  {
   "cell_type": "code",
   "execution_count": 42,
   "metadata": {},
   "outputs": [
    {
     "data": {
      "text/plain": [
       "array([[ 0.505, -0.345],\n",
       "       [ 0.685, -0.465],\n",
       "       [ 0.725, -0.375],\n",
       "       ...,\n",
       "       [ 5.505, -0.385],\n",
       "       [ 5.485, -0.385],\n",
       "       [ 5.53 , -0.43 ]])"
      ]
     },
     "execution_count": 42,
     "metadata": {},
     "output_type": "execute_result"
    }
   ],
   "source": [
    "vor = Voronoi(d.data[location])\n",
    "vor.vertices"
   ]
  },
  {
   "cell_type": "code",
   "execution_count": 44,
   "metadata": {},
   "outputs": [
    {
     "data": {
      "image/png": "[encoded data removed]",
      "text/plain": [
       "<Figure size 640x480 with 1 Axes>"
      ]
     },
     "execution_count": 44,
     "metadata": {},
     "output_type": "execute_result"
    }
   ],
   "source": [
    "%matplotlib qt\n",
    "voronoi_plot_2d(vor)"
   ]
  },
  {
   "cell_type": "code",
   "execution_count": null,
   "metadata": {},
   "outputs": [],
   "source": []
  }
 ],
 "metadata": {
  "kernelspec": {
   "display_name": "Python 3",
   "language": "python",
   "name": "python3"
  },
  "language_info": {
   "codemirror_mode": {
    "name": "ipython",
    "version": 3
   },
   "file_extension": ".py",
   "mimetype": "text/x-python",
   "name": "python",
   "nbconvert_exporter": "python",
   "pygments_lexer": "ipython3",
   "version": "3.7.3"
  }
 },
 "nbformat": 4,
 "nbformat_minor": 4
}
