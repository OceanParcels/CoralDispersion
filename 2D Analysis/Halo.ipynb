{
 "cells": [
  {
   "cell_type": "markdown",
   "metadata": {},
   "source": [
    "Halo connectivity of objects"
   ]
  },
  {
   "cell_type": "markdown",
   "metadata": {},
   "source": [
    "This notebook is going to explore creating halo's around 'coral' objects that can be used to identify connectivity between corals through the flow. I think these halo's can be defined in the analysis part of the study, so all particleset output can be used"
   ]
  },
  {
   "cell_type": "code",
   "execution_count": 1,
   "metadata": {},
   "outputs": [],
   "source": [
    "%matplotlib qt\n",
    "import numpy as np\n",
    "import matplotlib.pyplot as plt\n",
    "import matplotlib.animation as animation\n",
    "from datetime import timedelta\n",
    "import xarray as xr\n",
    "from explfunctions import coraldistancemap\n",
    "import cmocean"
   ]
  },
  {
   "cell_type": "code",
   "execution_count": 2,
   "metadata": {},
   "outputs": [],
   "source": [
    "name = 'output-corals-regridded'\n",
    "fb = 'forward' #variable to determine whether the flowfields are analysed 'forward' or 'backward' in time\n",
    "runtime=timedelta(seconds=10)                            # total time to execute the particleset\n",
    "outputdt = timedelta(seconds=0.01)\n",
    "filename = name+'.nc'\n",
    "dfilename = name+fb+str(runtime.seconds)+'.nc'"
   ]
  },
  {
   "cell_type": "code",
   "execution_count": 3,
   "metadata": {},
   "outputs": [],
   "source": [
    "data = xr.open_dataset(dfilename)\n",
    "\n",
    "flowdata = xr.open_dataset(filename)"
   ]
  },
  {
   "cell_type": "code",
   "execution_count": 4,
   "metadata": {},
   "outputs": [],
   "source": [
    "umask = np.ma.masked_invalid(flowdata['U'][0])"
   ]
  },
  {
   "cell_type": "code",
   "execution_count": 5,
   "metadata": {},
   "outputs": [],
   "source": [
    "# cmask=np.copy(umask.mask)\n",
    "# for i in range(len(umask)):\n",
    "#     for j in range(len(umask[i])):\n",
    "#         if umask.mask[i,j] == True:\n",
    "#             if i>0 and i<len(umask)-1 and j>0 and j<len(umask[i])-1:\n",
    "#                 if umask.mask[i-1,j]==True and umask.mask[i+1,j]==True and umask.mask[i,j-1]==True and umask.mask[i,j+1]==True:\n",
    "#                     cmask[i,j]=False\n",
    "#             elif i==0 and j>0 and j<len(umask[i])-1:\n",
    "#                 if umask.mask[i+1,j]==True and umask.mask[i,j-1]==True and umask.mask[i,j+1]==True:\n",
    "#                     cmask[i,j]=False\n",
    "#             elif i==len(umask)-1 and j>0 and j<len(umask[i])-1:\n",
    "#                 if umask.mask[i-1,j]==True and umask.mask[i,j-1]==True and umask.mask[i,j+1]==True:\n",
    "#                     cmask[i,j]=False\n",
    "#             elif i>0 and i<len(umask)-1 and j==0:\n",
    "#                 if umask.mask[i-1,j]==True and umask.mask[i+1,j]==True and umask.mask[i,j+1]==True:\n",
    "#                     cmask[i,j]=False\n",
    "#             elif i>0 and i<len(umask)-1 and j==len(umask[i])-1:\n",
    "#                 if umask.mask[i-1,j]==True and umask.mask[i+1,j]==True and umask.mask[i,j-1]==True:\n",
    "#                     cmask[i,j]=False\n",
    "#             elif i==0 and j==0:\n",
    "#                 if umask.mask[i+1,j]==True and umask.mask[i,j+1]==True:\n",
    "#                     cmask[i,j]=False\n",
    "#             elif i==0 and j==len(umask[i])-1:\n",
    "#                 if umask.mask[i+1,j]==True and umask.mask[i,j-1]==True:\n",
    "#                     cmask[i,j]=False\n",
    "#             elif i==len(umask)-1 and j==0:\n",
    "#                 if umask.mask[i-1,j]==True and umask.mask[i,j+1]==True:\n",
    "#                     cmask[i,j]=False\n",
    "#             elif i==len(umask)-1 and j==len(umask[i])-1:\n",
    "#                 if umask.mask[i-1,j]==True and umask.mask[i,j-1]==True:\n",
    "#                     cmask[i,j]=False\n",
    "# np.save('coastmask',cmask,allow_pickle=True)"
   ]
  },
  {
   "cell_type": "code",
   "execution_count": 6,
   "metadata": {},
   "outputs": [],
   "source": [
    "xmesh,ymesh = np.meshgrid(flowdata['X'],flowdata['Y'])"
   ]
  },
  {
   "cell_type": "code",
   "execution_count": 7,
   "metadata": {},
   "outputs": [],
   "source": [
    "# mat,coralmap = coraldistancemap(umask.mask,cmask,xmesh,ymesh)\n",
    "# np.save('coralmap',coralmap,allow_pickle=True)\n",
    "coralmap = np.load('coralmap.npy')"
   ]
  },
  {
   "cell_type": "code",
   "execution_count": 8,
   "metadata": {},
   "outputs": [],
   "source": [
    "# %matplotlib qt\n",
    "# fig = plt.figure(figsize=(18,2))\n",
    "# ax = plt.axes()\n",
    "# ax.set_facecolor('k')\n",
    "# ax.contourf(flowdata['X'],flowdata['Y'],flowdata['U'][0],np.linspace(-10,-9,21),extend='both',cmap=cmocean.cm.ice)\n",
    "# sc = ax.scatter(xmesh[~umask.mask],ymesh[~umask.mask],c=coralmap[~umask.mask],s=10,cmap=cmocean.cm.balance)\n",
    "# cbar = fig.colorbar(sc,label='Distance from coral [m]')\n",
    "# plt.ylim(flowdata['Y'][-1],flowdata['Y'][0])\n",
    "# plt.xlim(flowdata['X'][0],flowdata['X'][-1])\n",
    "# plt.ylabel('Height [m]')\n",
    "# plt.xlabel('Horizontal distance [m]')"
   ]
  },
  {
   "cell_type": "code",
   "execution_count": 9,
   "metadata": {},
   "outputs": [],
   "source": [
    "name = 'output-corals-regridded'\n",
    "fb = 'backward' #variable to determine whether the flowfields are analysed 'forward' or 'backward' in time\n",
    "runtime=timedelta(seconds=10)                            # total time to execute the particleset\n",
    "outputdt = timedelta(seconds=0.1)\n",
    "filename = name+'.nc'\n",
    "dfilename = name+fb+str(runtime.seconds)+'.nc'"
   ]
  },
  {
   "cell_type": "code",
   "execution_count": 10,
   "metadata": {},
   "outputs": [],
   "source": [
    "distdata = xr.open_dataset(dfilename)\n",
    "\n",
    "flowdata = xr.open_dataset(filename)"
   ]
  },
  {
   "cell_type": "code",
   "execution_count": 11,
   "metadata": {},
   "outputs": [],
   "source": [
    "x,y = np.meshgrid(flowdata['X'],flowdata['Y'])\n",
    "um = np.ma.masked_invalid(flowdata['U'][0,:,:])                    # retrieve mask from flowfield to take out points over coral objects\n",
    "\n",
    "lons = np.ma.masked_array(x,mask=um.mask)             # mask points in meshgrid\n",
    "lons = lons.flatten()\n",
    "ds = np.ma.masked_array(y,mask=um.mask)                 # mask points in meshgrid\n",
    "ds = ds.flatten()\n",
    "\n",
    "usm = np.invert(um.mask)\n",
    "lonm = np.ma.masked_array(x,mask=usm)             # mask points in meshgrid\n",
    "lonm = lonm.flatten()\n",
    "dm = np.ma.masked_array(y,mask=usm)                 # mask points in meshgrid\n",
    "dm = dm.flatten()"
   ]
  },
  {
   "cell_type": "code",
   "execution_count": 12,
   "metadata": {},
   "outputs": [],
   "source": [
    "# traj = 68000\n",
    "# fig = plt.figure(figsize=(18,2))\n",
    "# ax = plt.axes()\n",
    "# ax.set_facecolor('k')\n",
    "# # ax.scatter(lons,ds,s=7,c='c',label='flow gridpoint')\n",
    "# # ax.scatter(lonm,dm,s=15,c='k',label='coral gridpoint')\n",
    "# ax.contourf(flowdata['X'],flowdata['Y'],flowdata['U'][0],np.linspace(-10,-9,21),extend='both',cmap=cmocean.cm.ice)\n",
    "# sc = ax.scatter(distdata['lon'].isel(traj=traj,obs=slice(1,-1)),-distdata['z'].isel(traj=traj,obs=slice(1,-1)),c=distdata['d2c'].isel(traj=traj,obs=slice(1,-1)),marker='o',cmap=cmocean.cm.amp_r)\n",
    "# cbar = fig.colorbar(sc,label='Distance from coral [m]')\n",
    "# plt.ylabel('Height [m]')\n",
    "# plt.xlabel('Horizontal distance [m]')\n",
    "# plt.ylim(flowdata['Y'][-1],flowdata['Y'][0])\n",
    "# plt.xlim(flowdata['X'][0],flowdata['X'][-1])"
   ]
  },
  {
   "cell_type": "markdown",
   "metadata": {},
   "source": [
    "Now that we have the halo with distances, we want to analyse the particles that start near the corals.\n",
    "Secondly we will try to separate the different coral objects and observe their interconnectivity"
   ]
  },
  {
   "cell_type": "code",
   "execution_count": 13,
   "metadata": {},
   "outputs": [],
   "source": [
    "d2cmax = 0.05\n",
    "ddata = distdata.where(distdata['d2c'][:,1]<d2cmax,drop=True)"
   ]
  },
  {
   "cell_type": "code",
   "execution_count": 14,
   "metadata": {},
   "outputs": [],
   "source": [
    "# anom = ddata.where(ddata['z'][:,1]<-0.4,drop=True)\n",
    "# anom"
   ]
  },
  {
   "cell_type": "code",
   "execution_count": 15,
   "metadata": {},
   "outputs": [],
   "source": [
    "# fig = plt.figure(figsize=(18,2))\n",
    "# ax = plt.axes()\n",
    "# ax.scatter(anom['lon'][:,0],-anom['z'][:,0],s=7)"
   ]
  },
  {
   "cell_type": "code",
   "execution_count": 16,
   "metadata": {},
   "outputs": [],
   "source": [
    "# fig = plt.figure(figsize=(18,2))\n",
    "# ax = plt.axes()\n",
    "# ax.scatter(ddata['lon'][:,0],-ddata['z'][:,0],s=7)"
   ]
  },
  {
   "cell_type": "code",
   "execution_count": 17,
   "metadata": {},
   "outputs": [],
   "source": [
    "# fig = plt.figure(figsize=(18,4))\n",
    "# ax = plt.axes()\n",
    "# ax.set_facecolor('k')\n",
    "# cf = ax.contourf(flowdata['X'],flowdata['Y'],flowdata['U'][8,:,:],np.linspace(-10,-9,21),extend='both',cmap='cool_r')\n",
    "# sc = ax.scatter(ddata['lon'][:,0], -ddata['z'][:,0], c=ddata['d2c'][:,1],s=10, marker=\"o\",cmap=cmocean.cm.amp)\n",
    "# time_text = ax.text(0.05, 0.95,'',horizontalalignment='left',verticalalignment='top', transform=ax.transAxes)\n",
    "# cbar = fig.colorbar(sc,label='Initial distance from coral [m]')\n",
    "\n",
    "# def animate(i,fig,sc):\n",
    "#     sc.set_offsets(np.c_[ddata['lon'][:,i], -ddata['z'][:,i]])\n",
    "#     ts = i*outputdt.microseconds/1000000\n",
    "#     time_text.set_text('time = %.1f seconds' % ts)\n",
    "#     return sc, time_text,\n",
    "\n",
    "# ax.set_xlabel(\"x [m]\")\n",
    "# ax.set_ylabel(\"z (m)\")\n",
    "# ax.set_xlim(-0.5,8.5)\n",
    "# ax.set_ylim(-0.49,0.5)\n",
    "# anim = animation.FuncAnimation(fig, animate, fargs = (fig, sc),\n",
    "#                                frames = len(ddata['lon'][0]), blit=True)\n",
    "# anim.save('Figures/d2c'+filename+'-'+str(runtime.seconds)+'-'+fb+str(d2cmax)+'.mp4')\n",
    "# plt.show()"
   ]
  },
  {
   "cell_type": "code",
   "execution_count": 18,
   "metadata": {},
   "outputs": [],
   "source": [
    "# fig = plt.figure(figsize=(10,4))\n",
    "# ax = plt.axes()\n",
    "# ax.set_facecolor('k')\n",
    "# cf = ax.contourf(flowdata['X'],flowdata['Y'],flowdata['U'][8,:,:],np.linspace(-10,-9,21),extend='both',cmap=cmocean.cm.dense_r)\n",
    "# sc = ax.scatter(ddata['lon'][:,0], -ddata['z'][:,0], c=ddata['lon'][:,0],s=10, marker=\"o\",cmap='Spectral_r')\n",
    "# time_text = ax.text(0.05, 0.95,'',horizontalalignment='left',verticalalignment='top', transform=ax.transAxes)\n",
    "# cbar = fig.colorbar(sc,orientation= 'horizontal',label='Initial x-position [m]')\n",
    "\n",
    "# def animate(i,fig,sc):\n",
    "#     sc.set_offsets(np.c_[ddata['lon'][:,i], -ddata['z'][:,i]])\n",
    "#     ts = i*outputdt.microseconds/1000000\n",
    "#     time_text.set_text('time = %.1f seconds' % ts)\n",
    "#     return sc, time_text,\n",
    "\n",
    "# ax.set_xlabel(\"x [m]\")\n",
    "# ax.set_ylabel(\"z (m)\")\n",
    "# ax.set_xlim(-0.5,8.5)\n",
    "# ax.set_ylim(-0.49,0.5)\n",
    "# anim = animation.FuncAnimation(fig, animate, fargs = (fig, sc),\n",
    "#                                frames = len(ddata['lon'][0]), blit=True)\n",
    "# anim.save('Figures/d2clonc'+filename+'-'+str(runtime.seconds)+'-'+fb+str(d2cmax)+'.mp4')\n",
    "# plt.show()"
   ]
  },
  {
   "cell_type": "markdown",
   "metadata": {},
   "source": [
    "Now we are going to try to look at different coral objects.\n",
    "Find first object"
   ]
  },
  {
   "cell_type": "code",
   "execution_count": 19,
   "metadata": {},
   "outputs": [
    {
     "data": {
      "text/plain": [
       "<matplotlib.contour.QuadContourSet at 0x2d4e6a6fb38>"
      ]
     },
     "execution_count": 19,
     "metadata": {},
     "output_type": "execute_result"
    }
   ],
   "source": [
    "coastmask = np.load('coastmask.npy')\n",
    "plt.contourf(flowdata['X'],flowdata['Y'],coastmask)"
   ]
  },
  {
   "cell_type": "code",
   "execution_count": 20,
   "metadata": {},
   "outputs": [],
   "source": [
    "fig = plt.figure(figsize=(10,4))\n",
    "ax = plt.axes()\n",
    "sc = ax.scatter(xmesh[coastmask],ymesh[coastmask],s=10)"
   ]
  },
  {
   "cell_type": "code",
   "execution_count": 21,
   "metadata": {},
   "outputs": [],
   "source": [
    "# fig = plt.figure(figsize=(10,4))\n",
    "# ax = plt.axes()\n",
    "# sc = ax.scatter(xmesh[coastmask],ymesh[coastmask],s=10)"
   ]
  },
  {
   "cell_type": "code",
   "execution_count": 22,
   "metadata": {},
   "outputs": [],
   "source": [
    "object1 = np.zeros((len(coastmask),len(coastmask[0])),dtype=bool)"
   ]
  },
  {
   "cell_type": "code",
   "execution_count": 23,
   "metadata": {},
   "outputs": [
    {
     "data": {
      "text/plain": [
       "array([[False, False, False, ..., False, False, False],\n",
       "       [False, False, False, ..., False, False, False],\n",
       "       [False, False, False, ..., False, False, False],\n",
       "       ...,\n",
       "       [False, False, False, ..., False, False, False],\n",
       "       [False, False, False, ..., False, False, False],\n",
       "       [False, False, False, ..., False, False, False]])"
      ]
     },
     "execution_count": 23,
     "metadata": {},
     "output_type": "execute_result"
    }
   ],
   "source": [
    "object1"
   ]
  },
  {
   "cell_type": "code",
   "execution_count": 25,
   "metadata": {},
   "outputs": [],
   "source": [
    "end = 0\n",
    "obnr = 1\n",
    "for i in range(len(coastmask)):\n",
    "    for j in range(len(coastmask[i])):\n",
    "        if coastmask[i,j] == True:\n",
    "            object1[i,j] = True\n",
    "            coastmask[i,j] = False\n",
    "            x1 = 0\n",
    "            y1 = 0\n",
    "            x2 = 0\n",
    "            y2 = 0\n",
    "            while end<1:\n",
    "                if -1<i+x1+1<len(coastmask)-1 and -1<j+y1<len(coastmask[i])-1 and coastmask[i+x1+1,j+y1] == True:\n",
    "                    object1[i+x1+1,j+y1] = True\n",
    "                    coastmask[i+x1+1,j+y1] = False\n",
    "                    x1 += 1\n",
    "                elif -1<i+x1+1<len(coastmask)-1 and -1<j+y1+1<len(coastmask[i])-1 and coastmask[i+x1+1,j+y1+1] == True:\n",
    "                    object1[i+x1+1,j+y1+1] = True\n",
    "                    coastmask[i+x1+1,j+y1+1] = False\n",
    "                    x1 += 1\n",
    "                    y1 += 1\n",
    "                elif -1<i+x1<len(coastmask)-1 and -1<j+y1+1<len(coastmask[i])-1 and coastmask[i+x1,j+y1+1] == True:\n",
    "                    object1[i+x1,j+y1+1] = True\n",
    "                    coastmask[i+x1,j+y1+1] = False\n",
    "                    y1 += 1\n",
    "                elif -1<i+x1-1<len(coastmask)-1 and -1<j+y1+1<len(coastmask[i])-1 and coastmask[i+x1-1,j+y1+1] == True:\n",
    "                    object1[i+x1-1,j+y1+1] = True\n",
    "                    coastmask[i+x1-1,j+y1+1] = False\n",
    "                    x1 += -1\n",
    "                    y1 += 1\n",
    "                elif -1<i+x1-1<len(coastmask)-1 and -1<j+y1<len(coastmask[i])-1 and coastmask[i+x1-1,j+y1] == True:\n",
    "                    object1[i+x1-1,j+y1] = True\n",
    "                    coastmask[i+x1-1,j+y1] = False\n",
    "                    x1 += -1\n",
    "                elif -1<i+x1-1<len(coastmask)-1 and -1<j+y1-1<len(coastmask[i])-1 and coastmask[i+x1-1,j+y1-1] == True:\n",
    "                    object1[i+x1-1,j+y1-1] = True\n",
    "                    coastmask[i+x1-1,j+y1-1] = False\n",
    "                    x1 += -1\n",
    "                    y1 += -1\n",
    "                elif -1<i+x1<len(coastmask)-1 and -1<j+y1-1<len(coastmask[i])-1 and coastmask[i+x1,j+y1-1] == True:\n",
    "                    object1[i+x1,j+y1-1] = True\n",
    "                    coastmask[i+x1,j+y1-1] = False\n",
    "                    y1 += -1\n",
    "                elif -1<i+x1+1<len(coastmask)-1 and -1<j+y1-1<len(coastmask[i])-1 and coastmask[i+x1+1,j+y1-1] == True:\n",
    "                    object1[i+x1+1,j+y1-1] = True\n",
    "                    coastmask[i+x1+1,j+y1-1] = False\n",
    "                    x1 += 1\n",
    "                    y1 += -1\n",
    "                else:\n",
    "                    end += 1\n",
    "            while end<2:\n",
    "                if -1<i+x2+1<len(coastmask)-1 and -1<j+y2<len(coastmask[i])-1 and coastmask[i+x2+1,j+y2] == True:\n",
    "                    object1[i+x2+1,j+y2] = True\n",
    "                    coastmask[i+x2+1,j+y2] = False\n",
    "                    x2 += 1\n",
    "                elif -1<i+x2+1<len(coastmask)-1 and -1<j+y2+1<len(coastmask[i])-1 and coastmask[i+x2+1,j+y2+1] == True:\n",
    "                    object1[i+x2+1,j+y2+1] = True\n",
    "                    coastmask[i+x2+1,j+y2+1] = False\n",
    "                    x2 += 1\n",
    "                    y2 += 1\n",
    "                elif -1<i+x2<len(coastmask)-1 and -1<j+y2+1<len(coastmask[i])-1 and coastmask[i+x2,j+y2+1] == True:\n",
    "                    object1[i+x2,j+y2+1] = True\n",
    "                    coastmask[i+x2,j+y2+1] = False\n",
    "                    y2 += 1\n",
    "                elif -1<i+x2-1<len(coastmask)-1 and -1<j+y2+1<len(coastmask[i])-1 and coastmask[i+x2-1,j+y2+1] == True:\n",
    "                    object1[i+x2-1,j+y2+1] = True\n",
    "                    coastmask[i+x2-1,j+y2+1] = False\n",
    "                    x2 += -1\n",
    "                    y2 += 1\n",
    "                elif -1<i+x2-1<len(coastmask)-1 and -1<j+y2<len(coastmask[i])-1 and coastmask[i+x2-1,j+y2] == True:\n",
    "                    object1[i+x2-1,j+y2] = True\n",
    "                    coastmask[i+x2-1,j+y2] = False\n",
    "                    x2 += -1\n",
    "                elif -1<i+x2-1<len(coastmask)-1 and -1<j+y2-1<len(coastmask[i])-1 and coastmask[i+x2-1,j+y2-1] == True:\n",
    "                    object1[i+x2-1,j+y2-1] = True\n",
    "                    coastmask[i+x2-1,j+y2-1] = False\n",
    "                    x2 += -1\n",
    "                    y2 += -1\n",
    "                elif -1<i+x2<len(coastmask)-1 and -1<j+y2-1<len(coastmask[i])-1 and coastmask[i+x2,j+y2-1] == True:\n",
    "                    object1[i+x2,j+y2-1] = True\n",
    "                    coastmask[i+x2,j+y2-1] = False\n",
    "                    y2 += -1\n",
    "                elif -1<i+x2+1<len(coastmask)-1 and -1<j+y2-1<len(coastmask[i])-1 and coastmask[i+x2+1,j+y2-1] == True:\n",
    "                    object1[i+x2+1,j+y2-1] = True\n",
    "                    coastmask[i+x2+1,j+y2-1] = False\n",
    "                    x2 += 1\n",
    "                    y2 += -1\n",
    "                else:\n",
    "                    end += 1 \n",
    "            obnr += 1\n",
    "            break\n",
    "    if end>1:\n",
    "        break"
   ]
  },
  {
   "cell_type": "code",
   "execution_count": 26,
   "metadata": {},
   "outputs": [],
   "source": [
    "fig = plt.figure(figsize=(10,4))\n",
    "ax = plt.axes()\n",
    "sc = ax.scatter(xmesh[object1],ymesh[object1],s=10)"
   ]
  },
  {
   "cell_type": "code",
   "execution_count": 27,
   "metadata": {},
   "outputs": [],
   "source": [
    "fig = plt.figure(figsize=(10,4))\n",
    "ax = plt.axes()\n",
    "sc = ax.scatter(xmesh[coastmask],ymesh[coastmask],s=10)"
   ]
  },
  {
   "cell_type": "code",
   "execution_count": null,
   "metadata": {},
   "outputs": [],
   "source": []
  }
 ],
 "metadata": {
  "kernelspec": {
   "display_name": "Python 3",
   "language": "python",
   "name": "python3"
  },
  "language_info": {
   "codemirror_mode": {
    "name": "ipython",
    "version": 3
   },
   "file_extension": ".py",
   "mimetype": "text/x-python",
   "name": "python",
   "nbconvert_exporter": "python",
   "pygments_lexer": "ipython3",
   "version": "3.7.3"
  }
 },
 "nbformat": 4,
 "nbformat_minor": 4
}
