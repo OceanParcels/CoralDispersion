{
 "cells": [
  {
   "cell_type": "markdown",
   "metadata": {},
   "source": [
    "Beaching notebook"
   ]
  },
  {
   "cell_type": "markdown",
   "metadata": {},
   "source": [
    "This notebook is going to explore the beaching behaviour of particles in the 2D coral flow model. We want to know what the flowfields, particle position and interpolation look like the moment before particles are beached. We can use any ParticleSet output."
   ]
  },
  {
   "cell_type": "code",
   "execution_count": null,
   "metadata": {},
   "outputs": [],
   "source": [
    "import matplotlib as mpl\n",
    "from matplotlib import cm\n",
    "import matplotlib.pyplot as plt\n",
    "import matplotlib.animation as animation\n",
    "import cmocean\n",
    "from datetime import timedelta\n",
    "\n",
    "filename = 'output-corals-regridded-parabolic-wave'\n",
    "fb = 'backward' #variable to determine whether the flowfields are analysed 'forward' or 'backward' in time\n",
    "runtime=timedelta(seconds=44)                            # total time to execute the particleset\n"
   ]
  },
  {
   "cell_type": "code",
   "execution_count": null,
   "metadata": {},
   "outputs": [],
   "source": [
    "nc = Dataset(filename+fb+str(runtime.seconds)+\".nc\")\n",
    "x = nc.variables[\"lon\"][:].squeeze()\n",
    "y = nc.variables[\"lat\"][:].squeeze()\n",
    "z = nc.variables[\"z\"][:].squeeze()\n",
    "t = nc.variables[\"time\"][:].squeeze()\n",
    "b = nc.variables[\"finaldistance\"][:].squeeze()\n",
    "nc.close()\n",
    "\n",
    "ncflow = Dataset('2Dcoral.nc')\n",
    "uf = ncflow.variables['u'][:]\n",
    "xf = ncflow.variables['x'][:]\n",
    "depthf = ncflow.variables['depth'][:]\n",
    "ncflow.close()"
   ]
  },
  {
   "cell_type": "code",
   "execution_count": null,
   "metadata": {},
   "outputs": [],
   "source": [
    "ct = np.zeros(len(b[0]))\n",
    "ct[-1] = np.count_nonzero(b[:,-1]==0)\n",
    "beac = np.zeros((int(ct[-1]),2),dtype=np.int64)\n",
    "beac[:,1] = np.nonzero(b[:,-1]==0)[0]\n",
    "bn = b[beac[:,1]]\n",
    "for i in range(len(bn)):\n",
    "    cn = 0\n",
    "    for j in np.arange(len(bn[i])-2,-1,-1):\n",
    "        if bn[i,j] == 0:\n",
    "            cn += 1\n",
    "        else:\n",
    "            break\n",
    "    beac[i,0] = 44 - cn/10\n",
    "for i in np.arange(len(b[0])-2,-1,-1): # each timestep\n",
    "    ct[i] = np.count_nonzero(b[:,i]==0) #count how many values are zero "
   ]
  }
 ],
 "metadata": {
  "kernelspec": {
   "display_name": "Python 3",
   "language": "python",
   "name": "python3"
  },
  "language_info": {
   "codemirror_mode": {
    "name": "ipython",
    "version": 3
   },
   "file_extension": ".py",
   "mimetype": "text/x-python",
   "name": "python",
   "nbconvert_exporter": "python",
   "pygments_lexer": "ipython3",
   "version": "3.7.3"
  }
 },
 "nbformat": 4,
 "nbformat_minor": 4
}
