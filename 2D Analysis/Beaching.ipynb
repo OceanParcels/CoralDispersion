{
 "cells": [
  {
   "cell_type": "markdown",
   "metadata": {},
   "source": [
    "Beaching notebook"
   ]
  },
  {
   "cell_type": "markdown",
   "metadata": {},
   "source": [
    "This notebook is going to explore the beaching behaviour of particles in the 2D coral flow model. We want to know what the flowfields, particle position and interpolation look like the moment before particles are beached. We can use any ParticleSet output."
   ]
  },
  {
   "cell_type": "markdown",
   "metadata": {},
   "source": [
    "First let's import the modules and define the outputfile we will analyse"
   ]
  },
  {
   "cell_type": "code",
   "execution_count": 2,
   "metadata": {},
   "outputs": [],
   "source": [
    "import numpy as np\n",
    "import matplotlib.pyplot as plt\n",
    "from datetime import timedelta\n",
    "import xarray as xr\n",
    "import cmocean\n",
    "import matplotlib.animation as animation\n",
    "\n",
    "name = 'output-corals-regridded'\n",
    "fb = 'forward' #variable to determine whether the flowfields are analysed 'forward' or 'backward' in time\n",
    "runtime=timedelta(seconds=10)                            # total time to execute the particleset\n",
    "outputdt = timedelta(seconds=0.01)\n",
    "filename = name+'.nc'\n",
    "dfilename = name+fb+str(runtime.seconds)+'.nc'"
   ]
  },
  {
   "cell_type": "markdown",
   "metadata": {},
   "source": [
    "The particle data and the flow data are in separate files"
   ]
  },
  {
   "cell_type": "code",
   "execution_count": 3,
   "metadata": {},
   "outputs": [],
   "source": [
    "data = xr.open_dataset(dfilename)\n",
    "\n",
    "flowdata = xr.open_dataset(filename)"
   ]
  },
  {
   "cell_type": "markdown",
   "metadata": {},
   "source": [
    "Now that the data and flowfields are in the xarrray, we want to select only the beached particles"
   ]
  },
  {
   "cell_type": "code",
   "execution_count": 4,
   "metadata": {},
   "outputs": [],
   "source": [
    "bdata = data.where(data['finaldistance'][:,-1]==0,drop=True)"
   ]
  },
  {
   "cell_type": "markdown",
   "metadata": {},
   "source": [
    "Next we want to select only one trajectory. We are going to find the first moment at which the particle is beached so we can plot the trajectory at the timesteps leading up to that moment"
   ]
  },
  {
   "cell_type": "code",
   "execution_count": 5,
   "metadata": {},
   "outputs": [],
   "source": [
    "traj = 5\n",
    "one = bdata.isel(traj=traj)\n",
    "onetraj = one.where(one['finaldistance']==0,drop=True)"
   ]
  },
  {
   "cell_type": "code",
   "execution_count": 6,
   "metadata": {},
   "outputs": [
    {
     "name": "stdout",
     "output_type": "stream",
     "text": [
      "2\n",
      "164\n"
     ]
    }
   ],
   "source": [
    "divider = 1000*outputdt.microseconds                                # nanoseconds to outputdt\n",
    "tb = round(float(onetraj.isel(obs=1)['time'].values)/divider)       # time of first beached moment\n",
    "TB = round(float(onetraj.isel(obs=1)['time'].values)/1000000000)    # nanoseconds to seconds\n",
    "print(TB)\n",
    "print(tb)"
   ]
  },
  {
   "cell_type": "markdown",
   "metadata": {},
   "source": [
    "Now we are going to create meshgrids to show the coral and flow gridpoints"
   ]
  },
  {
   "cell_type": "code",
   "execution_count": 7,
   "metadata": {},
   "outputs": [],
   "source": [
    "x,y = np.meshgrid(flowdata['X'],flowdata['Y'])\n",
    "um = np.ma.masked_invalid(flowdata['U'][0,:,:])                    # retrieve mask from flowfield to take out points over coral objects\n",
    "\n",
    "lons = np.ma.masked_array(x,mask=um.mask)             # mask points in meshgrid\n",
    "lons = lons.flatten()\n",
    "ds = np.ma.masked_array(y,mask=um.mask)                 # mask points in meshgrid\n",
    "ds = ds.flatten()\n",
    "\n",
    "usm = np.invert(um.mask)\n",
    "lonm = np.ma.masked_array(x,mask=usm)             # mask points in meshgrid\n",
    "lonm = lonm.flatten()\n",
    "dm = np.ma.masked_array(y,mask=usm)                 # mask points in meshgrid\n",
    "dm = dm.flatten()"
   ]
  },
  {
   "cell_type": "markdown",
   "metadata": {},
   "source": [
    "Plot the coral gridpoints, flow gridpoints, flow quiver and beaching trajectory of the selected particle"
   ]
  },
  {
   "cell_type": "code",
   "execution_count": 7,
   "metadata": {
    "collapsed": true,
    "jupyter": {
     "outputs_hidden": true
    }
   },
   "outputs": [
    {
     "data": {
      "text/plain": [
       "<matplotlib.legend.Legend at 0x29c09e6fe80>"
      ]
     },
     "execution_count": 7,
     "metadata": {},
     "output_type": "execute_result"
    }
   ],
   "source": [
    "%matplotlib qt\n",
    "fig = plt.figure(figsize=(13,10))\n",
    "ax = plt.axes()\n",
    "ax.plot(one['lon'].isel(obs=slice(tb-40,tb+1)),-one['z'].isel(obs=slice(tb-40,tb+1)),c='r',marker='o',label='particle trajectory')\n",
    "ax.scatter(lons,ds,s=7,c='c',label='flow gridpoint')\n",
    "ax.scatter(lonm,dm,s=15,c='k',label='coral gridpoint')\n",
    "C = np.hypot(flowdata['U'].isel(T=TB),flowdata['V'].isel(T=TB))\n",
    "ax.quiver(flowdata['X'],flowdata['Y'],flowdata['U'].isel(T=TB),flowdata['V'].isel(T=TB),C,angles='xy',scale=50)\n",
    "plt.ylim(-one['z'].isel(obs=tb)-0.05,-one['z'].isel(obs=tb)+0.05)\n",
    "plt.xlim(one['lon'].isel(obs=tb)-0.05,one['lon'].isel(obs=tb)+0.05)\n",
    "plt.ylabel('Height [m]')\n",
    "plt.xlabel('Horizontal distance [m]')\n",
    "plt.title('Beaching trajectory '+str(traj))\n",
    "plt.legend()\n",
    "# plt.savefig('Figures/beachingTrajectory'+str(traj))"
   ]
  },
  {
   "cell_type": "markdown",
   "metadata": {},
   "source": [
    "Here we look at some statistics of beaching"
   ]
  },
  {
   "cell_type": "code",
   "execution_count": 8,
   "metadata": {},
   "outputs": [],
   "source": [
    "ct = np.zeros(len(data['finaldistance'][0]))\n",
    "ct[-1] = np.count_nonzero(data['finaldistance'][:,-1]==0)\n",
    "beac = np.zeros((int(ct[-1])),dtype=np.int64)\n",
    "# beac[:,1] = np.nonzero(data['finaldistance'][:,-1]==0)[0]\n",
    "bn = data['finaldistance'].where(data['finaldistance'][:,-1]==0,drop=True).values\n",
    "for i in range(len(bn)):\n",
    "    cn = 0\n",
    "    for j in np.arange(len(bn[i])-2,-1,-1):\n",
    "        if bn[i,j] == 0:\n",
    "            cn += 1\n",
    "        else:\n",
    "            break\n",
    "    beac[i] = 44 - cn/10\n",
    "for i in np.arange(len(data['finaldistance'][0])-2,-1,-1): # each timestep\n",
    "    ct[i] = np.count_nonzero(data['finaldistance'][:,i]==0) #count how many values are zero "
   ]
  },
  {
   "cell_type": "code",
   "execution_count": 10,
   "metadata": {
    "collapsed": true,
    "jupyter": {
     "outputs_hidden": true
    }
   },
   "outputs": [
    {
     "data": {
      "text/plain": [
       "(0, 768.6)"
      ]
     },
     "execution_count": 10,
     "metadata": {},
     "output_type": "execute_result"
    }
   ],
   "source": [
    "plt.hist(beac)\n",
    "plt.title('Particles beached per timebin')\n",
    "plt.ylabel('number of particles')\n",
    "plt.xlabel('time beached [s]')\n",
    "plt.ylim(bottom=0)"
   ]
  },
  {
   "cell_type": "code",
   "execution_count": 8,
   "metadata": {
    "collapsed": true,
    "jupyter": {
     "outputs_hidden": true
    }
   },
   "outputs": [],
   "source": [
    "fig = plt.figure(figsize=(18,2))\n",
    "ax = plt.axes()\n",
    "ax.set_facecolor('k')\n",
    "cf = ax.contourf(flowdata['X'],flowdata['Y'],flowdata['U'][8,:,:],np.linspace(-10,-9,21),extend='both',cmap=cmocean.cm.dense_r)\n",
    "sc = ax.scatter(bdata['lon'][:,0], -bdata['z'][:,0], c=bdata['z'][:,0],s=10, marker=\"o\",cmap='Spectral_r')\n",
    "topleft = 0.05\n",
    "if fb == 'backward':\n",
    "    topleft = 0.8\n",
    "time_text = ax.text(topleft, 0.95,'',horizontalalignment='left',verticalalignment='top', transform=ax.transAxes)\n",
    "cbar = fig.colorbar(sc,label='Initial depth [m]')\n",
    "cbar.ax.invert_yaxis()\n",
    "\n",
    "def animate(i,fig,sc):\n",
    "    sc.set_offsets(np.c_[bdata['lon'][:,i], -bdata['z'][:,i]])\n",
    "    ts = i*outputdt.microseconds/1000000\n",
    "    if fb == 'b':\n",
    "        ts = ts*-1\n",
    "    time_text.set_text('time = %.1f seconds' % ts)\n",
    "    return sc, time_text,\n",
    "\n",
    "ax.set_xlabel(\"x [m]\")\n",
    "ax.set_ylabel(\"z (m)\")\n",
    "ax.set_xlim(-0.5,8.5)\n",
    "ax.set_ylim(-0.49,0.5)\n",
    "anim = animation.FuncAnimation(fig, animate, fargs = (fig, sc),\n",
    "                               frames = len(bdata['lon'][0]), blit=True)\n",
    "# anim.save('Figures/beaching.mp4')\n",
    "plt.show()"
   ]
  },
  {
   "cell_type": "markdown",
   "metadata": {},
   "source": [
    "Now we are going to look at the mass fluxes in each cell between 4 gridpoints to see if mass is conserved"
   ]
  },
  {
   "cell_type": "code",
   "execution_count": 7,
   "metadata": {},
   "outputs": [],
   "source": [
    "# dy = float(flowdata['Y'][0]-flowdata['Y'][1])\n",
    "# dx = float(flowdata['X'][1]-flowdata['X'][0])\n",
    "# V = np.zeros((len(flowdata['T']),len(flowdata['X'])-1,len(flowdata['Y'])))\n",
    "# U = np.zeros((len(flowdata['T']),len(flowdata['X']),len(flowdata['Y'])-1))\n",
    "# massflux = np.zeros((len(flowdata['T']),len(flowdata['X'])-1,len(flowdata['Y'])-1))"
   ]
  },
  {
   "cell_type": "code",
   "execution_count": 15,
   "metadata": {},
   "outputs": [],
   "source": [
    "# for i in range(len(flowdata['X'])-1):\n",
    "#     V[:,i,:] = np.sum(flowdata['V'][:,:,i:i+1],axis=2)/2*dx\n",
    "# print('done')\n",
    "# for j in range(len(flowdata['Y'])-1):\n",
    "#     U[:,:,j] = np.sum(flowdata['U'][:,j:j+1,:],axis=1)/2*dy\n",
    "# print('done again')\n",
    "\n",
    "# for i in range(len(flowdata['X'])-1):\n",
    "#     for j in range(len(flowdata['Y'])-1):\n",
    "#         massflux[:,i,j] = np.sum([U[:,i,j],-U[:,i+1,j],-V[:,i,j],V[:,i,j+1]],axis=0)\n",
    "#     print(i)\n",
    "\n",
    "# np.save('massfluxest0',massflux,allow_pickle=True)\n",
    "massflux = np.load('massfluxest0.npy')"
   ]
  },
  {
   "cell_type": "code",
   "execution_count": 9,
   "metadata": {},
   "outputs": [],
   "source": [
    "dy = float(flowdata['Y'][0]-flowdata['Y'][1])\n",
    "dx = float(flowdata['X'][1]-flowdata['X'][0])\n",
    "# U = np.zeros((len(flowdata['T']),len(flowdata['X'])-1,len(flowdata['Y'])-2))\n",
    "# V = np.zeros((len(flowdata['T']),len(flowdata['X'])-2,len(flowdata['Y'])-1))\n",
    "# massfluxb = np.zeros((len(flowdata['T']),len(flowdata['X'])-2,len(flowdata['Y'])-2))\n",
    "\n",
    "# for i in range(len(flowdata['X'])-1):\n",
    "#     U[:,i,:] = np.sum(flowdata['U'][:,1:-1,i:i+1],axis=2)/2*dx\n",
    "# print('done')\n",
    "# for j in range(len(flowdata['Y'])-1):\n",
    "#     V[:,:,j] = np.sum(flowdata['V'][:,j:j+1,1:-1],axis=1)/2*dy\n",
    "# print('done again')\n",
    "\n",
    "# for i in range(len(flowdata['X'])-2):\n",
    "#     for j in range(len(flowdata['Y'])-2):\n",
    "#         massfluxb[:,i,j] = np.sum([U[:,i,j],-U[:,i+1,j],-V[:,i,j],V[:,i,j+1]],axis=0)\n",
    "#     print(i)\n",
    "    \n",
    "# np.save('massfluxesbt0',massfluxb,allow_pickle=True)\n",
    "massfluxb = np.load('massfluxesbt0.npy')"
   ]
  },
  {
   "cell_type": "code",
   "execution_count": 11,
   "metadata": {},
   "outputs": [],
   "source": [
    "divergence = -massfluxb/dy/dx"
   ]
  },
  {
   "cell_type": "code",
   "execution_count": 12,
   "metadata": {},
   "outputs": [
    {
     "data": {
      "text/plain": [
       "(898, 98)"
      ]
     },
     "execution_count": 12,
     "metadata": {},
     "output_type": "execute_result"
    }
   ],
   "source": [
    "divergence[0].shape"
   ]
  },
  {
   "cell_type": "markdown",
   "metadata": {},
   "source": [
    "Here we see that the divergence and convergence at the coral boundary achieves values of up to 40 per second. This means that at each second, the mass within a gridcell may increase or decrease 40 times."
   ]
  },
  {
   "cell_type": "code",
   "execution_count": 14,
   "metadata": {},
   "outputs": [],
   "source": [
    "%matplotlib qt\n",
    "fig = plt.figure(figsize=(18,4))\n",
    "ax = plt.axes()\n",
    "# ax.plot(one['lon'].isel(obs=slice(tb-40,tb+1)),-one['z'].isel(obs=slice(tb-40,tb+1)),c='r',marker='o',label='particle trajectory')\n",
    "pc = ax.pcolormesh(divergence[0].transpose(),vmin=-50,vmax=50,cmap='RdYlGn')\n",
    "# pc = ax.pcolormesh(x,y,divergence[0].transpose(),vmin=-50,vmax=50,cmap='RdYlGn')\n",
    "ax.invert_yaxis()\n",
    "cbar = fig.colorbar(pc,label='Divergence [$1/s$]')\n",
    "time_text = ax.text(0.05, 0.95,'time',horizontalalignment='left',verticalalignment='top', transform=ax.transAxes)\n",
    "ax.invert_yaxis()\n",
    "ax.set_xlabel(\"x [m]\")\n",
    "ax.set_ylabel(\"height [m]\")\n",
    "plt.title('Divergence of the velocity field [1/s]')\n",
    "def animate(i):\n",
    "    pc.set_array(divergence[i].transpose().flatten())\n",
    "    ts = i\n",
    "    time_text.set_text('time = %.1f seconds' % ts)\n",
    "#     return time_text,\n",
    "\n",
    "# anim = animation.FuncAnimation(fig, animate,interval=1000, frames = len(flowdata['T']))\n",
    "# anim.save('Figures/divergence1.mp4')"
   ]
  },
  {
   "cell_type": "code",
   "execution_count": 107,
   "metadata": {
    "collapsed": true,
    "jupyter": {
     "outputs_hidden": true
    }
   },
   "outputs": [],
   "source": [
    "%matplotlib qt\n",
    "fig = plt.figure(figsize=(18,4))\n",
    "ax = plt.axes()\n",
    "# ax.plot(one['lon'].isel(obs=slice(tb-40,tb+1)),-one['z'].isel(obs=slice(tb-40,tb+1)),c='r',marker='o',label='particle trajectory')\n",
    "pc = ax.pcolormesh(x,y,massflux[0].transpose(),vmin=-np.max(abs(massflux)),vmax=np.max(abs(massflux)),cmap=cmocean.cm.balance)\n",
    "cbar = fig.colorbar(pc,label='Flux [$m^2/s$]')\n",
    "time_text = ax.text(0.05, 0.95,'time',horizontalalignment='left',verticalalignment='top', transform=ax.transAxes)\n",
    "ax.set_xlabel(\"x [m]\")\n",
    "ax.set_ylabel(\"z (m)\")\n",
    "plt.title('Cumulative flux into gridcells [$m^2/s$]')\n",
    "def animate(i):\n",
    "    pc.set_array(massflux[i].transpose().flatten())\n",
    "    ts = i\n",
    "    time_text.set_text('time = %.1f seconds' % ts)\n",
    "#     return time_text,\n",
    "\n",
    "anim = animation.FuncAnimation(fig, animate,interval=1000, frames = len(flowdata['T']))"
   ]
  }
 ],
 "metadata": {
  "kernelspec": {
   "display_name": "Python 3",
   "language": "python",
   "name": "python3"
  },
  "language_info": {
   "codemirror_mode": {
    "name": "ipython",
    "version": 3
   },
   "file_extension": ".py",
   "mimetype": "text/x-python",
   "name": "python",
   "nbconvert_exporter": "python",
   "pygments_lexer": "ipython3",
   "version": "3.7.3"
  }
 },
 "nbformat": 4,
 "nbformat_minor": 4
}
