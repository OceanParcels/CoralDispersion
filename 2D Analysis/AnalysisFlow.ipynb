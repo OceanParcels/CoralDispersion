{
 "cells": [
  {
   "cell_type": "code",
   "execution_count": 2,
   "metadata": {},
   "outputs": [
    {
     "data": {
      "text/plain": [
       "200000000.0"
      ]
     },
     "execution_count": 2,
     "metadata": {},
     "output_type": "execute_result"
    }
   ],
   "source": [
    "Pe = 0.5/(2.5*10**-9)\n",
    "Pe"
   ]
  },
  {
   "cell_type": "markdown",
   "metadata": {},
   "source": [
    "# Flow\n",
    "In this notebook we are going to analyse the effect of the incoming flow on the connectivity of the sedentary organisms"
   ]
  },
  {
   "cell_type": "code",
   "execution_count": 1,
   "metadata": {},
   "outputs": [],
   "source": [
    "import numpy as np\n",
    "import matplotlib as mpl\n",
    "import matplotlib.pyplot as plt\n",
    "import xarray as xr\n",
    "import cmocean\n",
    "from matplotlib.colors import ListedColormap, Normalize"
   ]
  },
  {
   "cell_type": "code",
   "execution_count": 2,
   "metadata": {},
   "outputs": [],
   "source": [
    "foldername = '21objects'\n",
    "flowset = ['parabolic','waveparabolic']\n",
    "tstep = '001'\n",
    "fb = 'forward'\n",
    "d2cmax = 0.05\n",
    "beaching_strategy = '2'\n",
    "perarea = 1\n",
    "\n",
    "filename = flowset[0]+'.nc'\n",
    "flowdata = xr.open_dataset(foldername+'/'+filename)\n",
    "\n",
    "dx = flowdata['X'][1]-flowdata['X'][0]\n",
    "dy = dx\n",
    "\n",
    "\n",
    "objects = np.load(foldername+'/preprocessed/'+'objects.npy')\n",
    "x,y = np.meshgrid(flowdata['X'],flowdata['Y'])\n",
    "xmesh,ymesh = np.meshgrid(np.arange(flowdata['X'].values[0]-0.5*dx, flowdata['X'].values[-1]+0.5*dx, dx),\n",
    "                np.arange(flowdata['Y'].values[0]+0.5*dy, flowdata['Y'].values[-1]-1.5*dy, -dy))\n",
    "xob,yob = np.meshgrid(np.arange(-0.5, len(objects)+0.5, 1),\n",
    "                np.arange(-0.5, len(objects)+0.5, 1))\n",
    "xfs,yfs = np.meshgrid(np.arange(-0.5, len(flowset)+0.5, 1),\n",
    "                np.arange(-0.5, len(flowset)+0.5, 1))\n",
    "my_cmap = ListedColormap(['dodgerblue','g','purple','darkorange','red','purple'])\n",
    "labellist = [0, 1, 3, 4, 6, 7, 9, 10, 11, 12, 13, 15, 16, 17, 19, 21]"
   ]
  },
  {
   "cell_type": "markdown",
   "metadata": {},
   "source": [
    "If the connectivity matrices need to be calculated from new data, create the with the following cell. If you want to analyse existing adjacency matrices, skip the cell and proceed with the next."
   ]
  },
  {
   "cell_type": "code",
   "execution_count": 3,
   "metadata": {},
   "outputs": [],
   "source": [
    "conmatrix = np.zeros((len(flowset),len(objects),len(objects)))\n",
    "noselfmatrix = np.zeros((len(flowset),len(objects),len(objects)))\n",
    "for i,flow in enumerate(flowset):\n",
    "    if perarea:\n",
    "        conmatrix[i] = np.load(foldername+'/postprocessed/conmatrix-Single-Perarea-'+beaching_strategy+'-'+flow+'-'+tstep+'-'+str(d2cmax)+'.npy')\n",
    "    else:\n",
    "        conmatrix[i] = np.load(foldername+'/postprocessed/conmatrix-Single-'+beaching_strategy+'-'+flow+'-'+tstep+'-'+str(d2cmax)+'.npy')\n",
    "    noselfmatrix[i] = conmatrix[i]\n",
    "    np.fill_diagonal(noselfmatrix[i],0)"
   ]
  },
  {
   "cell_type": "code",
   "execution_count": 13,
   "metadata": {},
   "outputs": [
    {
     "data": {
      "image/png": "[encoded data removed]",
      "text/plain": [
       "<Figure size 1296x144 with 1 Axes>"
      ]
     },
     "metadata": {
      "needs_background": "light"
     },
     "output_type": "display_data"
    }
   ],
   "source": [
    "fig = plt.figure(figsize=(18,2))\n",
    "ax = plt.axes()\n",
    "ax.grid(axis='x')\n",
    "\n",
    "plt.tick_params(      # changes apply to the x-axis\n",
    "    which='both',      # both major and minor ticks are affected\n",
    "    top=False,         # ticks along the top edge are off\n",
    "    left=False,      # ticks along the left edge are off\n",
    "    labelleft=False) # labels along the left edge are off\n",
    "\n",
    "xlocs = np.zeros(len(objects))\n",
    "for i in range(len(objects)):\n",
    "    xlocs[i] = np.mean(x[objects[i]])\n",
    "\n",
    "plt.xticks(xlocs,np.arange(0,len(objects),1),fontsize=16)\n",
    "for i in range(len(objects)):\n",
    "    ax.scatter(x[objects[i]],y[objects[i]],s=10,c=['k'])\n",
    "# plt.savefig('Figures/objectnumbers')"
   ]
  },
  {
   "cell_type": "code",
   "execution_count": 5,
   "metadata": {},
   "outputs": [],
   "source": [
    "%matplotlib qt\n",
    "colors =cmocean.cm.dense\n",
    "cNorm = Normalize(vmin=0.1, vmax=50)\n",
    "colors.set_under('w')\n",
    "\n",
    "fig = plt.figure(figsize=(7,6))\n",
    "ax = plt.axes()\n",
    "\n",
    "\n",
    "pc = ax.pcolormesh(xob,yob,noselfmatrix[1],norm=cNorm,cmap = colors)\n",
    "# ax.set_title(flowset[i],fontweight=\"bold\",fontsize = 16)\n",
    "ax.set_xticks(np.arange(0,len(objects),1))\n",
    "ax.set_yticks(np.arange(0,len(objects),1))\n",
    "if foldername == '16objects':\n",
    "    ax.set_xticklabels(labellist,fontsize = 14)\n",
    "    ax.set_yticklabels(labellist,fontsize = 14)\n",
    "else:\n",
    "    ax.set_xticklabels(np.arange(0,len(objects),1),fontsize = 12)\n",
    "    ax.set_yticklabels(np.arange(0,len(objects),1),fontsize = 12)\n",
    "ax.set_xlabel(\"ending object\",fontsize = 16)\n",
    "ax.set_ylabel(\"starting object\",fontsize = 16)\n",
    "#     ax[i].grid()\n",
    "fig.subplots_adjust(bottom=0.2,right=0.8)\n",
    "cbar_ax = fig.add_axes([0.83, 0.2, 0.03, 0.68])\n",
    "if perarea:\n",
    "    cbar = fig.colorbar(pc, cax=cbar_ax)\n",
    "    cbar.set_label('Number of particles $m^{-1}$ $s^{-1}$',size=16)\n",
    "    cbar.ax.tick_params(labelsize=16)\n",
    "    plt.savefig('Figures/noselfmatrix-'+foldername+'-perarea')\n",
    "else:\n",
    "    cbar = fig.colorbar(pc, cax=cbar_ax)\n",
    "    cbar.set_label('Number of particles $s^{-1}$',size=16)\n",
    "    cbar.ax.tick_params(labelsize=16)\n",
    "    plt.savefig('Figures/noselfmatrix-'+foldername)"
   ]
  },
  {
   "cell_type": "code",
   "execution_count": 17,
   "metadata": {},
   "outputs": [],
   "source": [
    "%matplotlib qt\n",
    "colors =cmocean.cm.dense\n",
    "cNorm = Normalize(vmin=0.1, vmax=50)\n",
    "colors.set_under('w')\n",
    "\n",
    "fig,ax = plt.subplots(1,2,figsize=(14,6))\n",
    "\n",
    "for i in range(len(flowset)):\n",
    "    pc = ax[i].pcolormesh(xob,yob,noselfmatrix[i],norm=cNorm,cmap = colors)\n",
    "    ax[i].set_title(flowset[i],fontweight=\"bold\",fontsize = 16)\n",
    "    ax[i].set_xticks(np.arange(0,len(objects),1))\n",
    "    ax[i].set_yticks(np.arange(0,len(objects),1))\n",
    "    if foldername == '16objects':\n",
    "        ax[i].set_xticklabels(labellist,fontsize = 14)\n",
    "        ax[i].set_yticklabels(labellist,fontsize = 14)\n",
    "    else:\n",
    "        ax[i].set_xticklabels(np.arange(0,len(objects),1),fontsize = 12)\n",
    "        ax[i].set_yticklabels(np.arange(0,len(objects),1),fontsize = 12)\n",
    "    ax[i].set_xlabel(\"ending object\",fontsize = 16)\n",
    "    ax[i].set_ylabel(\"starting object\",fontsize = 16)\n",
    "#     ax[i].grid()\n",
    "fig.subplots_adjust(bottom=0.2,right=0.8)\n",
    "cbar_ax = fig.add_axes([0.83, 0.2, 0.03, 0.68])\n",
    "if perarea:\n",
    "    cbar = fig.colorbar(pc, cax=cbar_ax)\n",
    "    cbar.set_label('Number of particles $m^{-1}$ $s^{-1}$',size=16)\n",
    "    cbar.ax.tick_params(labelsize=16)\n",
    "    plt.savefig('Figures/noselfmatrix-'+foldername+'-perarea-flowcomp')\n",
    "else:\n",
    "    cbar = fig.colorbar(pc, cax=cbar_ax)\n",
    "    cbar.set_label('Number of particles $s^{-1}$',size=16)\n",
    "    cbar.ax.tick_params(labelsize=16)\n",
    "    plt.savefig('Figures/noselfmatrix-'+foldername+'-flowcomp')"
   ]
  },
  {
   "cell_type": "code",
   "execution_count": 25,
   "metadata": {},
   "outputs": [],
   "source": [
    "DIFF = np.zeros((len(flowset),len(flowset),len(objects),len(objects)))\n",
    "for i in range(len(DIFF)):\n",
    "    for j in range(len(DIFF[i])):\n",
    "        DIFF[i,j] = noselfmatrix[i] - noselfmatrix[j]"
   ]
  },
  {
   "cell_type": "code",
   "execution_count": 26,
   "metadata": {},
   "outputs": [
    {
     "data": {
      "image/png": "[encoded data removed]",
      "text/plain": [
       "<Figure size 720x576 with 2 Axes>"
      ]
     },
     "metadata": {
      "needs_background": "light"
     },
     "output_type": "display_data"
    }
   ],
   "source": [
    "%matplotlib inline\n",
    "colors = plt.get_cmap('cmo.balance')\n",
    "cNorm = Normalize(vmin=-14, vmax=14)\n",
    "\n",
    "newcolors = colors(np.linspace(0, 1, 500))\n",
    "white = np.array([255/256, 255/256, 255/256, 1])\n",
    "newcolors[250:252, :] = white\n",
    "newcmp = ListedColormap(newcolors)\n",
    "\n",
    "fig = plt.figure(figsize=(10,8))\n",
    "ax = plt.axes()\n",
    "\n",
    "pc = ax.pcolormesh(xob,yob,DIFF[1,0],norm=cNorm,cmap = newcmp)\n",
    "# ax.set_title(flowset[1]+' - '+flowset[0])\n",
    "ax.set_xticks(np.arange(0,len(objects),1))\n",
    "ax.set_yticks(np.arange(0,len(objects),1))\n",
    "if len(objects)<20:\n",
    "    ax.set_xticklabels(labellist,fontsize=14)\n",
    "    ax.set_yticklabels(labellist,fontsize=14)\n",
    "else:\n",
    "    ax.set_xticklabels(np.arange(0,len(objects),1),fontsize = 12)\n",
    "    ax.set_yticklabels(np.arange(0,len(objects),1),fontsize = 12)\n",
    "ax.set_xlabel(\"ending object\",fontsize = 16)\n",
    "ax.set_ylabel(\"starting object\",fontsize = 16)\n",
    "#     ax[i].grid()\n",
    "# fig.subplots_adjust(bottom=0.3)\n",
    "# cbar_ax = fig.add_axes([0.83, 0.2, 0.03, 0.68])\n",
    "if perarea:\n",
    "    cbar = fig.colorbar(pc)\n",
    "    cbar.set_label('Difference in number of particles with waves $m^{-1}$ $s^{-1}$',size=16)\n",
    "    cbar.ax.tick_params(labelsize=16)\n",
    "    plt.savefig('Figures/'+foldername+'wavediff-perarea')\n",
    "else:\n",
    "    cbar = fig.colorbar(pc)\n",
    "    cbar.set_label('Difference in number of particles with waves $s^{-1}$',size=16)\n",
    "    cbar.ax.tick_params(labelsize=16)\n",
    "    plt.savefig('Figures/'+foldername+'wavediff')"
   ]
  },
  {
   "cell_type": "code",
   "execution_count": 9,
   "metadata": {},
   "outputs": [
    {
     "ename": "IndexError",
     "evalue": "index 2 is out of bounds for axis 1 with size 2",
     "output_type": "error",
     "traceback": [
      "\u001b[1;31m---------------------------------------------------------------------------\u001b[0m",
      "\u001b[1;31mIndexError\u001b[0m                                Traceback (most recent call last)",
      "\u001b[1;32m<ipython-input-9-999affeb6155>\u001b[0m in \u001b[0;36m<module>\u001b[1;34m\u001b[0m\n\u001b[0;32m     13\u001b[0m \u001b[0max\u001b[0m\u001b[1;33m[\u001b[0m\u001b[1;36m0\u001b[0m\u001b[1;33m]\u001b[0m\u001b[1;33m.\u001b[0m\u001b[0mset_ylabel\u001b[0m\u001b[1;33m(\u001b[0m\u001b[1;34m\"starting object\"\u001b[0m\u001b[1;33m)\u001b[0m\u001b[1;33m\u001b[0m\u001b[1;33m\u001b[0m\u001b[0m\n\u001b[0;32m     14\u001b[0m \u001b[1;33m\u001b[0m\u001b[0m\n\u001b[1;32m---> 15\u001b[1;33m \u001b[0mpc\u001b[0m \u001b[1;33m=\u001b[0m \u001b[0max\u001b[0m\u001b[1;33m[\u001b[0m\u001b[1;36m1\u001b[0m\u001b[1;33m]\u001b[0m\u001b[1;33m.\u001b[0m\u001b[0mpcolormesh\u001b[0m\u001b[1;33m(\u001b[0m\u001b[0mxob\u001b[0m\u001b[1;33m,\u001b[0m\u001b[0myob\u001b[0m\u001b[1;33m,\u001b[0m\u001b[0mDIFF\u001b[0m\u001b[1;33m[\u001b[0m\u001b[1;36m0\u001b[0m\u001b[1;33m,\u001b[0m\u001b[1;36m2\u001b[0m\u001b[1;33m]\u001b[0m\u001b[1;33m,\u001b[0m\u001b[0mnorm\u001b[0m\u001b[1;33m=\u001b[0m\u001b[0mcNorm\u001b[0m\u001b[1;33m,\u001b[0m\u001b[0mcmap\u001b[0m \u001b[1;33m=\u001b[0m \u001b[0mcolors\u001b[0m\u001b[1;33m)\u001b[0m\u001b[1;33m\u001b[0m\u001b[1;33m\u001b[0m\u001b[0m\n\u001b[0m\u001b[0;32m     16\u001b[0m \u001b[0max\u001b[0m\u001b[1;33m[\u001b[0m\u001b[1;36m1\u001b[0m\u001b[1;33m]\u001b[0m\u001b[1;33m.\u001b[0m\u001b[0mset_title\u001b[0m\u001b[1;33m(\u001b[0m\u001b[1;34m'Difference '\u001b[0m\u001b[1;33m+\u001b[0m\u001b[0mflowset\u001b[0m\u001b[1;33m[\u001b[0m\u001b[1;36m0\u001b[0m\u001b[1;33m]\u001b[0m\u001b[1;33m+\u001b[0m\u001b[1;34m' and '\u001b[0m\u001b[1;33m+\u001b[0m\u001b[0mflowset\u001b[0m\u001b[1;33m[\u001b[0m\u001b[1;36m2\u001b[0m\u001b[1;33m]\u001b[0m\u001b[1;33m)\u001b[0m\u001b[1;33m\u001b[0m\u001b[1;33m\u001b[0m\u001b[0m\n\u001b[0;32m     17\u001b[0m \u001b[0max\u001b[0m\u001b[1;33m[\u001b[0m\u001b[1;36m1\u001b[0m\u001b[1;33m]\u001b[0m\u001b[1;33m.\u001b[0m\u001b[0mset_xticks\u001b[0m\u001b[1;33m(\u001b[0m\u001b[0mnp\u001b[0m\u001b[1;33m.\u001b[0m\u001b[0marange\u001b[0m\u001b[1;33m(\u001b[0m\u001b[1;36m0\u001b[0m\u001b[1;33m,\u001b[0m\u001b[0mlen\u001b[0m\u001b[1;33m(\u001b[0m\u001b[0mobjects\u001b[0m\u001b[1;33m)\u001b[0m\u001b[1;33m,\u001b[0m\u001b[1;36m1\u001b[0m\u001b[1;33m)\u001b[0m\u001b[1;33m)\u001b[0m\u001b[1;33m\u001b[0m\u001b[1;33m\u001b[0m\u001b[0m\n",
      "\u001b[1;31mIndexError\u001b[0m: index 2 is out of bounds for axis 1 with size 2"
     ]
    },
    {
     "data": {
      "image/png": "[encoded data removed]",
      "text/plain": [
       "<Figure size 864x432 with 2 Axes>"
      ]
     },
     "metadata": {
      "needs_background": "light"
     },
     "output_type": "display_data"
    }
   ],
   "source": [
    "%matplotlib inline\n",
    "colors = plt.get_cmap('Reds')\n",
    "cNorm = Normalize(vmin=0.001, vmax=40)\n",
    "colors.set_under('w')\n",
    "\n",
    "fig,ax = plt.subplots(1,(len(flowset)),figsize=(6*(len(flowset)),6))\n",
    "\n",
    "pc = ax[0].pcolormesh(xob,yob,DIFF[0,1],norm=cNorm,cmap = colors)\n",
    "ax[0].set_title('Difference '+flowset[0]+' and '+flowset[1])\n",
    "ax[0].set_xticks(np.arange(0,len(objects),1))\n",
    "ax[0].set_yticks(np.arange(0,len(objects),1))\n",
    "ax[0].set_xlabel(\"ending object\")\n",
    "ax[0].set_ylabel(\"starting object\")\n",
    "\n",
    "pc = ax[1].pcolormesh(xob,yob,DIFF[0,2],norm=cNorm,cmap = colors)\n",
    "ax[1].set_title('Difference '+flowset[0]+' and '+flowset[2])\n",
    "ax[1].set_xticks(np.arange(0,len(objects),1))\n",
    "ax[1].set_yticks(np.arange(0,len(objects),1))\n",
    "ax[1].set_xlabel(\"ending object\")\n",
    "ax[1].set_ylabel(\"starting object\")\n",
    "\n",
    "pc = ax[2].pcolormesh(xob,yob,DIFF[1,2],norm=cNorm,cmap = colors)\n",
    "ax[2].set_title('Difference '+flowset[1]+' and '+flowset[2])\n",
    "ax[2].set_xticks(np.arange(0,len(objects),1))\n",
    "ax[2].set_yticks(np.arange(0,len(objects),1))\n",
    "ax[2].set_xlabel(\"ending object\")\n",
    "ax[2].set_ylabel(\"starting object\")\n",
    "\n",
    "\n",
    "fig.subplots_adjust(bottom=0.3)\n",
    "cbar_ax = fig.add_axes([0.2, 0.1, 0.6, 0.05])\n",
    "cbar = fig.colorbar(pc,orientation='horizontal',label='Number of particles $m^{-1}$ $s^{-1}$', cax=cbar_ax)\n",
    "plt.savefig('Figures/diffmatrix-perarea-flowcomp')"
   ]
  },
  {
   "cell_type": "code",
   "execution_count": 15,
   "metadata": {},
   "outputs": [],
   "source": [
    "maxcolsum = np.zeros((len(DIFF),len(DIFF[0])))\n",
    "maxrowsum = np.zeros((len(DIFF),len(DIFF[0])))\n",
    "frobenius = np.zeros((len(DIFF),len(DIFF[0])))\n",
    "for i in range(len(DIFF)):\n",
    "    for j in range(len(DIFF[i])):\n",
    "        maxcolsum[i,j] = np.amax(np.sum(np.absolute(DIFF[i,j]),axis=1))\n",
    "        maxrowsum[i,j] = np.amax(np.sum(np.absolute(DIFF[i,j]),axis=0))\n",
    "        frobenius[i,j] = np.sqrt(np.sum(np.square(np.absolute(DIFF[i,j]))))"
   ]
  },
  {
   "cell_type": "code",
   "execution_count": 16,
   "metadata": {},
   "outputs": [
    {
     "data": {
      "image/png": "[encoded data removed]",
      "text/plain": [
       "<Figure size 432x288 with 2 Axes>"
      ]
     },
     "metadata": {
      "needs_background": "light"
     },
     "output_type": "display_data"
    }
   ],
   "source": [
    "colors = plt.get_cmap('Reds')\n",
    "cNorm = Normalize(vmin=0.001, vmax=100)\n",
    "colors.set_under('w')\n",
    "\n",
    "fig = plt.figure()\n",
    "ax = plt.axes()\n",
    "\n",
    "pc = ax.pcolormesh(xfs,yfs,frobenius,norm=cNorm,cmap = colors)\n",
    "ax.set_title('Frobenius Difference Norm')\n",
    "ax.set_xticks(np.arange(0,len(flowset),1))\n",
    "ax.set_yticks(np.arange(0,len(flowset),1))\n",
    "ax.set_xticklabels(flowset)\n",
    "ax.set_yticklabels(flowset)\n",
    "ax.set_xlabel(\"Flow regime\")\n",
    "ax.set_ylabel(\"Flow regime\")\n",
    "\n",
    "fig.subplots_adjust(left=0.3)\n",
    "if perarea:\n",
    "    cbar = fig.colorbar(pc,label='Difference $m^{-1}$ $s^{-1}$')\n",
    "    plt.savefig('Figures/frobenius-perarea-flowcomp')\n",
    "else:\n",
    "    cbar = fig.colorbar(pc,label='Difference $s^{-1}$')\n",
    "    plt.savefig('Figures/frobenius-flowcomp')"
   ]
  },
  {
   "cell_type": "code",
   "execution_count": 12,
   "metadata": {},
   "outputs": [
    {
     "data": {
      "text/plain": [
       "array([[ 0.        , 40.13816821],\n",
       "       [40.13816821,  0.        ]])"
      ]
     },
     "execution_count": 12,
     "metadata": {},
     "output_type": "execute_result"
    }
   ],
   "source": [
    "frobenius"
   ]
  },
  {
   "cell_type": "code",
   "execution_count": 32,
   "metadata": {},
   "outputs": [],
   "source": [
    "indegree = np.sum(noselfmatrix,axis=1)\n",
    "outdegree = np.sum(noselfmatrix,axis=2)"
   ]
  },
  {
   "cell_type": "code",
   "execution_count": 33,
   "metadata": {},
   "outputs": [],
   "source": [
    "%matplotlib qt\n",
    "fig = plt.figure(figsize=(18,9))\n",
    "\n",
    "heights = [3, 1]\n",
    "spec = fig.add_gridspec(ncols=1, nrows=2, height_ratios=heights)\n",
    "\n",
    "ax0 = fig.add_subplot(spec[0])\n",
    "ax0.grid()\n",
    "\n",
    "xlocs = np.zeros(len(objects))\n",
    "for i in range(len(objects)):\n",
    "    xlocs[i] = np.mean(x[objects[i]])\n",
    "    \n",
    "ax0.bar(xlocs,indegree[0],width=0.15,label=flowset[0],color=my_cmap(2))\n",
    "ax0.bar(xlocs+0.05,indegree[1],width=0.15,label=flowset[1],color=my_cmap(3))\n",
    "ax0.set_axisbelow(True)\n",
    "\n",
    "ax0.set_xticks(xlocs)\n",
    "if len(objects)>20:\n",
    "    ax0.set_xticklabels(np.arange(0,len(objects),1))\n",
    "else:\n",
    "    ax0.set_xticklabels(labellist)\n",
    "ax0.set_xlim(0.3,8.5)\n",
    "ax0.set_xlabel(\"ending object\",fontsize=18)\n",
    "ax0.set_ylabel(\"In-degree [# of particles]\",fontsize = 18)\n",
    "ax0.legend(fontsize = 18)\n",
    "ax0.tick_params(labelsize=16)\n",
    "\n",
    "ax1 = fig.add_subplot(spec[1])\n",
    "ax1.grid(axis='x')\n",
    "ax1.set_xlim(0.3,8.5)\n",
    "\n",
    "ax1.tick_params(      # changes apply to the x-axis\n",
    "    labelsize = 16,\n",
    "    which='both',      # both major and minor ticks are affected\n",
    "    top=False,         # ticks along the top edge are off\n",
    "    left=False,      # ticks along the left edge are off\n",
    "    labelleft=False) # labels along the left edge are off\n",
    "\n",
    "ax1.set_xticks(xlocs)\n",
    "if len(objects)>20:\n",
    "    ax1.set_xticklabels(np.arange(0,len(objects),1))\n",
    "else:\n",
    "    ax1.set_xticklabels(labellist)\n",
    "\n",
    "for i in range(len(objects)):\n",
    "    ax1.scatter(x[objects[i]],y[objects[i]],s=10,c=['k'])\n",
    "    \n",
    "plt.savefig('Figures/indegree'+foldername+'-flowcomp')"
   ]
  },
  {
   "cell_type": "code",
   "execution_count": 24,
   "metadata": {},
   "outputs": [
    {
     "data": {
      "text/plain": [
       "array([0.8046875 , 1.0625    , 1.34461806, 1.609375  , 1.96875   ,\n",
       "       2.4076087 , 2.80825893, 3.28766325, 3.77844929, 4.09765625,\n",
       "       4.30654762, 4.52584135, 4.79973958, 5.07442434, 5.30682566,\n",
       "       5.53495066, 5.91186523, 6.19449013, 6.63175061, 7.046875  ,\n",
       "       7.53643932, 8.05354421])"
      ]
     },
     "execution_count": 24,
     "metadata": {},
     "output_type": "execute_result"
    }
   ],
   "source": [
    "xlocs"
   ]
  },
  {
   "cell_type": "markdown",
   "metadata": {},
   "source": [
    "Lower objects further down the flow direction like 15, 17 and 19 seem to be more connected in the uniform flow regime denoted by the cyan line. When checking this observation in the adjacency matrix, we can see that this connectivity is primarily caused by more intense connections with the direct neighbours "
   ]
  },
  {
   "cell_type": "markdown",
   "metadata": {},
   "source": [
    "Here we can look at the amount of fresh particles that interact with each object by looking at which object each particle interacts first with"
   ]
  },
  {
   "cell_type": "code",
   "execution_count": 41,
   "metadata": {},
   "outputs": [],
   "source": [
    "conmatrix = np.zeros((len(flowset),len(objects)))\n",
    "for i,flow in enumerate(flowset):\n",
    "    conmatrix[i] = np.load(foldername+'/results/freshconmatrix-'+beaching_strategy+'-'+flow+'-'+tstep+'-'+str(d2cmax)+'.npy')"
   ]
  },
  {
   "cell_type": "code",
   "execution_count": 44,
   "metadata": {},
   "outputs": [],
   "source": [
    "%matplotlib qt\n",
    "fig = plt.figure(figsize=(18,9))\n",
    "\n",
    "heights = [3, 1]\n",
    "spec = fig.add_gridspec(ncols=1, nrows=2, height_ratios=heights)\n",
    "\n",
    "ax0 = fig.add_subplot(spec[0])\n",
    "ax0.grid()\n",
    "\n",
    "xlocs = np.zeros(len(objects))\n",
    "for i in range(len(objects)):\n",
    "    xlocs[i] = np.mean(x[objects[i]])\n",
    "    \n",
    "for i in range(len(flowset)):\n",
    "    ax0.plot(xlocs,conmatrix[i],label=flowset[i],c=my_cmap(i),linewidth=3)\n",
    "ax0.set_xticks(xlocs)\n",
    "ax0.set_xticklabels(np.arange(0,len(objects),1))\n",
    "ax0.set_xlim(0.5,8.5)\n",
    "ax0.set_xlabel(\"ending object\",fontsize=18)\n",
    "ax0.set_ylabel(\"# of 'fresh' particles\",fontsize = 18)\n",
    "ax0.legend(fontsize = 18)\n",
    "ax0.tick_params(labelsize=16)\n",
    "\n",
    "ax1 = fig.add_subplot(spec[1])\n",
    "ax1.grid(axis='x')\n",
    "ax1.set_xlim(0.5,8.5)\n",
    "\n",
    "ax1.tick_params(      # changes apply to the x-axis\n",
    "    which='both',      # both major and minor ticks are affected\n",
    "    top=False,         # ticks along the top edge are off\n",
    "    left=False,      # ticks along the left edge are off\n",
    "    bottom=False,\n",
    "    labelbottom=False,\n",
    "    labelleft=False) # labels along the left edge are off\n",
    "\n",
    "ax1.set_xticks(xlocs)\n",
    "\n",
    "for i in range(len(objects)):\n",
    "    ax1.scatter(x[objects[i]],y[objects[i]],s=10,c=['k'])\n",
    "plt.savefig('Figures/fresh-flowcomp')"
   ]
  },
  {
   "cell_type": "code",
   "execution_count": null,
   "metadata": {},
   "outputs": [],
   "source": []
  }
 ],
 "metadata": {
  "kernelspec": {
   "display_name": "Python 3",
   "language": "python",
   "name": "python3"
  },
  "language_info": {
   "codemirror_mode": {
    "name": "ipython",
    "version": 3
   },
   "file_extension": ".py",
   "mimetype": "text/x-python",
   "name": "python",
   "nbconvert_exporter": "python",
   "pygments_lexer": "ipython3",
   "version": "3.7.3"
  }
 },
 "nbformat": 4,
 "nbformat_minor": 4
}
