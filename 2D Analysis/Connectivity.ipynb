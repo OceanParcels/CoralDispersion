{
 "cells": [
  {
   "cell_type": "markdown",
   "metadata": {},
   "source": [
    "Here we are going to explore the connectivity between objects by creating a map with the closest object"
   ]
  },
  {
   "cell_type": "code",
   "execution_count": 39,
   "metadata": {},
   "outputs": [],
   "source": [
    "%matplotlib qt\n",
    "import numpy as np\n",
    "import matplotlib.pyplot as plt\n",
    "import matplotlib.animation as animation\n",
    "from datetime import timedelta\n",
    "import xarray as xr\n",
    "from explfunctions import coraldistancemap, followPath\n",
    "import cmocean\n",
    "import seaborn as sns\n",
    "from matplotlib.colors import ListedColormap\n",
    "from matplotlib import cm"
   ]
  },
  {
   "cell_type": "code",
   "execution_count": 2,
   "metadata": {},
   "outputs": [],
   "source": [
    "name = 'output-corals-regridded'\n",
    "fb = 'forward' #variable to determine whether the flowfields are analysed 'forward' or 'backward' in time\n",
    "runtime=timedelta(seconds=44)                            # total time to execute the particleset\n",
    "outputdt = timedelta(seconds=0.1)\n",
    "filename = name+'.nc'\n",
    "dfilename = 'd2c'+name+fb+str(runtime.seconds)+'.nc'\n",
    "flowdata = xr.open_dataset(filename)\n",
    "data = xr.open_dataset(dfilename)"
   ]
  },
  {
   "cell_type": "code",
   "execution_count": 3,
   "metadata": {},
   "outputs": [],
   "source": [
    "objects = np.load('objects.npy')\n",
    "coastmask = np.load('coastmask.npy')\n",
    "xmesh,ymesh = np.meshgrid(flowdata['X'],flowdata['Y'])\n",
    "umask = np.ma.masked_invalid(flowdata['U'][0])"
   ]
  },
  {
   "cell_type": "code",
   "execution_count": 4,
   "metadata": {},
   "outputs": [],
   "source": [
    "mat = np.zeros(objects.shape)\n",
    "coralmap = np.zeros((len(objects)+1,len(objects[0]),len(objects[0,0])))\n",
    "for i in range(len(objects)):\n",
    "    mat,coralmap[i] = coraldistancemap(umask.mask,objects[i],xmesh,ymesh)\n",
    "coralmap[-1] = np.ones(xmesh.shape)*9998"
   ]
  },
  {
   "cell_type": "code",
   "execution_count": 5,
   "metadata": {},
   "outputs": [],
   "source": [
    "# index = np.ma.masked_array(np.argmin(coralmap,axis=0),umask.mask)\n",
    "# np.save('closestobject',np.argmin(coralmap,axis=0),allow_pickle=True)\n",
    "closestobject = np.load('closestobject.npy')\n",
    "index = np.ma.masked_array(closestobject,umask.mask)"
   ]
  },
  {
   "cell_type": "code",
   "execution_count": 73,
   "metadata": {},
   "outputs": [
    {
     "data": {
      "text/plain": [
       "(22, 100, 900)"
      ]
     },
     "execution_count": 73,
     "metadata": {},
     "output_type": "execute_result"
    }
   ],
   "source": [
    "objects.shape"
   ]
  },
  {
   "cell_type": "code",
   "execution_count": 7,
   "metadata": {},
   "outputs": [
    {
     "data": {
      "text/plain": [
       "Text(0, 0.5, 'height [m]')"
      ]
     },
     "execution_count": 7,
     "metadata": {},
     "output_type": "execute_result"
    }
   ],
   "source": [
    "%matplotlib qt\n",
    "\n",
    "from random import shuffle\n",
    "palette = sns.hls_palette(len(objects)+1, l=.7, s=.8)\n",
    "shuffle(palette)\n",
    "my_cmap = ListedColormap(palette)\n",
    "\n",
    "fig = plt.figure(figsize=(18,4))\n",
    "ax = plt.axes()\n",
    "pc = ax.pcolormesh(xmesh,ymesh,index,cmap=my_cmap)\n",
    "for i in range(len(objects)):\n",
    "#     ax.scatter(xmesh[objects[i]],ymesh[objects[i]],s=10,c=[palette[i]])\n",
    "    ax.text(np.mean(xmesh[objects[i]]),np.mean(ymesh[objects[i]]),str(i),horizontalalignment='center', verticalalignment='top')\n",
    "# ax.invert_yaxis()\n",
    "ax.set_xlabel(\"x [m]\")\n",
    "ax.set_ylabel(\"height [m]\")\n",
    "# plt.savefig('Figures/closestobject')"
   ]
  },
  {
   "cell_type": "markdown",
   "metadata": {},
   "source": [
    "Now we have information on the distance to the nearest object and which object is nearest. Now we want to compute the probability that particles in one halo enter another halo. For this we first need to figure out which particles pass through a single halo. The easiest way to do this is to sample the closest object."
   ]
  },
  {
   "cell_type": "code",
   "execution_count": 8,
   "metadata": {},
   "outputs": [],
   "source": [
    "objectnr = 5\n",
    "d2cmax = 0.05\n",
    "objectdata = data.where(data['closestobject'][:,0]==objectnr,drop=True)\n",
    "objectdata = objectdata.where(objectdata['d2c'][:,0]<d2cmax,drop=True)"
   ]
  },
  {
   "cell_type": "code",
   "execution_count": 9,
   "metadata": {},
   "outputs": [],
   "source": [
    "fig = plt.figure(figsize=(18,4))\n",
    "ax = plt.axes()\n",
    "ax.set_facecolor('k')\n",
    "cf = ax.contourf(flowdata['X'],flowdata['Y'],flowdata['U'][8,:,:],np.linspace(-10,-9,21),extend='both',cmap=cmocean.cm.dense_r)\n",
    "sc = ax.scatter(objectdata['lon'][:,0], -objectdata['z'][:,0], c=np.min(objectdata['d2c'],axis=1),s=10, marker=\"o\",cmap=cmocean.cm.amp_r)\n",
    "time_text = ax.text(0.05, 0.95,'',horizontalalignment='left',verticalalignment='top', transform=ax.transAxes)\n",
    "cbar = fig.colorbar(sc,orientation= 'horizontal',label='Smallest distance to coral [m]')\n",
    "\n",
    "def animate(i,fig,sc):\n",
    "    sc.set_offsets(np.c_[objectdata['lon'][:,i], -objectdata['z'][:,i]])\n",
    "    ts = i*outputdt.microseconds/1000000\n",
    "    time_text.set_text('time = %.1f seconds' % ts)\n",
    "    return sc, time_text,\n",
    "\n",
    "ax.set_xlabel(\"x [m]\")\n",
    "ax.set_ylabel(\"z (m)\")\n",
    "ax.set_xlim(-0.5,8.5)\n",
    "ax.set_ylim(-0.49,0.5)\n",
    "anim = animation.FuncAnimation(fig, animate, fargs = (fig, sc),\n",
    "                               frames = len(objectdata['lon'][0]), blit=True)\n",
    "# anim.save('Figures/d2clonc'+filename+'-'+str(runtime.seconds)+'-'+fb+str(d2cmax)+'.mp4')\n",
    "plt.show()"
   ]
  },
  {
   "cell_type": "markdown",
   "metadata": {},
   "source": [
    "We have now selected the particles that start near a single coral object. The next two steps are figuring out how to select all particles that pass through the halo of the single object and start looking at connectivity between objects"
   ]
  },
  {
   "cell_type": "code",
   "execution_count": 49,
   "metadata": {},
   "outputs": [],
   "source": [
    "objectnr = 8\n",
    "d2cmax = 0.05\n",
    "objectdata = data.where(data['closestobject'][:,0]==objectnr,drop=True)\n",
    "objectdata = objectdata.where(objectdata['d2c'][:,0]<d2cmax,drop=True)"
   ]
  },
  {
   "cell_type": "code",
   "execution_count": 50,
   "metadata": {},
   "outputs": [],
   "source": [
    "fig = plt.figure(figsize=(18,4))\n",
    "ax = plt.axes()\n",
    "ax.set_facecolor('k')\n",
    "cf = ax.contourf(flowdata['X'],flowdata['Y'],flowdata['U'][8,:,:],np.linspace(-10,-9,21),extend='both',cmap=cmocean.cm.dense_r)\n",
    "sc = ax.scatter(objectdata['lon'][:,0], -objectdata['z'][:,0], c=np.min(objectdata['d2c'],axis=1),s=10, marker=\"o\",cmap=cmocean.cm.amp_r)\n",
    "time_text = ax.text(0.05, 0.95,'',horizontalalignment='left',verticalalignment='top', transform=ax.transAxes)\n",
    "cbar = fig.colorbar(sc,orientation= 'horizontal',label='Smallest distance to coral [m]')\n",
    "\n",
    "def animate(i,fig,sc):\n",
    "    sc.set_offsets(np.c_[objectdata['lon'][:,i], -objectdata['z'][:,i]])\n",
    "    ts = i*outputdt.microseconds/1000000\n",
    "    time_text.set_text('time = %.1f seconds' % ts)\n",
    "    return sc, time_text,\n",
    "\n",
    "ax.set_xlabel(\"x [m]\")\n",
    "ax.set_ylabel(\"z (m)\")\n",
    "ax.set_xlim(-0.5,8.5)\n",
    "ax.set_ylim(-0.49,0.5)\n",
    "anim = animation.FuncAnimation(fig, animate, fargs = (fig, sc),\n",
    "                               frames = len(objectdata['lon'][0]), blit=True)\n",
    "# anim.save('Figures/object'+str(objectnr)+'-'+filename+'-'+str(runtime.seconds)+'-'+fb+str(d2cmax)+'.mp4')\n",
    "plt.show()"
   ]
  },
  {
   "cell_type": "code",
   "execution_count": 51,
   "metadata": {},
   "outputs": [
    {
     "data": {
      "text/plain": [
       "<xarray.DataArray 'closestobject' (traj: 314, obs: 441)>\n",
       "array([[ 8.,  8.,  8., ...,  3.,  3., 15.],\n",
       "       [ 8.,  8.,  8., ..., 22., 22., 22.],\n",
       "       [ 8.,  8.,  8., ..., 22., 22., 22.],\n",
       "       ...,\n",
       "       [ 8.,  8.,  8., ...,  7.,  7.,  7.],\n",
       "       [ 8.,  8.,  8., ...,  7.,  7.,  7.],\n",
       "       [ 8.,  8.,  8., ...,  7.,  7.,  7.]], dtype=float32)\n",
       "Dimensions without coordinates: traj, obs\n",
       "Attributes:\n",
       "    long_name:      \n",
       "    standard_name:  closestobject\n",
       "    units:          unknown"
      ]
     },
     "execution_count": 51,
     "metadata": {},
     "output_type": "execute_result"
    }
   ],
   "source": [
    "objectdata['closestobject']"
   ]
  },
  {
   "cell_type": "code",
   "execution_count": 52,
   "metadata": {},
   "outputs": [
    {
     "name": "stdout",
     "output_type": "stream",
     "text": [
      "0\n",
      "1\n",
      "2\n",
      "3\n",
      "4\n",
      "5\n",
      "6\n",
      "7\n",
      "8\n",
      "9\n",
      "10\n",
      "11\n",
      "12\n",
      "13\n",
      "14\n",
      "15\n",
      "16\n",
      "17\n",
      "18\n",
      "19\n",
      "20\n",
      "21\n"
     ]
    }
   ],
   "source": [
    "connectivity = np.zeros(len(objects))\n",
    "for i in range(len(objects)):\n",
    "    print(i)\n",
    "    if i != objectnr:\n",
    "        condata = objectdata.where(objectdata['closestobject']==i,drop=True)\n",
    "        condata = condata.where(condata['d2c']<d2cmax)\n",
    "        connectivity[i] = len(condata['closestobject'])/len(objectdata['closestobject'])\n",
    "    else:\n",
    "        connectivity[i] = 1"
   ]
  },
  {
   "cell_type": "code",
   "execution_count": 53,
   "metadata": {},
   "outputs": [
    {
     "data": {
      "text/plain": [
       "163"
      ]
     },
     "execution_count": 53,
     "metadata": {},
     "output_type": "execute_result"
    }
   ],
   "source": [
    "condata = objectdata.where(objectdata['closestobject']==22,drop=True)\n",
    "condata = condata.where(condata['d2c']<d2cmax)\n",
    "len(condata['closestobject'])"
   ]
  },
  {
   "cell_type": "code",
   "execution_count": 54,
   "metadata": {},
   "outputs": [
    {
     "data": {
      "text/plain": [
       "Text(0, 0.5, 'height [m]')"
      ]
     },
     "execution_count": 54,
     "metadata": {},
     "output_type": "execute_result"
    }
   ],
   "source": [
    "from random import shuffle\n",
    "palette = sns.hls_palette(len(objects), l=.7, s=.8)\n",
    "shuffle(palette)\n",
    "my_cmap = ListedColormap(palette)\n",
    "\n",
    "fig = plt.figure(figsize=(18,4))\n",
    "ax = plt.axes()\n",
    "pc = ax.pcolormesh(xmesh,ymesh,index,cmap=my_cmap)\n",
    "for i in range(len(objects)):\n",
    "#     ax.scatter(xmesh[objects[i]],ymesh[objects[i]],s=10,c=[palette[i]])\n",
    "    ax.text(np.mean(xmesh[objects[i]]),np.mean(ymesh[objects[i]]),str(i),horizontalalignment='center', verticalalignment='top')\n",
    "    ax.text(np.mean(xmesh[objects[i]]),np.mean(ymesh[objects[i]])-0.05,str(round(connectivity[i],2)),horizontalalignment='center', verticalalignment='top')\n",
    "# ax.invert_yaxis()\n",
    "ax.set_xlabel(\"x [m]\")\n",
    "ax.set_ylabel(\"height [m]\")"
   ]
  },
  {
   "cell_type": "code",
   "execution_count": 55,
   "metadata": {},
   "outputs": [
    {
     "data": {
      "text/plain": [
       "Text(0, 0.5, 'height [m]')"
      ]
     },
     "execution_count": 55,
     "metadata": {},
     "output_type": "execute_result"
    }
   ],
   "source": [
    "colors =cmocean.cm.amp\n",
    "colors(0.3)\n",
    "\n",
    "fig = plt.figure(figsize=(18,4))\n",
    "ax = plt.axes()\n",
    "# pc = ax.pcolormesh(xmesh,ymesh,np.ma.masked_array(np.ones(index.shape)*connectivity[0],~objects[0]),cmap=my_cmap)\n",
    "for i in range(len(objects)):\n",
    "#     pc = ax.pcolormesh(xmesh,ymesh,np.ma.masked_array(np.ones(index.shape)*connectivity[i],~objects[i]),cmap=cmocean.cm.amp_r)\n",
    "    ax.scatter(xmesh[objects[i]],ymesh[objects[i]],s=10,c=[colors(connectivity[i])]*len(xmesh[objects[i]]))\n",
    "    ax.text(np.mean(xmesh[objects[i]]),np.mean(ymesh[objects[i]]),str(i),horizontalalignment='center', verticalalignment='top')\n",
    "    ax.text(np.mean(xmesh[objects[i]]),np.mean(ymesh[objects[i]])-0.05,str(round(connectivity[i],2)),horizontalalignment='center', verticalalignment='top')\n",
    "# ax.invert_yaxis()\n",
    "ax.set_xlabel(\"x [m]\")\n",
    "ax.set_ylabel(\"height [m]\")"
   ]
  },
  {
   "cell_type": "code",
   "execution_count": 46,
   "metadata": {},
   "outputs": [
    {
     "data": {
      "text/plain": [
       "(230,)"
      ]
     },
     "execution_count": 46,
     "metadata": {},
     "output_type": "execute_result"
    }
   ],
   "source": [
    "ymesh[objects[0]].shape"
   ]
  },
  {
   "cell_type": "code",
   "execution_count": null,
   "metadata": {},
   "outputs": [],
   "source": []
  }
 ],
 "metadata": {
  "kernelspec": {
   "display_name": "Python 3",
   "language": "python",
   "name": "python3"
  },
  "language_info": {
   "codemirror_mode": {
    "name": "ipython",
    "version": 3
   },
   "file_extension": ".py",
   "mimetype": "text/x-python",
   "name": "python",
   "nbconvert_exporter": "python",
   "pygments_lexer": "ipython3",
   "version": "3.7.3"
  }
 },
 "nbformat": 4,
 "nbformat_minor": 4
}
