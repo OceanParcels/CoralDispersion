{
 "cells": [
  {
   "cell_type": "markdown",
   "metadata": {},
   "source": [
    "# Animations\n",
    "\n",
    "This notebook contains the code necessary to create the animations of incoming particles and the particles connecting the different sedentary organisms"
   ]
  },
  {
   "cell_type": "markdown",
   "metadata": {},
   "source": [
    "First we define the data we want to animate. Here we can choose from simulations with different topographies, timesteps, boundary conditions and flow types, depending on the Parcels data available. In the first part of the notebook we will look at the particles entering the domain. In the second part we will look at the particle trajectories connecting the different organisms within the domain."
   ]
  },
  {
   "cell_type": "code",
   "execution_count": 13,
   "metadata": {},
   "outputs": [],
   "source": [
    "foldername = '16objects'\n",
    "tstep = '001'\n",
    "beaching_strategy = '2'\n",
    "flow = 'waveparabolic'\n",
    "fb = 'forward' #variable to determine whether the flowfields are analysed 'forward' or 'backward' in time\n",
    "repeatdt = 0.1"
   ]
  },
  {
   "cell_type": "markdown",
   "metadata": {},
   "source": [
    "Then we import the necessary modules, the first set of which helps manage the data and the second set, which helps with the creation of the figures and animations."
   ]
  },
  {
   "cell_type": "code",
   "execution_count": 14,
   "metadata": {},
   "outputs": [],
   "source": [
    "import numpy as np\n",
    "import xarray as xr\n",
    "from datetime import timedelta\n",
    "\n",
    "import matplotlib as mpl\n",
    "from matplotlib.colors import ListedColormap\n",
    "import matplotlib.pyplot as plt\n",
    "import matplotlib.animation as animation\n",
    "import cmocean\n",
    "import seaborn as sns\n",
    "import random\n",
    "%matplotlib qt"
   ]
  },
  {
   "cell_type": "markdown",
   "metadata": {},
   "source": [
    "Based on the choice of particle simulation, here the flowdata and particledata are opened and the important metadata are written to variables. Also based on the flowdata and the spatial resolution, meshgrids are defined for later drawing of the objects in the flowfield."
   ]
  },
  {
   "cell_type": "code",
   "execution_count": 15,
   "metadata": {},
   "outputs": [],
   "source": [
    "filename = flow+'.nc'   # Flowdata used as input for the particle simulation\n",
    "dfilename = 'r'+str(repeatdt)[2:]+'-B'+beaching_strategy+'-'+flow+'-'+tstep+'-'+fb+'.nc'\n",
    "\n",
    "flowdata = xr.open_dataset(foldername+'/'+filename)\n",
    "data = xr.open_dataset(foldername+'/pfiles/'+dfilename)\n",
    "\n",
    "dx = data.attrs['dx']                                 # Spatial resolution\n",
    "dy = dx                                               # If gridcells are square, dx = dy\n",
    "\n",
    "outputdtlist = data.attrs['outputdt'].split()         # Timestep at which particledata are written\n",
    "outputdt = timedelta(seconds=float(outputdtlist[0]))\n",
    "\n",
    "dtlist = data.attrs['dt'].split()                     # Timestep at which new locations are calculated\n",
    "dt = timedelta(seconds=float(dtlist[0]))\n",
    "\n",
    "runtimelist = data.attrs['runtime'].split()           # Total runtime of the simulation\n",
    "runtime = timedelta(seconds=float(runtimelist[0]))\n",
    "\n",
    "coralfield = np.zeros(flowdata['U'][0,:,:].shape)                                                # Flowdata at t = 0, with solid objects as NaN\n",
    "coralmesh = np.ma.masked_array(coralfield,~np.ma.masked_invalid(flowdata['U'][1,:,:]).mask)      # Array masking all points of the mesh except the solid objects\n",
    "x,y = np.meshgrid(flowdata['X'],flowdata['Y'])                                                   # Meshgrid of x and y coordinates that can be masked to draw objects\n",
    "xmesh,ymesh = np.meshgrid(np.arange(flowdata['X'].values[0]-0.5*dx, flowdata['X'].values[-1]+0.5*dx, dx),\n",
    "                np.arange(flowdata['Y'].values[0]+0.5*dy, flowdata['Y'].values[-1]-1.5*dy, -dy)) # Meshgrid of x and y coordinates staggered with 0.5*dx and 0.5*dy to draw squares at x and y with pcolormesh\n",
    "objects = np.load(foldername+'/preprocessed/'+'objects.npy')                                     # The separated masks of all objects as defined in preprocessing\n",
    "bounds = np.linspace(-0.5,len(objects)+0.5,len(objects)+2)                                       # The bounds for the colormapping of a qualitative color to each object\n",
    "labellist = [0, 1, 3, 4, 6, 7, 9, 10, 11, 12, 13, 15, 16, 17, 19, 21]                            # The numbers of the objects that remain in the run with certain objects left out\n",
    "oblist = [0, 1, 2, 2, 3, 4, 4, 5, 6, 6, 7, 8, 9, 10, 11, 11, 12, 13, 14, 14, 15, 15]"
   ]
  },
  {
   "cell_type": "markdown",
   "metadata": {},
   "source": [
    "Next we define the time values at which to plot the locations of the particles, in this case at each outputdt:"
   ]
  },
  {
   "cell_type": "code",
   "execution_count": 16,
   "metadata": {},
   "outputs": [],
   "source": [
    "plottimes = np.arange(np.nanmin(data['time'].values), np.nanmax(data['time'].values), outputdt)#, dtype='datetime64[ns]')"
   ]
  },
  {
   "cell_type": "markdown",
   "metadata": {},
   "source": [
    "The first animation shows the incoming particles and the objects at which they first end up. In the horizontal bar plot we see the height at which the colored particles enter the domain."
   ]
  },
  {
   "cell_type": "code",
   "execution_count": 17,
   "metadata": {},
   "outputs": [],
   "source": [
    "# Animation of a particleset with particles initialised at the leftside boundary of the domain\n",
    "# Particles that end up entering boundary layers with a thickness of d2cmax are color-coded with the object they reach first.\n",
    "# `data` is the variable name of the xarray dataset with all the particle information\n",
    "\n",
    "d2cmax = 0.05\n",
    "\n",
    "# Find all the objects that are reached so we can color-code them and store the object numbers in `reached`\n",
    "freshdata = data.where(data['d2c']<d2cmax,drop=True) # only particles that enter boundary layers\n",
    "reached = []\n",
    "for i in range(len(freshdata['traj'])):\n",
    "    reached += [int(freshdata['closestobject'].isel(traj=i).dropna('obs')[0])] # the first object that is reached\n",
    "reached = np.array(reached,dtype=int) # first object number for each trajectory\n",
    "if len(objects)<20:\n",
    "    reached = np.array(labellist)[reached]\n",
    "\n",
    "# `edata` is a subset of data with the entire trajectories of the particles that enter boundary layers.\n",
    "# the amount of trajectories is the same as the length of `reached`\n",
    "e = data.where(data['d2c']<d2cmax,drop=True)['trajectory']\n",
    "e = np.nan_to_num(e, nan=-1)\n",
    "e = np.unique(e)\n",
    "edata = data.where(data['trajectory'].isin([e]), drop=True)\n",
    "\n",
    "# Create a color palette for the reached objects and corresponding particles\n",
    "from random import shuffle\n",
    "freshpalette = sns.hls_palette(22, l=.7, s=.8) # the palette of colors that is used to color the objects\n",
    "random.seed(2)\n",
    "random.shuffle(freshpalette)                                               # randomise the colors so that objects close together are clearly distinguishable\n",
    "fresh_cmap = ListedColormap(freshpalette)                           # the scatter plots needs a colormap to color the points based on their values in `reached`\n",
    "freshbounds = np.arange(23)-0.5                # the boundaries of the values in `reached` on which the ListedColormap is projected. Len = len(fresh_cmap)+1\n",
    "\n",
    "fig = plt.figure(figsize=(18,2)) # Initialise an elongated figure to keep correct proportions of the flowfield\n",
    "widths = [1.4, 9]                # Define the relative widths of the barplot and particle animation\n",
    "spec = fig.add_gridspec(ncols=2, nrows=1, width_ratios=widths, wspace=0.01) # 2 columns, 1 for the bar and 1 for the particles\n",
    "\n",
    "# `ax0` is the name of the axis on which the barplot animation is drawn\n",
    "ax0 = fig.add_subplot(spec[0])\n",
    "d  = np.linspace(-0.5,0.5,11)          # Boundaries at which to draw the bars \n",
    "zinits = np.zeros(len(d)-1)            # Initialise the bar lengths\n",
    "ax0.set_xlim(0.,0.8)\n",
    "ax0.invert_xaxis()\n",
    "ax0.set_yticks(d[::2])                 # Label every second bar \n",
    "ax0.set_ylabel(\"Entering height (m)\")\n",
    "ax0.set_xlabel(\"Cumulative fraction of released particles\")\n",
    "ax0.set_ylim(-0.5,0.5)\n",
    "\n",
    "\n",
    "# `ax1` is the name of the variable where the particle animation is drawn\n",
    "ax1 = fig.add_subplot(spec[1])\n",
    "ax1.set_facecolor('#d6fffe') # lightblue background\n",
    "ax1.tick_params(             # Set the height ticks and labels on the right instead of left\n",
    "    which='both',\n",
    "    left=False,\n",
    "    labelleft=False,\n",
    "    right=True,\n",
    "    labelright=True)\n",
    "pc = ax1.pcolormesh(xmesh,ymesh,coralmesh,cmap=cmocean.cm.gray) # draw the coral objects in a gray/black\n",
    "\n",
    "etime = np.where(np.logical_and(edata['time'] >= plottimes[0], edata['time'] < plottimes[1])) # selection of edata to draw at initial timestep\n",
    "dtime = np.where(np.logical_and(data['time'] >= plottimes[0], data['time'] < plottimes[1]))   # selection of other particles to draw in grey\n",
    "\n",
    "sc2 = ax1.scatter(data['lon'].values[dtime], -data['z'].values[dtime], c='lightgray',s=10, marker=\"o\",alpha=0.2) # draw initial grey particles\n",
    "sc = ax1.scatter(edata['lon'].values[etime], -edata['z'].values[etime], c=reached[etime[0]],norm = mpl.colors.BoundaryNorm(freshbounds, fresh_cmap.N),s=10, marker=\"o\",cmap=fresh_cmap)\n",
    "\n",
    "# calculate the barlengths to draw initially in `zinits`\n",
    "z = np.where(np.logical_and(np.logical_and(edata['time'] >= plottimes[0], edata['time'] < plottimes[1]),edata['lon']==flowdata['X'][0].values)) # Particles are initialised at flowdata['X'][0]\n",
    "zs,bins = np.histogram(-edata['z'].values[z],d) # bin the initialised particles in the bins defined for `ax0` above\n",
    "zinits = np.add(zinits,zs)                      # add the initialised particles to the empty bar-lengths\n",
    "barh = ax0.barh(d[:-1],zinits/np.sum(zinits),0.1,align='edge') # draw the horizontal bars with the edge at the bottom boundary of the bin\n",
    "zarray = np.zeros((len(zs),len(data['obs'])-2)) # the array of incoming particle heights at each timestep \n",
    "zarray[:,0] = zs\n",
    "\n",
    "time_text = ax1.text(-1.85, 0.44,'',horizontalalignment='left',verticalalignment='top') # Initialise time ticker\n",
    "\n",
    "# Number the reached objects in a color from the palette\n",
    "for i in range(22):\n",
    "    if i in np.unique(reached): # Only number the relevant objects\n",
    "        if len(objects)>20:\n",
    "            ax1.text(np.mean(x[objects[i]]),np.mean(y[objects[i]])-0.01,str(i),horizontalalignment='center', verticalalignment='center',color = freshpalette[i],weight = 'bold')\n",
    "        else:\n",
    "            ax1.text(np.mean(x[objects[oblist[i]]]),np.mean(y[objects[oblist[i]]])-0.01,str(i),horizontalalignment='center', verticalalignment='center',color = freshpalette[i],weight = 'bold')\n",
    "\n",
    "\n",
    "def animate(i,sc,sc2,zinits,zarray):\n",
    "    # remove the existing bars to be able to redraw them without clearing the other settings for `ax0`\n",
    "    for bar in ax0.containers:\n",
    "        bar.remove()\n",
    "    # calculate the additional length of the bars\n",
    "    z = np.where(np.logical_and(np.logical_and(edata['time'] >= plottimes[i], edata['time'] < plottimes[i+1]),edata['lon']==-0.4921875))\n",
    "    zs,bins = np.histogram(-edata['z'].values[z],d)\n",
    "    zinits += zs # add the amount of particles\n",
    "    zarray[:,i] = zs \n",
    "    ax0.barh(d[:-1],zinits/np.sum(zinits),0.1,align='edge',color='k') # redraw the bars\n",
    "    \n",
    "    # Redraw the particle positions at the correct time\n",
    "    etime = np.where(np.logical_and(edata['time'] >= plottimes[i], edata['time'] < plottimes[i+1]))\n",
    "    dtime = np.where(np.logical_and(data['time'] >= plottimes[i], data['time'] < plottimes[i+1]))\n",
    "    sc2.set_offsets(np.c_[data['lon'].values[dtime], -data['z'].values[dtime]])  # grey particles\n",
    "    sc.set_offsets(np.c_[edata['lon'].values[etime], -edata['z'].values[etime]]) # colored particles \n",
    "    sc.set_array(reached[etime[0]])                                              # set the correct color for the colored particles, important for the newly initialised particles\n",
    "    ts = i*outputdt.total_seconds()                 # Calculate the time\n",
    "    time_text.set_text('time = %.1f seconds' % ts)  # Update the time\n",
    "    return sc,sc2,zinits,zarray\n",
    "\n",
    "ax1.set_xlabel(\"x [m]\")\n",
    "ax1.set_ylabel(\"height (m)\")\n",
    "ax1.yaxis.set_label_position(\"right\")\n",
    "ax1.set_xlim(-0.5,8.5)\n",
    "ax1.set_ylim(-0.5,0.5)\n",
    "anim = animation.FuncAnimation(fig, animate, fargs = (sc,sc2,zinits,zarray),\n",
    "                               frames = len(data['lon'][0])-2)\n",
    "plt.subplots_adjust(bottom=0.22) # Adjust the location of the bottom of the drawn axes so the x-labels are visible\n",
    "# anim.save('Figures/animation'+foldername+'fresh-B'+beaching_strategy+'-'+flow+'-'+fb+'-'+str(runtime.seconds)+'-'+str(d2cmax)[2:]+'.mp4')\n",
    "plt.show()"
   ]
  },
  {
   "cell_type": "markdown",
   "metadata": {},
   "source": [
    "Now for the printed versions of the thesis we want to show the same trajectories but drawn out integrated over time"
   ]
  },
  {
   "cell_type": "code",
   "execution_count": 9,
   "metadata": {},
   "outputs": [
    {
     "ename": "NameError",
     "evalue": "name 'd' is not defined",
     "output_type": "error",
     "traceback": [
      "\u001b[1;31m---------------------------------------------------------------------------\u001b[0m",
      "\u001b[1;31mNameError\u001b[0m                                 Traceback (most recent call last)",
      "\u001b[1;32m<ipython-input-9-2a1ffd85a8af>\u001b[0m in \u001b[0;36m<module>\u001b[1;34m\u001b[0m\n\u001b[0;32m      7\u001b[0m \u001b[0max0\u001b[0m\u001b[1;33m.\u001b[0m\u001b[0mset_xlim\u001b[0m\u001b[1;33m(\u001b[0m\u001b[1;36m0.\u001b[0m\u001b[1;33m,\u001b[0m\u001b[1;36m0.8\u001b[0m\u001b[1;33m)\u001b[0m\u001b[1;33m\u001b[0m\u001b[1;33m\u001b[0m\u001b[0m\n\u001b[0;32m      8\u001b[0m \u001b[0max0\u001b[0m\u001b[1;33m.\u001b[0m\u001b[0minvert_xaxis\u001b[0m\u001b[1;33m(\u001b[0m\u001b[1;33m)\u001b[0m\u001b[1;33m\u001b[0m\u001b[1;33m\u001b[0m\u001b[0m\n\u001b[1;32m----> 9\u001b[1;33m \u001b[0max0\u001b[0m\u001b[1;33m.\u001b[0m\u001b[0mset_yticks\u001b[0m\u001b[1;33m(\u001b[0m\u001b[0md\u001b[0m\u001b[1;33m[\u001b[0m\u001b[1;33m:\u001b[0m\u001b[1;33m:\u001b[0m\u001b[1;36m2\u001b[0m\u001b[1;33m]\u001b[0m\u001b[1;33m)\u001b[0m                 \u001b[1;31m# Label every second bar\u001b[0m\u001b[1;33m\u001b[0m\u001b[1;33m\u001b[0m\u001b[0m\n\u001b[0m\u001b[0;32m     10\u001b[0m \u001b[0max0\u001b[0m\u001b[1;33m.\u001b[0m\u001b[0mset_ylabel\u001b[0m\u001b[1;33m(\u001b[0m\u001b[1;34m\"Entering height (m)\"\u001b[0m\u001b[1;33m)\u001b[0m\u001b[1;33m\u001b[0m\u001b[1;33m\u001b[0m\u001b[0m\n\u001b[0;32m     11\u001b[0m \u001b[0max0\u001b[0m\u001b[1;33m.\u001b[0m\u001b[0mset_xlabel\u001b[0m\u001b[1;33m(\u001b[0m\u001b[1;34m\"Cumulative fraction of released particles\"\u001b[0m\u001b[1;33m)\u001b[0m\u001b[1;33m\u001b[0m\u001b[1;33m\u001b[0m\u001b[0m\n",
      "\u001b[1;31mNameError\u001b[0m: name 'd' is not defined"
     ]
    }
   ],
   "source": [
    "fig = plt.figure(figsize=(18,2)) # Initialise an elongated figure to keep correct proportions of the flowfield\n",
    "widths = [1.4, 9]                # Define the relative widths of the barplot and particle animation\n",
    "spec = fig.add_gridspec(ncols=2, nrows=1, width_ratios=widths, wspace=0.01) # 2 columns, 1 for the bar and 1 for the particles\n",
    "\n",
    "# `ax0` is the name of the axis on which the barplot animation is drawn\n",
    "ax0 = fig.add_subplot(spec[0])\n",
    "ax0.set_xlim(0.,0.8)\n",
    "ax0.invert_xaxis()\n",
    "ax0.set_yticks(d[::2])                 # Label every second bar \n",
    "ax0.set_ylabel(\"Entering height (m)\")\n",
    "ax0.set_xlabel(\"Cumulative fraction of released particles\")\n",
    "ax0.set_ylim(-0.5,0.5)\n",
    "\n",
    "ax0.barh(d[:-1],zinits/np.sum(zinits),0.1,align='edge',color='k')\n",
    "\n",
    "# `ax1` is the name of the variable where the particle animation is drawn\n",
    "ax1 = fig.add_subplot(spec[1])\n",
    "ax1.set_facecolor('#d6fffe') # lightblue background\n",
    "ax1.tick_params(             # Set the height ticks and labels on the right instead of left\n",
    "    which='both',\n",
    "    left=False,\n",
    "    labelleft=False,\n",
    "    right=True,\n",
    "    labelright=True)\n",
    "\n",
    "# traj2 = ax1.plot(data['lon'].values.transpose(), -data['z'].values.transpose(), c='lightgray', alpha=0.2) # draw initial grey particles\n",
    "f,indices = np.unique(reached,return_inverse=True)\n",
    "for i in range(22):\n",
    "    if i in np.unique(reached):\n",
    "        j = np.argwhere(np.unique(reached)==i)\n",
    "        obindices = np.argwhere(indices==j)\n",
    "        fdata = edata.where(edata['traj'].isin(obindices))\n",
    "        ax1.plot(fdata['lon'].values.transpose(), -fdata['z'].values.transpose(), c=freshpalette[i],alpha=0.05,linewidth=1,zorder=1)\n",
    "    \n",
    "pc = ax1.pcolormesh(xmesh,ymesh,coralmesh,cmap=cmocean.cm.gray,zorder=2) # draw the coral objects in a gray/black\n",
    "# Number the reached objects in a color from the palette\n",
    "for i in range(22):\n",
    "    if i in np.unique(reached): # Only number the relevant objects\n",
    "        if len(objects)>20:\n",
    "            ax1.text(np.mean(x[objects[i]]),np.mean(y[objects[i]])-0.01,str(i),horizontalalignment='center', verticalalignment='center',color = freshpalette[i],weight = 'bold',zorder=3)\n",
    "        else:\n",
    "            ax1.text(np.mean(x[objects[oblist[i]]]),np.mean(y[objects[oblist[i]]])-0.01,str(i),horizontalalignment='center', verticalalignment='center',color = freshpalette[i],weight = 'bold',zorder=3)\n",
    "\n",
    "            \n",
    "ax1.set_xlabel(\"x [m]\")\n",
    "ax1.set_ylabel(\"height (m)\")\n",
    "ax1.yaxis.set_label_position(\"right\")\n",
    "ax1.set_xlim(-0.5,8.5)\n",
    "ax1.set_ylim(-0.5,0.5)\n",
    "plt.subplots_adjust(bottom=0.22) # Adjust the location of the bottom of the drawn axes so the x-labels are visible\n",
    "\n",
    "# plt.savefig('Figures/trajectories'+foldername+'fresh-B'+beaching_strategy+'-'+flow+'-'+fb+'-'+str(runtime.seconds)+'-'+str(d2cmax)[2:])"
   ]
  },
  {
   "cell_type": "code",
   "execution_count": 18,
   "metadata": {},
   "outputs": [],
   "source": [
    "fig = plt.figure(figsize=(16,2)) # Initialise an elongated figure to keep correct proportions of the flowfield\n",
    "widths = [1.4, 9]                # Define the relative widths of the barplot and particle animation\n",
    "ax1 = plt.axes()\n",
    "\n",
    "# `ax1` is the name of the variable where the particle animation is drawn\n",
    "ax1.set_facecolor('#d6fffe') # lightblue background\n",
    "ax1.tick_params(             # Set the height ticks and labels on the right instead of left\n",
    "    which='both',\n",
    "    left=False,\n",
    "    labelleft=False,\n",
    "    right=True,\n",
    "    labelright=True)\n",
    "\n",
    "# traj2 = ax1.plot(data['lon'].values.transpose(), -data['z'].values.transpose(), c='lightgray', alpha=0.2) # draw initial grey particles\n",
    "f,indices = np.unique(reached,return_inverse=True)\n",
    "for i in range(22):\n",
    "    if i in np.unique(reached):\n",
    "        j = np.argwhere(np.unique(reached)==i)\n",
    "        obindices = np.argwhere(indices==j)\n",
    "        fdata = edata.where(edata['traj'].isin(obindices))\n",
    "        ax1.plot(fdata['lon'].values.transpose(), -fdata['z'].values.transpose(), c=freshpalette[i],alpha=0.05,linewidth=1,zorder=1)\n",
    "    \n",
    "pc = ax1.pcolormesh(xmesh,ymesh,coralmesh,cmap=cmocean.cm.gray,zorder=2) # draw the coral objects in a gray/black\n",
    "# Number the reached objects in a color from the palette\n",
    "for i in range(22):\n",
    "    if i in np.unique(reached): # Only number the relevant objects\n",
    "        if len(objects)>20:\n",
    "            ax1.text(np.mean(x[objects[i]]),np.mean(y[objects[i]])-0.01,str(i),horizontalalignment='center', verticalalignment='center',color = freshpalette[i],weight = 'bold',zorder=3)\n",
    "        else:\n",
    "            ax1.text(np.mean(x[objects[oblist[i]]]),np.mean(y[objects[oblist[i]]])-0.01,str(i),horizontalalignment='center', verticalalignment='center',color = freshpalette[i],weight = 'bold',zorder=3)\n",
    "\n",
    "            \n",
    "ax1.set_xlabel(\"x [m]\")\n",
    "ax1.set_ylabel(\"height (m)\")\n",
    "ax1.yaxis.set_label_position(\"right\")\n",
    "ax1.set_xlim(-0.5,8.5)\n",
    "ax1.set_ylim(-0.5,0.5)\n",
    "plt.subplots_adjust(bottom=0.22) # Adjust the location of the bottom of the drawn axes so the x-labels are visible\n",
    "\n",
    "plt.savefig('Figures/trajectoriesonly'+foldername+'fresh-B'+beaching_strategy+'-'+flow+'-'+fb+'-'+str(runtime.seconds)+'-'+str(d2cmax)[2:])"
   ]
  },
  {
   "cell_type": "markdown",
   "metadata": {},
   "source": [
    "Now it is smart to save the entering heights of the particles so we can compare them later"
   ]
  },
  {
   "cell_type": "code",
   "execution_count": 58,
   "metadata": {},
   "outputs": [],
   "source": [
    "np.save(foldername+'/postprocessed/zinits'+beaching_strategy+'-'+flow+'-'+fb+'-'+str(runtime.seconds)+'-'+str(d2cmax)[2:],zinits, allow_pickle=True)"
   ]
  },
  {
   "cell_type": "code",
   "execution_count": null,
   "metadata": {},
   "outputs": [],
   "source": [
    "dfilename = 'B'+beaching_strategy+'-'+flow+'-'+tstep+'-'+fb+'.nc'\n",
    "\n",
    "data = xr.open_dataset(foldername+'/pfiles/'+dfilename)\n",
    "\n",
    "dx = data.attrs['dx']                                 # Spatial resolution\n",
    "dy = dx                                               # If gridcells are square, dx = dy\n",
    "\n",
    "outputdtlist = data.attrs['outputdt'].split()         # Timestep at which particledata are written\n",
    "outputdt = timedelta(seconds=float(outputdtlist[0]))\n",
    "\n",
    "dtlist = data.attrs['dt'].split()                     # Timestep at which new locations are calculated\n",
    "dt = timedelta(seconds=float(dtlist[0]))\n",
    "\n",
    "runtimelist = data.attrs['runtime'].split()           # Total runtime of the simulation\n",
    "runtime = timedelta(seconds=float(runtimelist[0]))"
   ]
  },
  {
   "cell_type": "markdown",
   "metadata": {},
   "source": [
    "Maybe make some nice animations for the network particles?"
   ]
  },
  {
   "cell_type": "code",
   "execution_count": null,
   "metadata": {},
   "outputs": [],
   "source": [
    "no"
   ]
  },
  {
   "cell_type": "markdown",
   "metadata": {},
   "source": [
    "Make some figures for in the methods"
   ]
  },
  {
   "cell_type": "code",
   "execution_count": 20,
   "metadata": {},
   "outputs": [],
   "source": [
    "from matplotlib.colors import ListedColormap, Normalize\n",
    "flow = 'waveparabolic'\n",
    "flowdata = xr.open_dataset('21objects/'+flow+'.nc')\n",
    "objects = np.load('21objects/preprocessed/'+'objects.npy')                                     # The separated masks of all objects as defined in preprocessing\n",
    "distancemap = np.load('21objects/preprocessed/distancemap.npy')\n",
    "bordermap = np.load('21objects/preprocessed/bordermap.npy')\n",
    "closestobject = np.load('21objects/preprocessed/closestobject.npy')\n",
    "umask = np.ma.masked_invalid(flowdata['U'][0,:,:])                    # retrieve mask from flowfield to take out points over coral objects\n",
    "index = np.ma.masked_array(closestobject,umask.mask)\n",
    "labellist = [0,1,3,4,6,7,9,10,11,12,13,15,16,17,19,21]"
   ]
  },
  {
   "cell_type": "code",
   "execution_count": 21,
   "metadata": {},
   "outputs": [],
   "source": [
    "%matplotlib qt\n",
    "\n",
    "import random\n",
    "freshpalette = sns.hls_palette(22, l=.7, s=.8) # the palette of colors that is used to color the objects\n",
    "random.seed(2)\n",
    "random.shuffle(freshpalette)                                               # randomise the colors so that objects close together are clearly distinguishable\n",
    "fresh_cmap = ListedColormap(freshpalette)                           # the scatter plots needs a colormap to color the points based on their values in `reached`\n",
    "freshbounds = np.arange(23)-0.5   \n",
    "# ob_cmap = ListedColormap(palette[:-1])\n",
    "# part_cmap = ListedColormap(palette)\n",
    "\n",
    "fig = plt.figure(figsize=(18,2))\n",
    "ax = plt.axes()\n",
    "pc = ax.pcolormesh(xmesh,ymesh,index,cmap=fresh_cmap)\n",
    "for i in range(len(objects)):\n",
    "#     ax.scatter(xmesh[objects[i]],ymesh[objects[i]],s=10,c=[palette[i]])\n",
    "    ax.text(np.mean(x[objects[i]]),np.mean(y[objects[i]]),str(i),horizontalalignment='center', verticalalignment='center',weight='bold')\n",
    "# ax.invert_yaxis()\n",
    "ax.tick_params(axis='both', which='major', labelsize=12)\n",
    "ax.tick_params(axis='both', which='minor', labelsize=8)\n",
    "ax.set_xlabel(\"x [m]\",fontsize = 15)\n",
    "ax.set_ylabel(\"Height [m]\",fontsize = 15)\n",
    "plt.subplots_adjust(bottom=0.3)\n",
    "plt.savefig('Figures/closestobject')"
   ]
  },
  {
   "cell_type": "code",
   "execution_count": 39,
   "metadata": {},
   "outputs": [],
   "source": [
    "fig = plt.figure(figsize=(18,2))\n",
    "ax = plt.axes()\n",
    "pc = ax.pcolormesh(xmesh,ymesh,distancemap,cmap='cmo.amp')\n",
    "for i in range(len(objects)):\n",
    "#     ax.scatter(xmesh[objects[i]],ymesh[objects[i]],s=10,c=[palette[i]])\n",
    "    ax.text(np.mean(x[objects[i]]),np.mean(y[objects[i]]),str(i),horizontalalignment='center', verticalalignment='center',weight='bold')\n",
    "# ax.invert_yaxis()\n",
    "ax.tick_params(axis='both', which='major', labelsize=12)\n",
    "ax.tick_params(axis='both', which='minor', labelsize=8)\n",
    "ax.set_xlabel(\"x [m]\",fontsize = 15)\n",
    "ax.set_ylabel(\"Height [m]\",fontsize = 15)\n",
    "cbar_ax = fig.add_axes([0.905, 0.3, 0.01, 0.575])\n",
    "cbar = fig.colorbar(pc,cax=cbar_ax)\n",
    "cbar.set_label('Distance [m]',size=12)\n",
    "cbar.ax.tick_params(labelsize=10)\n",
    "plt.subplots_adjust(bottom=0.3)\n",
    "plt.savefig('Figures/distancemap')"
   ]
  },
  {
   "cell_type": "code",
   "execution_count": null,
   "metadata": {},
   "outputs": [],
   "source": []
  }
 ],
 "metadata": {
  "kernelspec": {
   "display_name": "Python 3",
   "language": "python",
   "name": "python3"
  },
  "language_info": {
   "codemirror_mode": {
    "name": "ipython",
    "version": 3
   },
   "file_extension": ".py",
   "mimetype": "text/x-python",
   "name": "python",
   "nbconvert_exporter": "python",
   "pygments_lexer": "ipython3",
   "version": "3.7.3"
  }
 },
 "nbformat": 4,
 "nbformat_minor": 4
}
